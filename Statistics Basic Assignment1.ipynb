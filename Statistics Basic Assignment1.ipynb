{
 "cells": [
  {
   "cell_type": "markdown",
   "id": "95036ac7-d4fb-4c90-a136-1f2fe6afa193",
   "metadata": {},
   "source": [
    "Q1. What is Statistics?"
   ]
  },
  {
   "cell_type": "code",
   "execution_count": 1,
   "id": "ae48a8b1-a255-47cc-b0f5-230c264ac488",
   "metadata": {},
   "outputs": [],
   "source": [
    "## Statistics is a branch of mathematics that deals with the collection, analysis, interpretation, presentation, and organization of numerical data.\n",
    "#  The main goal of statistics is to extract meaningful information from data, often through the use of \n",
    "#   statistical methods, models, and techniques. These methods can include data collection, summarization etc."
   ]
  },
  {
   "cell_type": "markdown",
   "id": "4f907674-f5fa-43f2-9998-289f4acbeb14",
   "metadata": {},
   "source": [
    "Q2. Define the different types of statistics and give an example of when each type might be used."
   ]
  },
  {
   "cell_type": "code",
   "execution_count": 2,
   "id": "7668c7ab-3a2b-46a0-89d4-95503173e3d3",
   "metadata": {},
   "outputs": [],
   "source": [
    "# there are two types of statistics are as follow:-\n",
    "\n",
    "## 1) Descriptive Statistics:\n",
    "\n",
    "#     Descriptive statistics involves summarizing and describing data using numerical measures, graphs, and charts. \n",
    "#     It focuses on organizing and presenting data in a meaningful way to understand its characteristics.\n",
    "\n",
    "## EXAMPLE:-\n",
    "\n",
    "#       Suppose a company wants to understand the sales performance of its products in different regions. \n",
    "#       They can calculate the mean, median, and standard deviation of sales figures to get an overview of the average sales, \n",
    "#       the middle value, and the spread of sales across regions. They can also create bar charts or pie charts to visualize the sales distribution across regions.\n",
    "\n",
    "\n",
    "## 2) Inferential Statistics:\n",
    "\n",
    "#     Inferential statistics involves making inferences and generalizations about a population based on sample data. \n",
    "#     It uses probability theory and statistical techniques to draw conclusions and make predictions or decisions. \n",
    "#     Inferential statistics is used when we want to make statements about a larger group or population based on a smaller subset of data.\n",
    "\n",
    "## EXAMPLE :-\n",
    "\n",
    "#     A political pollster wants to estimate the percentage of voters who support a particular candidate in a country. \n",
    "#     Instead of surveying the entire population, they can randomly select a sample of voters and estimate the candidate's support based on the sample.\n",
    "#     By using inferential statistics, such as confidence intervals or hypothesis testing, they can make statements about the candidate's \n",
    "#     popularity among the entire population."
   ]
  },
  {
   "cell_type": "markdown",
   "id": "1a078c67-7d62-40db-a129-2e193b7821ba",
   "metadata": {},
   "source": [
    "Q3.  What are the different types of data and how do they differ from each other? Provide an example of \n",
    "each type of data."
   ]
  },
  {
   "cell_type": "code",
   "execution_count": 3,
   "id": "ed7984b8-91bb-451d-8a94-c3af4becc1c1",
   "metadata": {},
   "outputs": [],
   "source": [
    "# 1) Qualitative Data: Qualitative data describes qualities, characteristics, or attributes that cannot be measured numerically. \n",
    "#                      It is subjective and often obtained through observations, interviews, or surveys. \n",
    "                \n",
    "# Qualitative data can be further categorized into:\n",
    "\n",
    "# A) Nominal Data: Nominal data consists of categories with no inherent order or ranking. Each category is mutually exclusive. \n",
    "#                  Examples include gender (male, female, other) or colors (red, blue, green).\n",
    "\n",
    "# B) Ordinal Data: Ordinal data has categories with a specific order or ranking. The categories are meaningful and can be compared. \n",
    "#                  Examples include educational levels (high school, college, graduate) or rating scales (poor, fair, good, excellent).\n",
    "\n",
    "# 2) Quantitative Data: Quantitative data represents numerical values that can be measured or counted. \n",
    "#                       It is obtained through direct measurement, sensors, or calculations. \n",
    "#  Quantitative data can be further classified into:\n",
    "\n",
    "# A) Discrete Data: Discrete data consists of whole numbers or integers that have specific values and cannot be subdivided. \n",
    "#                   Examples include the number of siblings (1, 2, 3) or the number of cars in a parking lot.\n",
    "\n",
    "# B) Continuous Data: Continuous data can take any value within a range and can be subdivided into finer increments. \n",
    "#                     It often includes measurements and is typically represented with decimal points. \n",
    "#                     Examples include height (168.5 cm) or temperature (25.3°C)."
   ]
  },
  {
   "cell_type": "markdown",
   "id": "91a91aee-e480-4d31-bbd0-6c00762a707a",
   "metadata": {},
   "source": [
    "Q4. Categorise the following datasets with respect to quantitative and qualitative data types:\n",
    "\n",
    "(i)\tGrading in exam: A+, A, B+, B, C+, C, D, E\n",
    "\n",
    "(ii)\tColour of mangoes: yellow, green, orange, red\n",
    "\n",
    "(iii)\tHeight data of a class: [178.9, 179, 179.5, 176, 177.2, 178.3, 175.8,...]\n",
    "\n",
    "(iv)\tNumber of mangoes exported by a farm: [500, 600, 478, 672, …]"
   ]
  },
  {
   "cell_type": "code",
   "execution_count": 4,
   "id": "ecc10308-354a-46ae-a84e-bbb6191ef7f5",
   "metadata": {},
   "outputs": [],
   "source": [
    "## (i) Grading in exam: A+, A, B+, B, C+, C, D, E\n",
    "\n",
    "#      This dataset represents qualitative data because it consists of categories or labels without any inherent order or numerical value assigned to them.\n",
    "\n",
    "## (ii) Colour of mangoes: yellow, green, orange, red\n",
    "\n",
    "#       This dataset represents qualitative data as well.\n",
    "\n",
    "## (iii) Height data of a class: [178.9, 179, 179.5, 176, 177.2, 178.3, 175.8,...]\n",
    "\n",
    "#        This dataset represents quantitative data because it consists of numerical values that can be measured and compared. \n",
    "\n",
    "## (iv) Number of mangoes exported by a farm: [500, 600, 478, 672, …]\n",
    "\n",
    "#       This dataset also represents quantitative data. "
   ]
  },
  {
   "cell_type": "markdown",
   "id": "bd83595e-243d-4d41-955d-e2f6a5b6fa17",
   "metadata": {},
   "source": [
    "Q5. Explain the concept of levels of measurement and give an example of a variable for each level."
   ]
  },
  {
   "cell_type": "code",
   "execution_count": 5,
   "id": "e21937c4-1e8d-40c8-bb56-7fb812717c3b",
   "metadata": {},
   "outputs": [],
   "source": [
    "# Levels of measurement, also known as scales of measurement or data levels, are a way to classify variables based on their properties and \n",
    "# the mathematical operations that can be performed on them.\n",
    "\n",
    "## There are four main levels of measurement:\n",
    "\n",
    "# 1) Nominal Level: At the nominal level, variables are categorical and have categories or labels without any inherent order or ranking. \n",
    "#     Variables at this level can only be classified into distinct categories. \n",
    "\n",
    "# Examples\n",
    "  # Gender: Male, Female, Other.\n",
    "\n",
    "# 2) Ordinal Level: At the ordinal level, variables have categories with a specific order or ranking. The categories can be compared and ranked, \n",
    "#   but the magnitude of the difference between them is not defined. \n",
    "\n",
    "# Examples:\n",
    "# Educational Level: High School, College, Graduate.\n",
    "\n",
    "# 3) Interval Level: At the interval level, variables have ordered categories, and the difference between values is meaningful and consistent. \n",
    "#  However, the absence of a true zero point characterizes this level. \n",
    "\n",
    "#Examples :\n",
    "# Temperature: 25°C, 30°C, 35°C.\n",
    "\n",
    "# 4) Ratio Level: The ratio level is the highest level of measurement. Variables at this level have ordered categories,\n",
    "#    a consistent difference between values, and a true zero point. Ratio variables allow for all mathematical operations. \n",
    "\n",
    "# Examples include:\n",
    "# Height: 150 cm, 160 cm, 170 cm."
   ]
  },
  {
   "cell_type": "markdown",
   "id": "087041c9-04f9-45f3-afb1-cfb0e58697c8",
   "metadata": {},
   "source": [
    "Q6. Why is it important to understand the level of measurement when analyzing data? Provide an \n",
    "example to illustrate your answer."
   ]
  },
  {
   "cell_type": "code",
   "execution_count": 6,
   "id": "55b914c9-0580-43e4-85bc-5ddfd8ed5774",
   "metadata": {},
   "outputs": [],
   "source": [
    "## Understanding the level of measurement when analyzing data is essential because it determines the appropriate statistical techniques, \n",
    "#  operations, and interpretations that can be applied to the data.\n",
    "\n",
    "\n",
    "#Suppose you are conducting a research study to examine the relationship between age and income in a population. \n",
    "# You collect data from 100 individuals, recording their age and income. \n",
    "# Let's consider two scenarios:\n",
    "\n",
    "## Scenario 1: Treating Age as Nominal and Income as Ratio\n",
    "#              If you incorrectly treat age as a nominal variable (categories like \"20-30,\" \"30-40,\" etc.) and income as a ratio variable \n",
    "#               you may erroneously calculate the mean age or try to calculate correlations between age and income. \n",
    "#              However, treating age as nominal prevents meaningful calculations like mean or correlation since there is no inherent numerical \n",
    "#              representation or order in the categories. This leads to incorrect analysis and misleading conclusions.\n",
    "\n",
    "## Scenario 2: Treating Age as Ratio and Income as Nominal\n",
    "#              If you mistakenly treat age as a ratio variable (continuous numerical value) and income as a nominal variable\n",
    "#              (categories like \"low income,\" \"middle income,\" \"high income\"), you may inaccurately analyze the data. \n",
    "#             Treating income as nominal restricts you from performing appropriate statistical calculations like mean or regression analysis,\n",
    "#             which require numerical values. This misinterpretation can lead to faulty conclusions and incorrect inferences about the relationship between age and income.\n",
    "\n",
    "## In both scenarios, incorrect understanding of the level of measurement can lead to flawed analyses and erroneous conclusions. \n",
    "#  However, by correctly recognizing age as a ratio variable and income as a nominal variable, you can employ suitable statistical techniques\n",
    "#  such as correlation analysis, regression analysis, or appropriate visualization methods to explore the relationship between age and income accurately."
   ]
  },
  {
   "cell_type": "markdown",
   "id": "208848d0-dee3-4439-9c1e-749255e11ff3",
   "metadata": {},
   "source": [
    "Q7. How nominal data type is different from ordinal data type."
   ]
  },
  {
   "cell_type": "code",
   "execution_count": 7,
   "id": "5c82e2e7-5da1-4ad7-9a96-47c1dc9e3f32",
   "metadata": {},
   "outputs": [],
   "source": [
    "# Nominal data and ordinal data are both types of categorical data, but they differ in terms of the properties and characteristics of the categories.\n",
    "\n",
    "## Key Differences:\n",
    "\n",
    "## Order: Nominal data has no inherent order or ranking, while ordinal data has a meaningful order or hierarchy among the categories.\n",
    "## Magnitude: Nominal data lacks a quantitative interpretation or measurement, whereas ordinal data indicates relative positions \n",
    "#             but may not have consistent or quantifiable differences between categories.\n",
    "## Statistical Operations: Nominal data allows for basic frequency counts and mode calculation. In contrast, ordinal data enables additional \n",
    "#                          operations such as rank-ordering, median calculation, and non-parametric statistical analyses.\n",
    "## Mathematical Operations: Nominal data cannot undergo mathematical operations like addition, subtraction, or multiplication. \n",
    "#                           Ordinal data, while having a meaningful order, does not permit precise mathematical calculations due to potential \n",
    "#                           inconsistencies in the differences between categories."
   ]
  },
  {
   "cell_type": "markdown",
   "id": "765698bc-d973-4e71-8a12-c9d41d4530f3",
   "metadata": {},
   "source": [
    "Q8. Which type of plot can be used to display data in terms of range?"
   ]
  },
  {
   "cell_type": "code",
   "execution_count": 8,
   "id": "8c045f17-0690-46e8-a6d1-1eec1c12f0ca",
   "metadata": {},
   "outputs": [],
   "source": [
    "# A box plot (also known as a box-and-whisker plot) is commonly used to display data in terms of range.\n",
    "# The box plot provides a visual representation of the distribution and variability of a dataset, including \n",
    "#  its minimum, maximum, quartiles, and outliers. It effectively summarizes the range of values within a dataset."
   ]
  },
  {
   "cell_type": "markdown",
   "id": "2fcdf3b5-39e2-44a2-9d34-852fe88d5dbf",
   "metadata": {},
   "source": [
    "Q9. Describe the difference between descriptive and inferential statistics. Give an example of each \n",
    "type of statistics and explain how they are used."
   ]
  },
  {
   "cell_type": "code",
   "execution_count": 9,
   "id": "114f60c2-88a5-4eee-929e-003719e216d5",
   "metadata": {},
   "outputs": [],
   "source": [
    "## Descriptive statistics and inferential statistics are two branches of statistical analysis that serve distinct purposes in understanding and interpreting data. \n",
    "\n",
    "#  Here's an overview of their differences, along with examples and applications:\n",
    "\n",
    "## Descriptive Statistics:\n",
    "\n",
    "# Descriptive statistics summarize and describe the main features or characteristics of a dataset.\n",
    "# They provide a concise summary of the data through measures such as central tendency (mean, median, mode) and measures of variability (range, standard deviation, variance).\n",
    "# Descriptive statistics aim to describe and summarize the data in a meaningful and interpretable way.\n",
    "# Examples of descriptive statistics include calculating the average score of a class, finding the range of temperatures recorded in a week,\n",
    "#       or determining the percentage of customers who rated a product positively in a survey.\n",
    "\n",
    "## Usage :- Descriptive statistics are commonly used in data exploration, summarizing data for reporting or presenting, and gaining initial insights into the dataset.\n",
    "\n",
    "##  Inferential Statistics:\n",
    "\n",
    "# Inferential statistics involves making inferences, generalizations, or predictions about a larger population based on a smaller sample of data.\n",
    "# Inferential statistics use probability theory and sampling techniques to draw conclusions or make statements about the population.\n",
    "# They analyze the relationships between variables, test hypotheses, estimate parameters, and assess the significance of results.\n",
    "# Examples of inferential statistics include conducting hypothesis tests (e.g., t-tests, chi-square tests), performing regression analysis, \n",
    "#        calculating confidence intervals, or analyzing variance (ANOVA).\n",
    "\n",
    "## Usages :- Inferential statistics are extensively used in research studies, opinion polling, medical trials, quality control, and other applications where \n",
    "#         generalizations or predictions about a larger population are required based on sample data."
   ]
  },
  {
   "cell_type": "markdown",
   "id": "e92d579b-5960-4d6b-8a98-8972ce57a26e",
   "metadata": {},
   "source": [
    "Q10. What are some common measures of central tendency and variability used in statistics? Explain \n",
    "how each measure can be used to describe a dataset."
   ]
  },
  {
   "cell_type": "code",
   "execution_count": 10,
   "id": "20f2a07a-dd06-437b-a836-8b112e05f813",
   "metadata": {},
   "outputs": [],
   "source": [
    "#  statistics, measures of central tendency and variability are used to understand and describe the characteristics of a dataset.\n",
    "\n",
    "# Here are some common measures and their applications:-\n",
    "\n",
    "## Measures of Central Tendency:\n",
    "\n",
    "# 1) Mean: The mean is the average of a dataset calculated by summing all the values and dividing by the number of observations. \n",
    "#          It provides a measure of the central value around which the data points tend to cluster. \n",
    "#          The mean is sensitive to extreme values and is useful when the data is normally distributed or symmetrical.\n",
    "\n",
    "# 2) Median: The median is the middle value in an ordered dataset, separating the data into two equal halves. \n",
    "#             It is less affected by extreme values and is a robust measure of central tendency. The median is appropriate when the data is skewed or contains outliers.\n",
    "\n",
    "# 3) Mode: The mode represents the most frequently occurring value(s) in a dataset. It is useful for identifying the most common category or value. \n",
    "#          The mode is applicable to categorical or discrete data and can be used to describe the dominant feature of the dataset.\n",
    "\n",
    "## Measures of Variability:\n",
    "\n",
    "# 1) Range: The range is the difference between the maximum and minimum values in a dataset. It provides a simple measure of the spread or dispersion of the data. \n",
    "#            However, it is sensitive to extreme values and doesn't capture the distribution of values within the dataset.\n",
    "\n",
    "# 2) Variance: Variance quantifies the average squared deviation of each data point from the mean. It measures the spread of data around the mean, \n",
    "#              considering all values in the dataset. However, the variance is expressed in squared units, making it less interpretable.\n",
    "\n",
    "# 3) Standard Deviation: The standard deviation is the square root of the variance. It provides a more interpretable measure of variability in the original units of the data.\n",
    "#                         The standard deviation is widely used as it summarizes the dispersion of data relative to the mean.\n",
    "\n",
    "# 4) Interquartile Range (IQR): The IQR is the range between the first quartile (Q1) and the third quartile (Q3) of a dataset. \n",
    "#                               It represents the spread of the middle 50% of the data, making it less affected by outliers. The IQR is useful for assessing \n",
    "#                               the spread in skewed or non-normally distributed data."
   ]
  },
  {
   "cell_type": "code",
   "execution_count": null,
   "id": "87192e4c-f786-4437-a457-b2b5f947e6d0",
   "metadata": {},
   "outputs": [],
   "source": []
  }
 ],
 "metadata": {
  "kernelspec": {
   "display_name": "Python 3 (ipykernel)",
   "language": "python",
   "name": "python3"
  },
  "language_info": {
   "codemirror_mode": {
    "name": "ipython",
    "version": 3
   },
   "file_extension": ".py",
   "mimetype": "text/x-python",
   "name": "python",
   "nbconvert_exporter": "python",
   "pygments_lexer": "ipython3",
   "version": "3.10.8"
  }
 },
 "nbformat": 4,
 "nbformat_minor": 5
}
