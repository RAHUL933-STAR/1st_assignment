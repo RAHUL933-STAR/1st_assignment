{
 "cells": [
  {
   "cell_type": "markdown",
   "id": "d1044600-24cb-4ca7-b9d3-b3fcfac03817",
   "metadata": {},
   "source": [
    "Q1. What is an Exception in Python? Write the difference between Exception and Syntax errors."
   ]
  },
  {
   "cell_type": "code",
   "execution_count": 1,
   "id": "da96e75c-b85c-41db-8d17-207ddb53374a",
   "metadata": {},
   "outputs": [],
   "source": [
    "## Exception :- When an exception is raised, it can be caught and handled by an exception handler, preventing the program from terminating abruptly."
   ]
  },
  {
   "cell_type": "code",
   "execution_count": 2,
   "id": "0d61323a-d12d-4adb-a12e-b007096c53eb",
   "metadata": {},
   "outputs": [],
   "source": [
    "## Difference :- Exception Can be caught and handled using the try and except statements and Exceptions can be raised explicitly using the raise statement.\n",
    "## while Syntax Cannot be caught and handled using try and except statements since they prevent the program from running and Syntax errors need to be fixed by correcting the code before running the program"
   ]
  },
  {
   "cell_type": "markdown",
   "id": "3ba90e9e-17bc-49a1-b9ce-b1303f9ddefc",
   "metadata": {},
   "source": [
    "Q2. What happens when an exception is not handled? explain with an example. "
   ]
  },
  {
   "cell_type": "code",
   "execution_count": 3,
   "id": "870af1de-102d-4e2b-91ed-f699bc790de2",
   "metadata": {},
   "outputs": [
    {
     "ename": "ZeroDivisionError",
     "evalue": "division by zero",
     "output_type": "error",
     "traceback": [
      "\u001b[0;31m---------------------------------------------------------------------------\u001b[0m",
      "\u001b[0;31mZeroDivisionError\u001b[0m                         Traceback (most recent call last)",
      "Cell \u001b[0;32mIn[3], line 11\u001b[0m\n\u001b[1;32m      8\u001b[0m num1 \u001b[38;5;241m=\u001b[39m \u001b[38;5;241m10\u001b[39m\n\u001b[1;32m      9\u001b[0m num2 \u001b[38;5;241m=\u001b[39m \u001b[38;5;241m0\u001b[39m\n\u001b[0;32m---> 11\u001b[0m result \u001b[38;5;241m=\u001b[39m \u001b[43mdivide\u001b[49m\u001b[43m(\u001b[49m\u001b[43mnum1\u001b[49m\u001b[43m,\u001b[49m\u001b[43m \u001b[49m\u001b[43mnum2\u001b[49m\u001b[43m)\u001b[49m\n\u001b[1;32m     12\u001b[0m \u001b[38;5;28mprint\u001b[39m(\u001b[38;5;124m\"\u001b[39m\u001b[38;5;124mResult:\u001b[39m\u001b[38;5;124m\"\u001b[39m, result)\n",
      "Cell \u001b[0;32mIn[3], line 5\u001b[0m, in \u001b[0;36mdivide\u001b[0;34m(a, b)\u001b[0m\n\u001b[1;32m      4\u001b[0m \u001b[38;5;28;01mdef\u001b[39;00m \u001b[38;5;21mdivide\u001b[39m(a, b):\n\u001b[0;32m----> 5\u001b[0m     result \u001b[38;5;241m=\u001b[39m \u001b[43ma\u001b[49m\u001b[43m \u001b[49m\u001b[38;5;241;43m/\u001b[39;49m\u001b[43m \u001b[49m\u001b[43mb\u001b[49m\n\u001b[1;32m      6\u001b[0m     \u001b[38;5;28;01mreturn\u001b[39;00m result\n",
      "\u001b[0;31mZeroDivisionError\u001b[0m: division by zero"
     ]
    }
   ],
   "source": [
    "## When an exception is not handled, it leads to what is called an \"unhandled exception.\" In such cases, the normal flow of the program is disrupted, and the program terminates abruptly.  \n",
    "## Example :-\n",
    "\n",
    "def divide(a, b):\n",
    "    result = a / b\n",
    "    return result\n",
    "\n",
    "num1 = 10\n",
    "num2 = 0\n",
    "\n",
    "result = divide(num1, num2)\n",
    "print(\"Result:\", result)"
   ]
  },
  {
   "cell_type": "markdown",
   "id": "c2ea7e27-064e-413c-8f5f-5dac68360f3f",
   "metadata": {},
   "source": [
    "Q3. Which Python statements are used to catch and handle Exceptions? Explain with an example. "
   ]
  },
  {
   "cell_type": "code",
   "execution_count": 4,
   "id": "5224d979-2ad0-4b3d-9fc2-7888f1e8814a",
   "metadata": {},
   "outputs": [
    {
     "name": "stdout",
     "output_type": "stream",
     "text": [
      "division by zero\n"
     ]
    }
   ],
   "source": [
    "# In Python, the try and except statements are used to catch and handle exceptions. \n",
    "## Example :-\n",
    "try:\n",
    "    a = 10/0\n",
    "except ZeroDivisionError as e:\n",
    "    print(e)"
   ]
  },
  {
   "cell_type": "markdown",
   "id": "bef29090-86a7-4f61-a7ec-b216db82638d",
   "metadata": {},
   "source": [
    "Q4. Explain with an example :\n",
    "   A. try and else\n",
    "   B. finally\n",
    "   C. raise"
   ]
  },
  {
   "cell_type": "code",
   "execution_count": 5,
   "id": "2eabdbfa-3f2c-4b82-bd3f-86ddae81ac70",
   "metadata": {},
   "outputs": [
    {
     "name": "stdout",
     "output_type": "stream",
     "text": [
      "thi is except block [Errno 2] No such file or directory: 'try.txt'\n"
     ]
    }
   ],
   "source": [
    "# Example A :-\n",
    "\n",
    "try:\n",
    "    f = open(\"try.txt\", 'r')\n",
    "    f.write(\"this is my try file\")\n",
    "    \n",
    "except Exception as e:\n",
    "    print(\"thi is except block\", e)\n",
    "else:\n",
    "    f.close()\n",
    "    print(\"finally i closed my file try.txt\")"
   ]
  },
  {
   "cell_type": "code",
   "execution_count": 7,
   "id": "bb577216-4e85-4395-92e9-565925350d6d",
   "metadata": {},
   "outputs": [
    {
     "name": "stdout",
     "output_type": "stream",
     "text": [
      "finally it is executed\n"
     ]
    }
   ],
   "source": [
    "# example B :-\n",
    "\n",
    "try:\n",
    "    f = open(\"Rahul.txt\", 'w')\n",
    "    f.write(\"this is file of my own name\")\n",
    "finally:\n",
    "    f.close()\n",
    "    print(\"finally it is executed\")"
   ]
  },
  {
   "cell_type": "code",
   "execution_count": 8,
   "id": "701de705-2ea0-4eed-8b01-144b237785d2",
   "metadata": {},
   "outputs": [],
   "source": [
    "# Example C :-\n",
    "\n",
    "class my_age(Exception):\n",
    "    def __init__(self, msg):\n",
    "        self.msg = msg"
   ]
  },
  {
   "cell_type": "code",
   "execution_count": 9,
   "id": "255597c6-a693-4f8d-863a-7b2f69765ec3",
   "metadata": {},
   "outputs": [],
   "source": [
    "def age_my(age):\n",
    "    if age < 0:\n",
    "        raise my_age(\"entered age is negative\")\n",
    "    elif age > 200:\n",
    "        raise my_age(\"entered age is very very high\")\n",
    "    else:\n",
    "        print(\"age is valid\")\n",
    "    "
   ]
  },
  {
   "cell_type": "code",
   "execution_count": 10,
   "id": "87c8332c-ddfc-46ce-ab13-6db2d4d6c24d",
   "metadata": {},
   "outputs": [
    {
     "name": "stdin",
     "output_type": "stream",
     "text": [
      "enter your age 76\n"
     ]
    },
    {
     "name": "stdout",
     "output_type": "stream",
     "text": [
      "age is valid\n"
     ]
    }
   ],
   "source": [
    "try:\n",
    "    age = int(input(\"enter your age\"))\n",
    "    age_my(age)\n",
    "except my_age as e:\n",
    "    print(e)"
   ]
  },
  {
   "cell_type": "markdown",
   "id": "f0ba5a89-15b7-4a99-8ce1-4fc389f96964",
   "metadata": {},
   "source": [
    "Q5. What are custom exception in python?  Why do we need custom Exceptions? Explain with an example."
   ]
  },
  {
   "cell_type": "code",
   "execution_count": 3,
   "id": "6c6a54bc-8ac3-4ccb-b066-48214eeb9d5d",
   "metadata": {},
   "outputs": [
    {
     "name": "stdin",
     "output_type": "stream",
     "text": [
      "enter your balance :-  3000\n"
     ]
    },
    {
     "name": "stdout",
     "output_type": "stream",
     "text": [
      "Now, your balance is sufficient to maintain\n"
     ]
    }
   ],
   "source": [
    "## custom exceptions provide a flexible way to handle specific error cases in your code and enhance its clarity and maintainability.\n",
    "## We need custom exception because by defining custom exceptions, you can make your code more readable and self-explanatory.\n",
    "\n",
    "class Error(Exception):\n",
    "    def __init__(self, bank_balance):\n",
    "        self.bank_balance = bank_balance\n",
    "        \n",
    "def Account(balance):\n",
    "    if balance <= 0:\n",
    "        raise Error(\"your balance is too less to maintain your Account\")\n",
    "        \n",
    "    else:\n",
    "        print(\"Now, your balance is sufficient to maintain\")\n",
    "        \n",
    "try:\n",
    "    balance = int(input(\"enter your balance :- \"))\n",
    "    Account(balance)\n",
    "except Error as e:\n",
    "    print(e)\n",
    "    \n"
   ]
  },
  {
   "cell_type": "markdown",
   "id": "2c3b9ea5-f153-4a72-ad99-67c13a8e33c7",
   "metadata": {},
   "source": [
    "Q6. Create a custom Exception class. Use this class to handle an exception."
   ]
  },
  {
   "cell_type": "code",
   "execution_count": 9,
   "id": "8bc85b2d-842b-4145-8064-f3476755aec2",
   "metadata": {},
   "outputs": [
    {
     "name": "stdin",
     "output_type": "stream",
     "text": [
      "Enter an integer:  54\n"
     ]
    },
    {
     "name": "stdout",
     "output_type": "stream",
     "text": [
      "Input processing successful!\n"
     ]
    }
   ],
   "source": [
    "class InvalidInputError(Exception):\n",
    "    def __init__(self, message):\n",
    "        self.message = message\n",
    "\n",
    "    def __str__(self):\n",
    "        return self.message\n",
    "\n",
    "\n",
    "def process_input(value):\n",
    "    if type(value) != int:\n",
    "        raise InvalidInputError(\"Invalid input Expected an integer.\")\n",
    "    \n",
    "try:\n",
    "    user_input = int(input(\"Enter an integer: \"))\n",
    "    process_input(user_input)\n",
    "    print(\"Input processing successful!\")\n",
    "except InvalidInputError as e:\n",
    "    print(\"Error:\", e)"
   ]
  },
  {
   "cell_type": "code",
   "execution_count": null,
   "id": "26f51310-937f-4781-9814-5b196088c71f",
   "metadata": {},
   "outputs": [],
   "source": []
  }
 ],
 "metadata": {
  "kernelspec": {
   "display_name": "Python 3 (ipykernel)",
   "language": "python",
   "name": "python3"
  },
  "language_info": {
   "codemirror_mode": {
    "name": "ipython",
    "version": 3
   },
   "file_extension": ".py",
   "mimetype": "text/x-python",
   "name": "python",
   "nbconvert_exporter": "python",
   "pygments_lexer": "ipython3",
   "version": "3.10.8"
  }
 },
 "nbformat": 4,
 "nbformat_minor": 5
}
