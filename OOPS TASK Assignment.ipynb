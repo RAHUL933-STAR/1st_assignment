{
 "cells": [
  {
   "cell_type": "markdown",
   "id": "c464d337-f26f-4850-9ff1-c66b49802a31",
   "metadata": {},
   "source": [
    "Q1, Create a vehicle class with an init method having instance variables as name_of_vehicle, max_speed \n",
    "and average_of_vehicle"
   ]
  },
  {
   "cell_type": "code",
   "execution_count": 10,
   "id": "a46a66db-919c-4fd9-9ce9-809e30b30f4c",
   "metadata": {},
   "outputs": [
    {
     "data": {
      "text/plain": [
       "('Range_Rovar', '350_km_per_hour', '120_km_per_hour')"
      ]
     },
     "execution_count": 10,
     "metadata": {},
     "output_type": "execute_result"
    }
   ],
   "source": [
    "class vehicle:\n",
    "    \n",
    "    def __init__(self, name_of_vehicle, max_speed, average_speed):\n",
    "        self.name_of_vehicle = name_of_vehicle\n",
    "        self.max_speed = max_speed\n",
    "        self.average_speed = average_speed\n",
    "        \n",
    "    def vehicle_details(self):\n",
    "        return self.name_of_vehicle, self.max_speed, self.average_speed\n",
    "    \n",
    "Vd = vehicle(\"Range_Rovar\", \"350_km_per_hour\", \"120_km_per_hour\")\n",
    "Vd.vehicle_details()"
   ]
  },
  {
   "cell_type": "code",
   "execution_count": 3,
   "id": "78feaa69-5ce1-4c30-8aa6-bd7e48655a7a",
   "metadata": {},
   "outputs": [
    {
     "data": {
      "text/plain": [
       "'120_km_per_hour'"
      ]
     },
     "execution_count": 3,
     "metadata": {},
     "output_type": "execute_result"
    }
   ],
   "source": [
    "Vd.average_speed"
   ]
  },
  {
   "cell_type": "code",
   "execution_count": 4,
   "id": "ee02c40e-b925-454c-8e07-e493f42a7520",
   "metadata": {},
   "outputs": [
    {
     "data": {
      "text/plain": [
       "'350_km_per_hour'"
      ]
     },
     "execution_count": 4,
     "metadata": {},
     "output_type": "execute_result"
    }
   ],
   "source": [
    "Vd.max_speed"
   ]
  },
  {
   "cell_type": "code",
   "execution_count": 6,
   "id": "b2d71733-b088-49fe-932b-86d7523ceaef",
   "metadata": {},
   "outputs": [
    {
     "data": {
      "text/plain": [
       "'Range_Rovar'"
      ]
     },
     "execution_count": 6,
     "metadata": {},
     "output_type": "execute_result"
    }
   ],
   "source": [
    "Vd.name_of_vehicle"
   ]
  },
  {
   "cell_type": "markdown",
   "id": "8d4af184-fac0-4d65-b8dc-a0fa5c8db987",
   "metadata": {},
   "source": [
    "Q2.  Create a child class car from the vehicle class created in Que 1, which will inherit the vehicle class. \n",
    "Create a method named seating_capacity which takes capacity as an argument and returns the name of \n",
    "the vehicle and its seating capacity."
   ]
  },
  {
   "cell_type": "code",
   "execution_count": 17,
   "id": "f171ba71-821e-4a3e-aa46-eec1713cf52c",
   "metadata": {},
   "outputs": [
    {
     "data": {
      "text/plain": [
       "'the name of vehicle is Scorpio and the seating capacity is of 6 people'"
      ]
     },
     "execution_count": 17,
     "metadata": {},
     "output_type": "execute_result"
    }
   ],
   "source": [
    "class car(vehicle):\n",
    "    def seating_capacity(capacity):\n",
    "        return \"the name of vehicle is Scorpio and the seating capacity is of 6 people\"\n",
    "    \n",
    "obj = car(\"Range_Rovar\", \"350_km_per_hour\", \"120_km_per_hour\")\n",
    "obj.seating_capacity()"
   ]
  },
  {
   "cell_type": "markdown",
   "id": "3099b08c-26b1-4820-810d-8ac6253dbe67",
   "metadata": {},
   "source": [
    "Q3. What is multiple inheritance? Write a python code to demonstrate multiple inheritance."
   ]
  },
  {
   "cell_type": "code",
   "execution_count": 14,
   "id": "71fbfe58-365c-4025-a8db-46d57d401477",
   "metadata": {},
   "outputs": [],
   "source": [
    "# A class can be derived from more than one superclass in Python. This is called multiple inheritance."
   ]
  },
  {
   "cell_type": "code",
   "execution_count": 20,
   "id": "9b05f8e1-bfc0-4013-ab83-770c8eebeb8c",
   "metadata": {},
   "outputs": [
    {
     "data": {
      "text/plain": [
       "'this is my class of data science'"
      ]
     },
     "execution_count": 20,
     "metadata": {},
     "output_type": "execute_result"
    }
   ],
   "source": [
    "class data_science:\n",
    "    def my_class1(self):\n",
    "        return \"this is my class of data science\"\n",
    "    \n",
    "class data_analysis:\n",
    "    def my_class2(self):\n",
    "        return \"this is my class of data analysis\"\n",
    "    \n",
    "class last_class(data_science, data_analysis):\n",
    "    def my_class3(self):\n",
    "        pass\n",
    "    \n",
    "obj = last_class()\n",
    "obj.my_class1()"
   ]
  },
  {
   "cell_type": "code",
   "execution_count": 21,
   "id": "192a71e9-336e-42cd-98d1-aea44e760376",
   "metadata": {},
   "outputs": [
    {
     "data": {
      "text/plain": [
       "'this is my class of data analysis'"
      ]
     },
     "execution_count": 21,
     "metadata": {},
     "output_type": "execute_result"
    }
   ],
   "source": [
    "obj.my_class2()"
   ]
  },
  {
   "cell_type": "markdown",
   "id": "762dd65e-9e5a-40b0-a181-4e554ffd2585",
   "metadata": {},
   "source": [
    "Q4. What are getter and setter in python? Create a class and create a getter and a setter method in this \n",
    "class."
   ]
  },
  {
   "cell_type": "code",
   "execution_count": 1,
   "id": "a7de974e-d4d3-4b70-99b7-dfb9e8b6e1b3",
   "metadata": {},
   "outputs": [],
   "source": [
    "# Getter: A method that allows you to access an attribute in a given class.\n",
    "# Setter: A method that allows you to set or mutate the value of an attribute in a class."
   ]
  },
  {
   "cell_type": "code",
   "execution_count": 3,
   "id": "2d66b417-1031-4633-b4da-823b7e9d7ead",
   "metadata": {},
   "outputs": [
    {
     "data": {
      "text/plain": [
       "'NLP_project'"
      ]
     },
     "execution_count": 3,
     "metadata": {},
     "output_type": "execute_result"
    }
   ],
   "source": [
    "class Project_details:\n",
    "    def __init__(self, basic_project, intermediate_project, advance_project):\n",
    "        self.__basic_project = basic_project\n",
    "        self.__intermediate_project = intermediate_project\n",
    "        self.__advance_project = advance_project\n",
    "        \n",
    "    def set_advance_project(self, advance_project):\n",
    "        self.__advance_project = advance_project\n",
    "        \n",
    "    def get_advance_project(self):\n",
    "        return self.__advance_project\n",
    "    \n",
    "c = Project_details(\"NLP_project\", \"Big_data_project\", \"Data_science_project\")\n",
    "c._Project_details__basic_project"
   ]
  },
  {
   "cell_type": "code",
   "execution_count": 4,
   "id": "0aefadba-b160-4662-8809-429f2ed7ce6e",
   "metadata": {},
   "outputs": [],
   "source": [
    "c.set_advance_project(\"computer_vision_project\")"
   ]
  },
  {
   "cell_type": "code",
   "execution_count": 5,
   "id": "35da00d2-ffbc-473e-aac8-ac21f643ff79",
   "metadata": {},
   "outputs": [
    {
     "data": {
      "text/plain": [
       "'computer_vision_project'"
      ]
     },
     "execution_count": 5,
     "metadata": {},
     "output_type": "execute_result"
    }
   ],
   "source": [
    "c.get_advance_project()"
   ]
  },
  {
   "cell_type": "markdown",
   "id": "16bf4e0f-e0f3-4d1e-b548-3a7e859bd38a",
   "metadata": {},
   "source": [
    "Q5.What is method overriding in python? Write a python code to demonstrate method overriding"
   ]
  },
  {
   "cell_type": "code",
   "execution_count": 22,
   "id": "c4b3ddaa-36e7-465d-a16b-1ecb376ccafd",
   "metadata": {},
   "outputs": [],
   "source": [
    "# When a method in a subclass has the same name, same parameters or signature and same return type as a method in its super-class,\n",
    "# then the method in the subclass is said to override the method in the super-class."
   ]
  },
  {
   "cell_type": "code",
   "execution_count": 23,
   "id": "1333b6d2-2f8b-4ca5-abaa-9f76c73791be",
   "metadata": {},
   "outputs": [
    {
     "name": "stdout",
     "output_type": "stream",
     "text": [
      "I am in class B\n"
     ]
    }
   ],
   "source": [
    "class A:\n",
    "    def show_data(self):\n",
    "        print(\"I am in class A\")\n",
    "        \n",
    "class B(A):\n",
    "    def show_data(self):\n",
    "        print(\"I am in class B\")\n",
    "obj = B()\n",
    "obj.show_data()"
   ]
  },
  {
   "cell_type": "code",
   "execution_count": null,
   "id": "329a619e-e32b-4633-bb24-0a68069df125",
   "metadata": {},
   "outputs": [],
   "source": []
  }
 ],
 "metadata": {
  "kernelspec": {
   "display_name": "Python 3 (ipykernel)",
   "language": "python",
   "name": "python3"
  },
  "language_info": {
   "codemirror_mode": {
    "name": "ipython",
    "version": 3
   },
   "file_extension": ".py",
   "mimetype": "text/x-python",
   "name": "python",
   "nbconvert_exporter": "python",
   "pygments_lexer": "ipython3",
   "version": "3.10.8"
  }
 },
 "nbformat": 4,
 "nbformat_minor": 5
}
