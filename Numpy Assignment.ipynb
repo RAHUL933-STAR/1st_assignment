{
 "cells": [
  {
   "cell_type": "markdown",
   "id": "fbf7f82d-46a2-4b4c-90d1-4c3edb0361fd",
   "metadata": {},
   "source": [
    "Q1. Is there any difference in the data type of variables list_ and array_list? If there is then write a code \n",
    "to print the data types of both the variables."
   ]
  },
  {
   "cell_type": "code",
   "execution_count": 2,
   "id": "fd7584e8-87bb-4f27-b4bf-09089e72ff19",
   "metadata": {},
   "outputs": [],
   "source": [
    "import numpy as np\n",
    "\n",
    "list_ = [ '1' , '2' , '3' , '4' , '5' ]\n",
    "\n",
    "array_list = np.array(object = list_)"
   ]
  },
  {
   "cell_type": "code",
   "execution_count": 9,
   "id": "aed197a0-9123-4872-b666-a74763fa3e5f",
   "metadata": {},
   "outputs": [
    {
     "name": "stdout",
     "output_type": "stream",
     "text": [
      "Data type of list_ is :- <class 'list'>\n",
      "Data type of array_list is :- <class 'numpy.ndarray'>\n"
     ]
    }
   ],
   "source": [
    "## list: A list is a built-in data type in Python that can hold a collection of items of different data types.\n",
    "# Lists are mutable, meaning you can add, remove, or modify elements after the list creation.\n",
    "\n",
    "## Array_list :- lists, arrays are homogeneous, meaning they can only store elements of the same data type. \n",
    "\n",
    "\n",
    "print(\"Data type of list_ is :-\", type(list_))\n",
    "\n",
    "print(\"Data type of array_list is :-\", type(array_list))\n",
    "\n"
   ]
  },
  {
   "cell_type": "markdown",
   "id": "dc41a0f1-37aa-4984-978d-9bab7c41eb65",
   "metadata": {},
   "source": [
    "Q2. Write a code to print the data type of each and every element of both the variables list_ and \n",
    "arra_list."
   ]
  },
  {
   "cell_type": "code",
   "execution_count": null,
   "id": "f19f30ee-735c-4302-9a35-e650afd76869",
   "metadata": {},
   "outputs": [],
   "source": [
    "import numpy as np\n",
    "\n",
    "list_ = [ '1' , '2' , '3' , '4' , '5' ]\n",
    "\n",
    "array_list = np.array(object = list_)"
   ]
  },
  {
   "cell_type": "code",
   "execution_count": 10,
   "id": "e95c0cfd-c8f9-4e9c-83e5-52f833df07bd",
   "metadata": {},
   "outputs": [
    {
     "name": "stdout",
     "output_type": "stream",
     "text": [
      "<class 'str'>\n",
      "<class 'str'>\n",
      "<class 'str'>\n",
      "<class 'str'>\n",
      "<class 'str'>\n"
     ]
    }
   ],
   "source": [
    "for i in list_:\n",
    "    print(type(i))"
   ]
  },
  {
   "cell_type": "code",
   "execution_count": 11,
   "id": "a0ac92f9-0c20-445d-917d-f016f2d390f9",
   "metadata": {},
   "outputs": [
    {
     "name": "stdout",
     "output_type": "stream",
     "text": [
      "<class 'numpy.str_'>\n",
      "<class 'numpy.str_'>\n",
      "<class 'numpy.str_'>\n",
      "<class 'numpy.str_'>\n",
      "<class 'numpy.str_'>\n"
     ]
    }
   ],
   "source": [
    "for j in array_list:\n",
    "    print(type(j))"
   ]
  },
  {
   "cell_type": "markdown",
   "id": "df7428b5-e3e9-403d-b7a2-07944e5a4bfc",
   "metadata": {},
   "source": [
    "Q3. Considering the following changes in the variable, array_list:\n",
    "\n",
    "array_list = np.array(object = list_, dtype = int)\n",
    "\n",
    "Will there be any difference in the data type of the elements present in both the variables, list_ and \n",
    "arra_list? If so then print the data types of each and every element present in both the variables, list_ \n",
    "and arra_list"
   ]
  },
  {
   "cell_type": "code",
   "execution_count": 12,
   "id": "8c75af7b-7cba-44ca-b071-1e0a7d2edf31",
   "metadata": {},
   "outputs": [],
   "source": [
    "array_list = np.array(object = list_, dtype = int)"
   ]
  },
  {
   "cell_type": "code",
   "execution_count": 13,
   "id": "a0b2c186-48c3-49e0-b9a0-078dfc813221",
   "metadata": {},
   "outputs": [
    {
     "data": {
      "text/plain": [
       "array([1, 2, 3, 4, 5])"
      ]
     },
     "execution_count": 13,
     "metadata": {},
     "output_type": "execute_result"
    }
   ],
   "source": [
    "array_list"
   ]
  },
  {
   "cell_type": "code",
   "execution_count": 14,
   "id": "6d5fb39c-9a52-496d-8446-54b3f4c46023",
   "metadata": {},
   "outputs": [],
   "source": [
    "# Here array_list variable is being redefined from string to int using the np.array() function with two arguments: object and dtype."
   ]
  },
  {
   "cell_type": "code",
   "execution_count": 19,
   "id": "72907794-2adc-4836-99d4-c896c78d6426",
   "metadata": {},
   "outputs": [
    {
     "name": "stdout",
     "output_type": "stream",
     "text": [
      "Data type of element '1': <class 'str'>\n",
      "Data type of element '2': <class 'str'>\n",
      "Data type of element '3': <class 'str'>\n",
      "Data type of element '4': <class 'str'>\n",
      "Data type of element '5': <class 'str'>\n"
     ]
    }
   ],
   "source": [
    "for i in list_:\n",
    "    print(f\"Data type of element '{i}': {type(i)}\")"
   ]
  },
  {
   "cell_type": "code",
   "execution_count": 20,
   "id": "34bcd451-7321-42f6-8959-b4972599d0fd",
   "metadata": {},
   "outputs": [
    {
     "name": "stdout",
     "output_type": "stream",
     "text": [
      "Data type of element 1: <class 'numpy.int64'>\n",
      "Data type of element 2: <class 'numpy.int64'>\n",
      "Data type of element 3: <class 'numpy.int64'>\n",
      "Data type of element 4: <class 'numpy.int64'>\n",
      "Data type of element 5: <class 'numpy.int64'>\n"
     ]
    }
   ],
   "source": [
    "for i in array_list :\n",
    "    print(f\"Data type of element {i}: {type(i)}\")"
   ]
  },
  {
   "cell_type": "markdown",
   "id": "3afdba1f-aea5-4909-9705-2383d362b685",
   "metadata": {},
   "source": [
    "Q4. Write a code to find the following characteristics of variable, num_array:\n",
    "\n",
    "(i)\t shape\n",
    "\n",
    "(ii) size"
   ]
  },
  {
   "cell_type": "code",
   "execution_count": 21,
   "id": "1f38d440-9c1b-4a9e-aa41-925e4296c66b",
   "metadata": {},
   "outputs": [],
   "source": [
    "import numpy as np\n",
    "\n",
    "num_list = [ [ 1 , 2 , 3 ] , [ 4 , 5 , 6 ] ]\n",
    "\n",
    "num_array = np.array(object = num_list)"
   ]
  },
  {
   "cell_type": "code",
   "execution_count": 22,
   "id": "4326904d-1be6-478a-8715-44e726d91388",
   "metadata": {},
   "outputs": [
    {
     "data": {
      "text/plain": [
       "array([[1, 2, 3],\n",
       "       [4, 5, 6]])"
      ]
     },
     "execution_count": 22,
     "metadata": {},
     "output_type": "execute_result"
    }
   ],
   "source": [
    "num_array"
   ]
  },
  {
   "cell_type": "code",
   "execution_count": 24,
   "id": "e99135ce-9c24-4895-97aa-9177ef505e23",
   "metadata": {},
   "outputs": [
    {
     "data": {
      "text/plain": [
       "(2, 3)"
      ]
     },
     "execution_count": 24,
     "metadata": {},
     "output_type": "execute_result"
    }
   ],
   "source": [
    "num_array.shape"
   ]
  },
  {
   "cell_type": "code",
   "execution_count": 25,
   "id": "20e41273-d742-45d9-8b17-f5b1eba4f36c",
   "metadata": {},
   "outputs": [
    {
     "data": {
      "text/plain": [
       "6"
      ]
     },
     "execution_count": 25,
     "metadata": {},
     "output_type": "execute_result"
    }
   ],
   "source": [
    "num_array.size"
   ]
  },
  {
   "cell_type": "markdown",
   "id": "68433b92-f221-47ef-88a8-3269140fe675",
   "metadata": {},
   "source": [
    "Q5. Write a code to create numpy array of 3*3 matrix containing zeros only, using a numpy array \n",
    "creation function.\n",
    "\n",
    "[Hint: The size of the array will be 9 and the shape will be (3,3).]"
   ]
  },
  {
   "cell_type": "code",
   "execution_count": 27,
   "id": "6e07605e-b415-4157-9540-3aeda61207c7",
   "metadata": {},
   "outputs": [],
   "source": [
    "zero_matrix = np.zeros((3,3))"
   ]
  },
  {
   "cell_type": "code",
   "execution_count": 28,
   "id": "953ec71f-8f94-4cc2-b7c4-ad97e3a9c75d",
   "metadata": {},
   "outputs": [
    {
     "data": {
      "text/plain": [
       "array([[0., 0., 0.],\n",
       "       [0., 0., 0.],\n",
       "       [0., 0., 0.]])"
      ]
     },
     "execution_count": 28,
     "metadata": {},
     "output_type": "execute_result"
    }
   ],
   "source": [
    "zero_matrix"
   ]
  },
  {
   "cell_type": "code",
   "execution_count": 29,
   "id": "e9b07a9a-88d4-4713-9dbc-274ba618d43a",
   "metadata": {},
   "outputs": [
    {
     "data": {
      "text/plain": [
       "matrix([[0., 0., 0.],\n",
       "        [0., 0., 0.],\n",
       "        [0., 0., 0.]])"
      ]
     },
     "execution_count": 29,
     "metadata": {},
     "output_type": "execute_result"
    }
   ],
   "source": [
    "np.matrix(zero_matrix)"
   ]
  },
  {
   "cell_type": "markdown",
   "id": "2cdffafa-8b27-4b99-8246-b9ee3ecb07bc",
   "metadata": {},
   "source": [
    "Q6. Create an identity matrix of shape (5,5) using numpy functions?\n",
    "\n",
    "[Hint: An identity matrix is a matrix containing 1 diagonally and other elements will be 0.]"
   ]
  },
  {
   "cell_type": "code",
   "execution_count": 30,
   "id": "22dc8e1b-ec9f-4541-b12c-7c18d9563904",
   "metadata": {},
   "outputs": [
    {
     "name": "stdout",
     "output_type": "stream",
     "text": [
      "[[1. 0. 0. 0. 0.]\n",
      " [0. 1. 0. 0. 0.]\n",
      " [0. 0. 1. 0. 0.]\n",
      " [0. 0. 0. 1. 0.]\n",
      " [0. 0. 0. 0. 1.]]\n"
     ]
    }
   ],
   "source": [
    "import numpy as np\n",
    "\n",
    "identity_matrix = np.identity(5)\n",
    "\n",
    "print(identity_matrix)"
   ]
  }
 ],
 "metadata": {
  "kernelspec": {
   "display_name": "Python 3 (ipykernel)",
   "language": "python",
   "name": "python3"
  },
  "language_info": {
   "codemirror_mode": {
    "name": "ipython",
    "version": 3
   },
   "file_extension": ".py",
   "mimetype": "text/x-python",
   "name": "python",
   "nbconvert_exporter": "python",
   "pygments_lexer": "ipython3",
   "version": "3.10.8"
  }
 },
 "nbformat": 4,
 "nbformat_minor": 5
}
