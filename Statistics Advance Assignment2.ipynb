{
 "cells": [
  {
   "cell_type": "markdown",
   "id": "090069bd-7e15-40e3-8bc1-d5fb90c5e419",
   "metadata": {},
   "source": [
    "Q1: What are the Probability Mass Function (PMF) and Probability Density Function (PDF)? Explain with \n",
    "an example"
   ]
  },
  {
   "cell_type": "code",
   "execution_count": 1,
   "id": "d839a410-5be1-4e5d-8943-4fbcd8e2f646",
   "metadata": {},
   "outputs": [],
   "source": [
    "## Probability Mass Function (PMF):\n",
    "\n",
    "# The PMF is used to describe the probability distribution of a discrete random variable. It gives the probability of the random \n",
    "#  variable taking on a specific value. The PMF is defined for each possible value of the random variable, and the sum of all PMF values over \n",
    "#  all possible values is equal to 1.\n",
    "\n",
    "## Probability Density Function (PDF):\n",
    "\n",
    "# The PDF is used to describe the probability distribution of a continuous random variable. Unlike the PMF, which deals with discrete values,\n",
    "# the PDF deals with continuous values. Instead of giving the probability of a specific value, the PDF gives the probability of the random \n",
    "# variable falling within a certain range of values. The total area under the PDF curve represents the probability of the entire range and is equal to 1."
   ]
  },
  {
   "cell_type": "markdown",
   "id": "a481ebdc-ae4e-41c8-bfd4-3f8dcb745715",
   "metadata": {},
   "source": [
    "Q2: What is Cumulative Density Function (CDF)? Explain with an example. Why CDF is used?"
   ]
  },
  {
   "cell_type": "code",
   "execution_count": 2,
   "id": "cf835662-d91d-4c97-9472-d6da994995a1",
   "metadata": {},
   "outputs": [],
   "source": [
    "## CDF :- The Cumulative Distribution Function (CDF) is a fundamental concept used in probability theory and statistics. \n",
    "#         It gives the cumulative probability that a random variable is less than or equal to a specific value\n",
    "\n",
    "## Example:\n",
    "\n",
    "# Let's consider rolling a fair six-sided die. The random variable X represents the outcome of the roll. We can define the CDF \n",
    "# of X to calculate the cumulative probabilities for each value of X.\n",
    "\n",
    "# The possible outcomes of rolling a fair six-sided die are 1, 2, 3, 4, 5, and 6. The CDF of X is given as follows:\n",
    "\n",
    "# F(x) = P(X ≤ x)\n",
    "\n",
    "# For x = 1:\n",
    "# F(1) = P(X ≤ 1) = P(X = 1) = 1/6\n",
    "\n",
    "## Usage of CDF\n",
    "\n",
    "# The CDF is an essential tool in probability and statistics for several reasons:\n",
    "\n",
    "# 1) Probabilistic Comparison: The CDF allows us to compare the probabilities of different events by determining their cumulative probabilities.\n",
    "#                              It helps us understand the likelihood of random variables falling within specific ranges.\n",
    "\n",
    "# 2) Calculating Percentiles: The CDF helps in calculating percentiles. For example, the median is the 50th percentile, which is the value where the CDF equals 0.5."
   ]
  },
  {
   "cell_type": "markdown",
   "id": "3f3fe345-6984-42ef-889d-29860aaf3684",
   "metadata": {},
   "source": [
    "Q3: What are some examples of situations where the normal distribution might be used as a model? \n",
    "Explain how the parameters of the normal distribution relate to the shape of the distribution."
   ]
  },
  {
   "cell_type": "code",
   "execution_count": 4,
   "id": "dafd8272-2e3f-4762-80a6-2b9c242c1ded",
   "metadata": {},
   "outputs": [],
   "source": [
    "# Here are some examples of situations where the normal distribution might be used as a model:\n",
    "\n",
    "# 1) Height of Individuals: In a population, the height of individuals often follows a normal distribution. \n",
    "#                          Most people tend to have heights close to the average, with fewer individuals at both extremes (very tall or very short).\n",
    "\n",
    "# 2) Test Scores: When large groups of students take standardized tests, the distribution of test scores often approximates a normal distribution.\n",
    "#                 The majority of students tend to score around the average, with fewer students achieving extremely high or low scores.\n",
    "\n",
    "# 3) Errors in Measurement: In various scientific experiments or measurements, errors and uncertainties often follow a normal \n",
    "#                           distribution, especially when random errors are involved.\n",
    "\n",
    "# 4) IQ Scores: Intelligence quotient (IQ) scores in a population tend to follow a normal distribution. The average IQ is usually set at 100, \n",
    "#               and the distribution forms a bell-shaped curve around this value.\n",
    "\n",
    "# 5) Stock Market Returns: Daily or monthly stock market returns are often modeled using a normal distribution, although in reality, \n",
    "#                          they may exhibit fat tails and deviations from perfect normality.\n",
    "\n",
    "\n",
    "# Parameters of the Normal Distribution and their Relationship to the Shape of the Distribution:\n",
    "\n",
    "# The normal distribution is characterized by two parameters: the mean (μ) and the standard deviation (σ). \n",
    "# These parameters influence the shape and characteristics of the normal distribution.\n",
    "\n",
    "# 1) Mean (μ): The mean represents the central value around which the data clusters. It is also the highest point of the bell-shaped curve. \n",
    "#              Shifting the mean to the right or left will cause the entire distribution to shift accordingly without changing its shape.\n",
    "\n",
    "# 2) Standard Deviation (σ): The standard deviation determines the spread or dispersion of the data. A larger standard deviation results in a wider distribution\n",
    "#                            with more spread-out data, while a smaller standard deviation leads to a narrower distribution with data tightly clustered around the mean."
   ]
  },
  {
   "cell_type": "markdown",
   "id": "84d3ea91-997e-4635-a051-be2b966b4634",
   "metadata": {},
   "source": [
    "Q4: Explain the importance of Normal Distribution. Give a few real-life examples of Normal \n",
    "Distribution. "
   ]
  },
  {
   "cell_type": "code",
   "execution_count": 5,
   "id": "cceb26c1-82b3-4af4-95d6-63aaf8b0433f",
   "metadata": {},
   "outputs": [],
   "source": [
    "## The importance of Normal Distribution\n",
    "\n",
    "# 1) Central Limit Theorem: The Normal Distribution plays a crucial role in the Central Limit Theorem, which states that the sampling distribution of the sample \n",
    "#                           mean of a large number of independent, identically distributed random variables approaches a normal distribution, regardless of \n",
    "#                           the underlying distribution. This property is fundamental for inferential statistics and hypothesis testing.\n",
    "\n",
    "# 2) Statistical Inference: The Normal Distribution is widely used in statistical inference and hypothesis testing. Many statistical tests, such as t-tests \n",
    "#                           and z-tests, assume normality for the population to make valid inferences based on sample data.\n",
    "\n",
    "# 3) Parameter Estimation: In many situations, the Normal Distribution is used to model data, and the parameters (mean and standard deviation) \n",
    "#                          of the distribution can be estimated using various statistical techniques like maximum likelihood estimation.\n",
    "\n",
    "## Real-Life Examples of Normal Distribution:\n",
    "\n",
    "# Human Heights: The distribution of human heights in a population tends to follow a roughly normal distribution. Most people have heights close to\n",
    "#                the average, with fewer individuals being very tall or very short.\n",
    "\n",
    "# Exam Scores: In a large population of students, the distribution of exam scores often approximates a normal distribution. The majority of students\n",
    "#              tend to score around the average, with fewer students achieving extremely high or low scores.\n",
    "\n",
    "# IQ Scores: Intelligence quotient (IQ) scores in a population tend to follow a normal distribution. The average IQ is usually set at 100, \n",
    "#            and the distribution forms a bell-shaped curve around this value."
   ]
  },
  {
   "cell_type": "markdown",
   "id": "5ab3b17e-47e2-482f-8521-e217d25afe03",
   "metadata": {},
   "source": [
    "Q5: What is Bernaulli Distribution? Give an Example. What is the difference between Bernoulli \n",
    "Distribution and Binomial Distribution?"
   ]
  },
  {
   "cell_type": "code",
   "execution_count": 6,
   "id": "ecbad2b6-145e-49cd-b1fb-4db966cd4c5e",
   "metadata": {},
   "outputs": [],
   "source": [
    "## The Bernoulli distribution is a probability distribution that describes a random variable with only two possible outcomes: \n",
    "#   success (usually denoted by \"1\") with probability \"p\" and failure (usually denoted by \"0\") with probability \"q\" = 1 - p. It represents a s\n",
    "#    ingle trial or observation in which there are only two possible outcomes.\n",
    "\n",
    "## Example of Bernoulli Distribution:\n",
    "# A classic example of the Bernoulli distribution is a coin toss. Let's consider a fair coin (where the probability of getting heads or tails is 0.5) \n",
    "# as our random experiment. The random variable X represents the outcome of a single coin toss, where X = 1 for heads (success) and X = 0 for tails (failure).\n",
    "\n",
    "## Difference between Bernoulli Distribution and Binomial Distribution:\n",
    "\n",
    "# Number of Trials:\n",
    "# Bernoulli Distribution: Represents a single trial or observation with only two possible outcomes (success or failure).\n",
    "# Binomial Distribution: Represents the number of successes in a fixed number of independent trials, each with two possible outcomes (success or failure).\n",
    "\n",
    "# Parameters:\n",
    "# Bernoulli Distribution: Has a single parameter \"p,\" which represents the probability of success in a single trial.\n",
    "# Binomial Distribution: Has two parameters, \"n\" (number of trials) and \"p\" (probability of success in a single trial)."
   ]
  },
  {
   "cell_type": "markdown",
   "id": "745f929e-918e-40ea-a0bf-4ff7afbdde0e",
   "metadata": {},
   "source": [
    "Q6. Consider a dataset with a mean of 50 and a standard deviation of 10. If we assume that the dataset \n",
    "is normally distributed, what is the probability that a randomly selected observation will be greater \n",
    "than 60? Use the appropriate formula and show your calculations."
   ]
  },
  {
   "cell_type": "code",
   "execution_count": 8,
   "id": "66cdec7b-8db4-484b-b19a-5052c6c6acbc",
   "metadata": {},
   "outputs": [],
   "source": [
    "# To find the probability that a randomly selected observation from a normally distributed dataset with a mean of 50 and a standard deviation of\n",
    "# 10 will be greater than 60, we can use the z-score formula and standard normal distribution table (also known as the z-table).\n",
    "\n",
    "# The z-score is a measure of how many standard deviations a given data point is from the mean of the distribution. The formula to calculate the z-score is:\n",
    "\n",
    "# z = (X - μ) / σ\n",
    "\n",
    "# Where:\n",
    "\n",
    "# X is the value for which we want to find the probability (in this case, 60).\n",
    "# μ is the mean of the distribution (given as 50 in the problem).\n",
    "# σ is the standard deviation of the distribution (given as 10 in the problem).\n",
    "# z is the z-score.\n",
    "# First, we calculate the z-score:\n",
    "\n",
    "# z = (60 - 50) / 10\n",
    "# z = 1\n",
    "\n",
    "# Now, we need to find the probability that a randomly selected observation will be greater than 60. We can use the standard normal distribution table\n",
    "#  to find this probability. The standard normal distribution table gives the cumulative probability up to a specific z-score.\n",
    "\n",
    "# From the table, we find the cumulative probability corresponding to a z-score of 1, which is approximately 0.8413.\n",
    "\n",
    "# However, we want the probability of being greater than 60, not the probability up to 60. Since the standard normal distribution is symmetric around the mean, \n",
    "#  the probability of being greater than 60 is equal to 1 minus the probability up to 60.\n",
    "\n",
    "# So, the probability that a randomly selected observation will be greater than 60 is:\n",
    "\n",
    "# Probability (X > 60) = 1 - 0.8413\n",
    "# Probability (X > 60) ≈ 0.1587\n",
    "\n",
    "# Therefore, the probability that a randomly selected observation from the dataset will be greater than 60 is approximately 0.1587 or 15.87%."
   ]
  },
  {
   "cell_type": "markdown",
   "id": "35c48d64-83d4-45c1-a081-b5bfbb7c98a1",
   "metadata": {},
   "source": [
    "Q7: Explain uniform Distribution with an example"
   ]
  },
  {
   "cell_type": "code",
   "execution_count": 9,
   "id": "41d06be8-ba5f-4b94-85ef-9a7a6251a357",
   "metadata": {},
   "outputs": [],
   "source": [
    "## uniform Distribution :- The Uniform Distribution is a probability distribution that models situations where all outcomes in a given range are equally likely.\n",
    "#   In other words, it is a continuous probability distribution where the probability of a random variable falling within any subinterval of the distribution is constant.\n",
    "\n",
    "## Example of Uniform Distribution:\n",
    "# A classic example of the uniform distribution is rolling a fair six-sided die. In this case, the random variable X represents the outcome of the roll,\n",
    "#  and each face of the die has an equal probability of occurring."
   ]
  },
  {
   "cell_type": "markdown",
   "id": "c5e05942-ea79-43eb-83bd-ae2564bb8cb5",
   "metadata": {},
   "source": [
    "Q8: What is the z score? State the importance of the z score."
   ]
  },
  {
   "cell_type": "code",
   "execution_count": 10,
   "id": "b0e5561d-e369-40e5-a637-dea6a774ba82",
   "metadata": {},
   "outputs": [],
   "source": [
    "## The z-score, also known as the standard score or standardized value, is a statistical measure that represents the number of standard deviations \n",
    "#  a data point is from the mean of a dataset. It is used to standardize data and compare individual data points relative to the overall distribution.\n",
    "\n",
    "## Importance of the z-score:\n",
    "\n",
    "# 1) Standardization and Comparison: The z-score standardizes data by transforming it into a common scale. This allows for easy comparison \n",
    "#                                    and interpretation of data across different distributions, variables, or datasets.\n",
    "\n",
    "# 2) Identifying Outliers: Extreme z-scores, those significantly larger or smaller than 0, indicate outliers in the data. Outliers are data points \n",
    "#                          that deviate significantly from the majority of the data and might need special attention in analysis.\n",
    "\n",
    "# 3) Normality Testing: Z-scores are used in normality tests to check if a dataset follows a normal distribution. If the z-scores for most data points \n",
    "#                       are close to 0, it suggests that the dataset is approximately normally distributed."
   ]
  },
  {
   "cell_type": "markdown",
   "id": "08892bdb-5c40-454c-93a1-840a8fbbb24d",
   "metadata": {},
   "source": [
    "Q9: What is Central Limit Theorem? State the significance of the Central Limit Theorem."
   ]
  },
  {
   "cell_type": "code",
   "execution_count": 11,
   "id": "46c9d125-62a2-46da-a2ae-d62b6b7628e5",
   "metadata": {},
   "outputs": [],
   "source": [
    "## Central Limit Theorem :- The Central Limit Theorem (CLT) is a fundamental concept in statistics that describes the behavior of the \n",
    "#                          sample means of a large number of independent and identically distributed random variables.\n",
    "\n",
    "\n",
    "## Significance of the Central Limit Theorem:\n",
    "\n",
    "# 1) Foundation of Inference: The Central Limit Theorem forms the basis of many statistical methods, allowing us to make inferences about \n",
    "#                              population parameters from sample statistics.\n",
    "\n",
    "# 2) Confidence Intervals: The CLT is used to construct confidence intervals, which provide a range of values within which the true population \n",
    "#                          parameter is likely to fall with a certain level of confidence.\n",
    "\n",
    "# 3) Hypothesis Testing: The CLT is essential in hypothesis testing, where we compare sample statistics to population parameters to make decisions \n",
    "#                         about the validity of hypotheses."
   ]
  },
  {
   "cell_type": "markdown",
   "id": "b5636d77-e291-4b74-8b77-a3d0b12785ac",
   "metadata": {},
   "source": [
    "Q10: State the assumptions of the Central Limit Theorem."
   ]
  },
  {
   "cell_type": "code",
   "execution_count": 12,
   "id": "151b0afc-05e1-4f63-88c1-70652842cfac",
   "metadata": {},
   "outputs": [],
   "source": [
    "## The main assumptions of the Central Limit Theorem are as follows:\n",
    "\n",
    "# 1) Random Sampling: The samples taken from the population must be chosen randomly and independently. Each data point should have an equal chance \n",
    "#                     of being included in the sample, and the selection of one data point should not influence the selection of other data points.\n",
    "\n",
    "# 2) Independent and Identically Distributed (i.i.d.) Data: The sampled observations must be independent and identically distributed. \n",
    "#                Independence means that the value of one observation should not be related to or influenced by the value of another observation.\n",
    "#                Identically distributed means that all the data points in the sample come from the same underlying distribution with the same mean and variance.\n",
    "\n",
    "# 3) Finite Variance: The population from which the samples are drawn must have a finite variance (i.e., the values should not be too spread out). \n",
    "#                     If the population variance is infinite or undefined, the CLT may not hold.\n",
    "\n",
    "# 4) Sample Size: The CLT is most reliable when the sample size is sufficiently large (typically n ≥ 30). As the sample size increases, \n",
    "#                 the sampling distribution of the sample means more closely approximates a normal distribution, regardless of the shape of the original population."
   ]
  },
  {
   "cell_type": "code",
   "execution_count": null,
   "id": "8742a6fa-266f-40d7-a4b8-7d66dfb0c389",
   "metadata": {},
   "outputs": [],
   "source": []
  }
 ],
 "metadata": {
  "kernelspec": {
   "display_name": "Python 3 (ipykernel)",
   "language": "python",
   "name": "python3"
  },
  "language_info": {
   "codemirror_mode": {
    "name": "ipython",
    "version": 3
   },
   "file_extension": ".py",
   "mimetype": "text/x-python",
   "name": "python",
   "nbconvert_exporter": "python",
   "pygments_lexer": "ipython3",
   "version": "3.10.8"
  }
 },
 "nbformat": 4,
 "nbformat_minor": 5
}
