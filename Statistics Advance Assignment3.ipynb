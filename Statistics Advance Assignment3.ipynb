{
 "cells": [
  {
   "cell_type": "markdown",
   "id": "b93c4b2a-41e6-466e-9ccc-18d6465b0710",
   "metadata": {},
   "source": [
    "Q1: What is Estimation Statistics? Explain point estimate and interval estimate."
   ]
  },
  {
   "cell_type": "code",
   "execution_count": 1,
   "id": "d034c583-3e69-49ab-9e7e-c2c461b1fd38",
   "metadata": {},
   "outputs": [],
   "source": [
    "## Estimation statistics is a branch of statistics that deals with the process of estimating population parameters based on sample data. \n",
    "#  In many real-world scenarios, it is not feasible or practical to collect data from an entire population. Instead, statisticians use samples \n",
    "#  to make inferences about the larger population.\n",
    "\n",
    "## Point Estimate:\n",
    "# A point estimate is a single value that serves as the best guess or approximation of an unknown population parameter. It is calculated using sample statistics, \n",
    "# such as the sample mean, sample proportion, or sample median, which are used as estimators for the corresponding population parameters.\n",
    "\n",
    "## Interval Estimate:\n",
    "# An interval estimate, also known as a confidence interval, is a range of values within which the population parameter is likely to lie, \n",
    "# along with a level of confidence associated with the interval. It provides a measure of the uncertainty or variability associated with the point estimate."
   ]
  },
  {
   "cell_type": "markdown",
   "id": "0078b81e-b74f-4441-b510-c800f139508b",
   "metadata": {},
   "source": [
    "Q2. Write a Python function to estimate the population mean using a sample mean and standard \n",
    "deviation"
   ]
  },
  {
   "cell_type": "code",
   "execution_count": 3,
   "id": "9da4f353-e0d8-4304-83d5-1530ec4b7395",
   "metadata": {},
   "outputs": [
    {
     "name": "stdout",
     "output_type": "stream",
     "text": [
      "Estimated Population Mean: 25.6\n"
     ]
    }
   ],
   "source": [
    "def estimate_population_mean(sample_mean, sample_std_dev):\n",
    "    return sample_mean\n",
    "\n",
    "sample_mean = 25.6\n",
    "sample_std_dev = 3.2\n",
    "\n",
    "estimated_mean = estimate_population_mean(sample_mean, sample_std_dev)\n",
    "print(\"Estimated Population Mean:\", estimated_mean)"
   ]
  },
  {
   "cell_type": "markdown",
   "id": "14fe9b3b-4a67-457a-a3cb-6d9f2b4d5dca",
   "metadata": {},
   "source": [
    "Q3: What is Hypothesis testing? Why is it used? State the importance of Hypothesis testing."
   ]
  },
  {
   "cell_type": "code",
   "execution_count": 4,
   "id": "171267b5-4837-466b-a2b8-94ac8301884e",
   "metadata": {},
   "outputs": [],
   "source": [
    "## Hypothesis testing :- Hypothesis testing is a statistical method used to make inferences about population parameters based on sample data. \n",
    "#                        It is a crucial component of inferential statistics and is commonly used in scientific research, data analysis, and decision-making processes.\n",
    "\n",
    "\n",
    "## The steps involved in hypothesis testing are as follows:\n",
    "\n",
    "# 1) Formulate the null hypothesis (H0) and the alternative hypothesis (Ha).\n",
    "# 2) Choose an appropriate statistical test based on the data and research question.\n",
    "# 3) Collect sample data and calculate a test statistic.\n",
    "# 4) Determine the probability of obtaining the observed test statistic (or more extreme values) if the null hypothesis is true. This probability is called the p-value.\n",
    "# 5) Compare the p-value to a pre-defined significance level (often denoted by alpha, typically set to 0.05).\n",
    "# 6) If the p-value is less than or equal to the significance level, we reject the null hypothesis in favor of the alternative hypothesis.\n",
    "#    Otherwise, we fail to reject the null hypothesis.\n",
    "\n",
    "## Here are some key reasons why hypothesis testing is used:\n",
    "\n",
    "# 1) Decision Making: Hypothesis testing provides a systematic way to make decisions in uncertain situations. By setting up null and alternative hypotheses, \n",
    "#                     we can determine if there is enough evidence to support a particular claim or decision.\n",
    "# 2) Scientific Research: Hypothesis testing is fundamental in scientific research to test theories, validate hypotheses, and draw meaningful \n",
    "#                         conclusions from data. It allows researchers to make generalizations about a population based on sample data.\n",
    "# 3) Quality Control and Process Improvement: In various industries, hypothesis testing is used to assess product quality, compare different \n",
    "#                                             manufacturing processes, and identify areas for improvement.\n",
    "# 4) Medical and Pharmaceutical Studies: Hypothesis testing is employed to evaluate the effectiveness of new drugs or treatments in clinical trials.\n",
    "# 5) Business Decision Making: In business analytics, hypothesis testing is utilized to assess marketing strategies, product launches, and various business initiatives.\n",
    "# 6) Public Policy and Social Sciences: Hypothesis testing helps policymakers and social scientists evaluate the impact of policies, interventions, or social programs.\n",
    "# 7) Legal and Judicial Systems: Hypothesis testing can play a role in the evaluation of evidence in legal cases."
   ]
  },
  {
   "cell_type": "markdown",
   "id": "e8d295df-b321-4843-a648-5f0bdf54f2a1",
   "metadata": {},
   "source": [
    "Q4. Create a hypothesis that states whether the average weight of male college students is greater than \n",
    "the average weight of female college students."
   ]
  },
  {
   "cell_type": "code",
   "execution_count": 5,
   "id": "aab57b72-153f-4b57-9d52-d4172f0c92d3",
   "metadata": {},
   "outputs": [],
   "source": [
    "## Hypothesis:\n",
    "\n",
    "# Null Hypothesis (H0): The average weight of male college students is equal to or less than the average weight of female college students.\n",
    "\n",
    "# Alternative Hypothesis (Ha): The average weight of male college students is greater than the average weight of female college students.\n",
    "\n",
    "# Symbolically, this can be represented as:\n",
    "\n",
    "# H0: μ_male <= μ_female\n",
    "# Ha: μ_male > μ_female\n",
    "\n",
    "# Where:\n",
    "\n",
    "# H0 (Null Hypothesis): It assumes that there is no significant difference between the average weight of male and female college students.\n",
    "# Ha (Alternative Hypothesis): It suggests that there is a significant difference, and the average weight of male college students is greater \n",
    "#                              than the average weight of female college students.\n",
    "# To test this hypothesis, you would need to collect data on the weights of male and female college students and perform a statistical test, \n",
    "#  such as a t-test or z-test, to determine if there is enough evidence to reject the null hypothesis in favor of the alternative hypothesis.\n",
    "#   The choice of the specific test would depend on factors like the sample size and whether the population standard deviations are known."
   ]
  },
  {
   "cell_type": "markdown",
   "id": "b4810f84-8387-4dd3-9649-fddbe42b5082",
   "metadata": {},
   "source": [
    "Q5. Write a Python script to conduct a hypothesis test on the difference between two population means, \n",
    "given a sample from each population."
   ]
  },
  {
   "cell_type": "code",
   "execution_count": 6,
   "id": "0fee6802-f577-4888-8867-7606ed3aa63b",
   "metadata": {},
   "outputs": [
    {
     "name": "stdout",
     "output_type": "stream",
     "text": [
      "T-Statistic: 5.793215132467495\n",
      "P-Value: 1.7259796017743412e-05\n",
      "Reject the null hypothesis. There is a significant difference between the means.\n"
     ]
    }
   ],
   "source": [
    "import numpy as np\n",
    "from scipy import stats\n",
    "\n",
    "def conduct_t_test(sample1, sample2, alpha=0.05):\n",
    "    \n",
    "    mean1 = np.mean(sample1)\n",
    "    mean2 = np.mean(sample2)\n",
    "    std_dev1 = np.std(sample1, ddof=1)  \n",
    "    std_dev2 = np.std(sample2, ddof=1)\n",
    "\n",
    "    \n",
    "    pooled_std_dev = np.sqrt((std_dev1**2 + std_dev2**2) / 2)\n",
    "\n",
    "    \n",
    "    t_statistic = (mean1 - mean2) / (pooled_std_dev * np.sqrt(2/len(sample1)))\n",
    "\n",
    "    \n",
    "    df = len(sample1) + len(sample2) - 2\n",
    "\n",
    "    \n",
    "    critical_t_value = stats.t.ppf(1 - alpha/2, df)\n",
    "\n",
    "    \n",
    "    p_value = 2 * (1 - stats.t.cdf(abs(t_statistic), df))\n",
    "\n",
    "    \n",
    "    if p_value < alpha:\n",
    "        conclusion = \"Reject the null hypothesis. There is a significant difference between the means.\"\n",
    "    else:\n",
    "        conclusion = \"Fail to reject the null hypothesis. There is no significant difference between the means.\"\n",
    "\n",
    "    return t_statistic, p_value, conclusion\n",
    "\n",
    "\n",
    "sample1 = np.array([65, 68, 70, 72, 63, 67, 71, 69, 66, 68])\n",
    "sample2 = np.array([60, 62, 64, 58, 63, 61, 59, 65, 62, 60])\n",
    "alpha = 0.05\n",
    "\n",
    "t_statistic, p_value, conclusion = conduct_t_test(sample1, sample2, alpha)\n",
    "\n",
    "print(\"T-Statistic:\", t_statistic)\n",
    "print(\"P-Value:\", p_value)\n",
    "print(conclusion)"
   ]
  },
  {
   "cell_type": "markdown",
   "id": "9704ac8e-42a0-44d7-bcff-dcfa45256f1a",
   "metadata": {},
   "source": [
    "Q6: What is a null and alternative hypothesis? Give some examples."
   ]
  },
  {
   "cell_type": "code",
   "execution_count": 7,
   "id": "a29f6407-5511-4b73-b5a5-2150ffd1c6de",
   "metadata": {},
   "outputs": [],
   "source": [
    "## Null Hypothesis (H0):\n",
    "# The null hypothesis represents the status quo or the assumption that there is no significant effect or difference in the population.\n",
    "#    It is typically denoted as H0 and is what we aim to test in hypothesis testing. In other words, it assumes that any observed differences or \n",
    "#     effects in the sample data are due to random chance or sampling variability.\n",
    "\n",
    "# Example :\n",
    "# H0: The average IQ of students in a school is 100.\n",
    "# In this example, the null hypothesis assumes that the average IQ of students in the school is 100, and any deviations from this value in the \n",
    "# sample data are just due to random fluctuations.\n",
    "\n",
    "## Alternative Hypothesis (Ha):\n",
    "# The alternative hypothesis represents the research question or the claim we want to test. It is the opposite of the null hypothesis and \n",
    "#  suggests that there is a significant effect, difference, or relationship in the population that is not explained by random chance.\n",
    "\n",
    "# Example :\n",
    "# Ha: The average IQ of students in a school is greater than 100.\n",
    "# In this example, the alternative hypothesis states that the average IQ of students in the school is greater than 100, indicating that there might \n",
    "#  be a meaningful difference in intelligence levels compared to the null hypothesis."
   ]
  },
  {
   "cell_type": "markdown",
   "id": "02ec618f-c09e-46d2-bebd-ef597302a62b",
   "metadata": {},
   "source": [
    "Q7: Write down the steps involved in hypothesis testing."
   ]
  },
  {
   "cell_type": "code",
   "execution_count": 8,
   "id": "6bed2fd9-c344-473a-b571-e73bb74a1412",
   "metadata": {},
   "outputs": [],
   "source": [
    "## The general steps in hypothesis testing are as follows:\n",
    "\n",
    "# 1) State the Hypotheses:\n",
    "# Formulate the null hypothesis (H0) and the alternative hypothesis (Ha) based on the research question or claim being investigated. \n",
    "# The null hypothesis typically represents the status quo or no significant effect, while the alternative hypothesis represents the hypothesis to be tested.\n",
    "\n",
    "# 2) Select a Significance Level (alpha):\n",
    "# Choose a significance level (alpha), often denoted by α, which represents the maximum allowable probability of making a Type I error. \n",
    "# Commonly used values for alpha are 0.05 (5%) or 0.01 (1%). The significance level determines the threshold for rejecting the null hypothesis.\n",
    "\n",
    "# 3) Choose the Appropriate Test Statistic:\n",
    "# Select a suitable statistical test based on the nature of the data and the research question. The choice of test depends on factors\n",
    "# like the type of data (e.g., continuous or categorical) and whether you are comparing two groups or more.\n",
    "\n",
    "# 4) Collect and Analyze Data:\n",
    "# Collect the sample data relevant to the hypothesis being tested. Perform the necessary calculations to compute the test statistic using the sample data.\n",
    "\n",
    "# 5) Calculate the Test Statistic and P-Value:\n",
    "# Calculate the test statistic based on the sample data and the chosen statistical test. Then, determine the probability of obtaining \n",
    "# the observed test statistic (or more extreme values) under the assumption that the null hypothesis is true. This probability is known as the p-value.\n",
    "\n",
    "# 6) Make a Decision:\n",
    "# Compare the p-value to the significance level (alpha). If the p-value is less than or equal to alpha, reject the null hypothesis in favor of the \n",
    "# alternative hypothesis. If the p-value is greater than alpha, fail to reject the null hypothesis.\n",
    "\n",
    "# 7) Interpret the Results:\n",
    "# If you reject the null hypothesis, interpret the results in the context of the research question. State that there is enough evidence to \n",
    "# support the alternative hypothesis. If you fail to reject the null hypothesis, conclude that there is not enough evidence to support the \n",
    "# alternative hypothesis, but it does not necessarily mean the null hypothesis is true.\n",
    "\n",
    "# 8) Draw Conclusions:\n",
    "# Based on the results of the hypothesis test, draw meaningful conclusions about the population parameter being investigated.\n",
    "# The conclusion should be stated in terms of the research question and the hypotheses.\n",
    "\n",
    "# 9) Discuss Limitations:\n",
    "# Consider and discuss any limitations or assumptions made during the hypothesis testing process. Be transparent about the scope of the \n",
    "# conclusions based on the data and the assumptions of the statistical test used."
   ]
  },
  {
   "cell_type": "markdown",
   "id": "87e8c9da-1fbe-4b17-9af0-8db1486926cf",
   "metadata": {},
   "source": [
    "Q8. Define p-value and explain its significance in hypothesis testing."
   ]
  },
  {
   "cell_type": "code",
   "execution_count": 9,
   "id": "3036688a-3e24-4be3-8465-87a347f0d525",
   "metadata": {},
   "outputs": [],
   "source": [
    "## The p-value, short for \"probability value,\" is a crucial concept in hypothesis testing. It represents the probability of obtaining \n",
    "#  a test statistic (or a more extreme value) under the assumption that the null hypothesis is true. \n",
    "\n",
    "## significance in hypothesis testing:- \n",
    "\n",
    "# Interpreting the p-value:\n",
    "\n",
    "# When conducting a hypothesis test, we calculate the test statistic based on the sample data and then calculate the corresponding p-value.\n",
    "# The p-value is a probability between 0 and 1. A small p-value indicates that the observed data are unlikely to have occurred by chance alone,\n",
    "# assuming the null hypothesis is true. Conversely, a large p-value suggests that the observed data are reasonably likely to occur under \n",
    "# the assumption of the null hypothesis.\n",
    "\n",
    "# Comparing the p-value to the Significance Level (alpha):\n",
    "\n",
    "# To make a decision about the null hypothesis, we compare the p-value to the chosen significance level (alpha). \n",
    "# The significance level is the threshold set by the researcher to determine the level of evidence required to reject the null hypothesis.\n",
    "# Commonly used significance levels are 0.05 (5%) or 0.01 (1%)."
   ]
  },
  {
   "cell_type": "markdown",
   "id": "e7bfa215-55a2-47fe-ae1a-ca6d4f1a0c21",
   "metadata": {},
   "source": [
    "Q9. Generate a Student's t-distribution plot using Python's matplotlib library, with the degrees of freedom \n",
    "parameter set to 10."
   ]
  },
  {
   "cell_type": "code",
   "execution_count": 10,
   "id": "bfa6f9c7-eb90-4479-ad03-795fd2d9f6e9",
   "metadata": {},
   "outputs": [
    {
     "data": {
      "image/png": "[encoded data removed]",
      "text/plain": [
       "<Figure size 800x600 with 1 Axes>"
      ]
     },
     "metadata": {},
     "output_type": "display_data"
    }
   ],
   "source": [
    "import numpy as np\n",
    "import matplotlib.pyplot as plt\n",
    "from scipy.stats import t\n",
    "\n",
    "\n",
    "degrees_of_freedom = 10\n",
    "x = np.linspace(-5, 5, 1000)\n",
    "pdf_values = t.pdf(x, df=degrees_of_freedom)\n",
    "\n",
    "plt.figure(figsize=(8, 6))\n",
    "plt.plot(x, pdf_values, label=f\"Degrees of Freedom = {degrees_of_freedom}\")\n",
    "plt.title(\"Student's t-Distribution\")\n",
    "plt.xlabel(\"x\")\n",
    "plt.ylabel(\"Probability Density Function (PDF)\")\n",
    "plt.legend()\n",
    "plt.grid(True)\n",
    "plt.show()"
   ]
  },
  {
   "cell_type": "markdown",
   "id": "cb33ab53-43f6-4a60-8bbb-ff3f9765b642",
   "metadata": {},
   "source": [
    "Q10. Write a Python program to calculate the two-sample t-test for independent samples, given two \n",
    "random samples of equal size and a null hypothesis that the population means are equal."
   ]
  },
  {
   "cell_type": "code",
   "execution_count": 11,
   "id": "697ef295-8b11-4b1d-8db3-74e611a7e138",
   "metadata": {},
   "outputs": [
    {
     "name": "stdout",
     "output_type": "stream",
     "text": [
      "Two-Sample T-Test Results:\n",
      "T-Statistic: 1.6385760607458262\n",
      "P-Value: 0.1399346762743179\n",
      "Result is not statistically significant. Fail to reject the null hypothesis.\n"
     ]
    }
   ],
   "source": [
    "import numpy as np\n",
    "from scipy import stats\n",
    "\n",
    "def two_sample_t_test(sample1, sample2):\n",
    "    \n",
    "    t_statistic, p_value = stats.ttest_ind(sample1, sample2)\n",
    "\n",
    "    return t_statistic, p_value\n",
    "\n",
    "\n",
    "sample1 = np.array([25, 27, 30, 32, 28])\n",
    "sample2 = np.array([22, 24, 26, 29, 27])\n",
    "\n",
    "t_statistic, p_value = two_sample_t_test(sample1, sample2)\n",
    "\n",
    "print(\"Two-Sample T-Test Results:\")\n",
    "print(\"T-Statistic:\", t_statistic)\n",
    "print(\"P-Value:\", p_value)\n",
    "alpha = 0.05\n",
    "if p_value < alpha:\n",
    "    print(\"Result is statistically significant. Reject the null hypothesis.\")\n",
    "else:\n",
    "    print(\"Result is not statistically significant. Fail to reject the null hypothesis.\")"
   ]
  },
  {
   "cell_type": "markdown",
   "id": "e1afbeab-b1e4-4c38-ade6-db3e0497a190",
   "metadata": {},
   "source": [
    "Q11: What is Student’s t distribution? When to use the t-Distribution."
   ]
  },
  {
   "cell_type": "code",
   "execution_count": 12,
   "id": "5ff86f7b-821e-4fba-9ee6-6c354dce0465",
   "metadata": {},
   "outputs": [],
   "source": [
    "## Student’s t distribution :- Student's t-distribution, often simply referred to as the t-distribution, is a probability distribution that \n",
    "#  is used in hypothesis testing and confidence interval estimation when the sample size is small and the population standard deviation is unknown. \n",
    "#  It is named after William Sealy Gosset, who used the pseudonym \"Student\" when publishing his work on small sample statistics in 1908.\n",
    "\n",
    "## The t-distribution is used in situations where:\n",
    "\n",
    "# 1) Small Sample Size: When the sample size is small (typically n < 30), the t-distribution is preferred over the standard normal distribution \n",
    "#    because it accounts for the additional uncertainty due to the limited data.\n",
    "\n",
    "# 2) Unknown Population Standard Deviation: If the population standard deviation is unknown, the t-distribution should be used in place of\n",
    "#    the z-distribution. When using the z-distribution, the population standard deviation must be known or estimated from a large sample.\n",
    "\n",
    "# 3) Hypothesis Testing: When conducting hypothesis tests for population means (one-sample t-test, two-sample t-test), and the sample size is\n",
    "#    small or the population standard deviation is unknown, the t-distribution is employed."
   ]
  },
  {
   "cell_type": "markdown",
   "id": "7222a95c-05fc-42d2-a316-58817ff84ce6",
   "metadata": {},
   "source": [
    "Q12: What is t-statistic? State the formula for t-statistic."
   ]
  },
  {
   "cell_type": "code",
   "execution_count": 13,
   "id": "0e04d6ee-cd02-45cd-9b3e-e232716cc4d6",
   "metadata": {},
   "outputs": [],
   "source": [
    "## t-statistic :- The t-statistic is a measure used in hypothesis testing to assess the difference between a sample mean and a hypothesized population\n",
    "#                 mean, taking into account the variability in the sample data. It quantifies the distance of the sample mean from the hypothesized \n",
    "#                 population mean in terms of the standard error of the sample mean.\n",
    "\n",
    "## The formula for the t-statistic is given by:\n",
    "\n",
    "##  t = (x̄ - μ) / (s / √n)\n",
    "\n",
    "# Where:\n",
    "\n",
    "# t: The t-statistic.\n",
    "# x̄: The sample mean.\n",
    "# μ: The hypothesized population mean under the null hypothesis.\n",
    "# s: The sample standard deviation.\n",
    "# n: The sample size."
   ]
  },
  {
   "cell_type": "markdown",
   "id": "c891e47f-ecb7-4228-80bd-ca8d5c97009d",
   "metadata": {},
   "source": [
    "Q13. A coffee shop owner wants to estimate the average daily revenue for their shop. They take a random \n",
    "sample of 50 days and find the sample mean revenue to be $500 with a standard deviation of $50. \n",
    "Estimate the population mean revenue with a 95% confidence interval."
   ]
  },
  {
   "cell_type": "code",
   "execution_count": 14,
   "id": "9472c751-71c7-4c9f-b89b-a692bceddda2",
   "metadata": {},
   "outputs": [
    {
     "name": "stdout",
     "output_type": "stream",
     "text": [
      "95% Confidence Interval for the population mean revenue: $485.79 to $514.21\n"
     ]
    }
   ],
   "source": [
    "import math\n",
    "sample_mean = 500\n",
    "sample_std_dev = 50\n",
    "sample_size = 50\n",
    "confidence_level = 0.95\n",
    "critical_value = stats.t.ppf((1 + confidence_level) / 2, df=sample_size - 1)\n",
    "margin_of_error = critical_value * (sample_std_dev / math.sqrt(sample_size))\n",
    "lower_bound = sample_mean - margin_of_error\n",
    "upper_bound = sample_mean + margin_of_error\n",
    "print(f\"95% Confidence Interval for the population mean revenue: ${lower_bound:.2f} to ${upper_bound:.2f}\")"
   ]
  },
  {
   "cell_type": "markdown",
   "id": "590f589b-0260-441c-ada8-f8788edc854a",
   "metadata": {},
   "source": [
    "Q14. A researcher hypothesizes that a new drug will decrease blood pressure by 10 mmHg. They conduct a \n",
    "clinical trial with 100 patients and find that the sample mean decrease in blood pressure is 8 mmHg with a \n",
    "standard deviation of 3 mmHg. Test the hypothesis with a significance level of 0.05."
   ]
  },
  {
   "cell_type": "code",
   "execution_count": 15,
   "id": "b5bbbbf0-0d24-440d-97f1-c5454d55077d",
   "metadata": {},
   "outputs": [
    {
     "name": "stdout",
     "output_type": "stream",
     "text": [
      "Reject the null hypothesis. The new drug has a significant effect on decreasing blood pressure.\n"
     ]
    }
   ],
   "source": [
    "import numpy as np\n",
    "from scipy import stats\n",
    "\n",
    "\n",
    "sample_mean = 8  \n",
    "null_hypothesis = 10 \n",
    "sample_std_dev = 3  \n",
    "sample_size = 100  \n",
    "alpha = 0.05  \n",
    "t_statistic = (sample_mean - null_hypothesis) / (sample_std_dev / np.sqrt(sample_size))\n",
    "degrees_of_freedom = sample_size - 1\n",
    "critical_t_value = stats.t.ppf(1 - alpha, df=degrees_of_freedom)\n",
    "if t_statistic < -critical_t_value or t_statistic > critical_t_value:\n",
    "    print(\"Reject the null hypothesis. The new drug has a significant effect on decreasing blood pressure.\")\n",
    "else:\n",
    "    print(\"Fail to reject the null hypothesis. There is not enough evidence to conclude that the drug decreases blood pressure by 10 mmHg.\")"
   ]
  },
  {
   "cell_type": "markdown",
   "id": "186f1635-0378-4ce2-ad71-603d6708c25b",
   "metadata": {},
   "source": [
    "Q15. An electronics company produces a certain type of product with a mean weight of 5 pounds and a \n",
    "standard deviation of 0.5 pounds. A random sample of 25 products is taken, and the sample mean weight \n",
    "is found to be 4.8 pounds. Test the hypothesis that the true mean weight of the products is less than 5 \n",
    "pounds with a significance level of 0.01."
   ]
  },
  {
   "cell_type": "code",
   "execution_count": 16,
   "id": "9baa4fe8-b1a0-4a37-8290-351b009a13ee",
   "metadata": {},
   "outputs": [
    {
     "name": "stdout",
     "output_type": "stream",
     "text": [
      "Reject the null hypothesis. The true mean weight of the products is less than 5 pounds.\n"
     ]
    }
   ],
   "source": [
    "import numpy as np\n",
    "from scipy import stats\n",
    "\n",
    "\n",
    "sample_mean = 4.8  \n",
    "population_mean = 5 \n",
    "population_std_dev = 0.5  \n",
    "sample_size = 25  \n",
    "alpha = 0.01  \n",
    "standard_error = population_std_dev / np.sqrt(sample_size)\n",
    "t_statistic = (sample_mean - population_mean) / standard_error\n",
    "degrees_of_freedom = sample_size - 1\n",
    "critical_t_value = stats.t.ppf(alpha, df=degrees_of_freedom)\n",
    "if t_statistic < -critical_t_value:\n",
    "    print(\"Reject the null hypothesis. The true mean weight of the products is less than 5 pounds.\")\n",
    "else:\n",
    "    print(\"Fail to reject the null hypothesis. There is not enough evidence to conclude that the true mean weight is less than 5 pounds.\")"
   ]
  },
  {
   "cell_type": "markdown",
   "id": "c0407324-5980-4c04-90c5-78de950b7e24",
   "metadata": {},
   "source": [
    "Q16. Two groups of students are given different study materials to prepare for a test. The first group (n1 = \n",
    "30) has a mean score of 80 with a standard deviation of 10, and the second group (n2 = 40) has a mean \n",
    "score of 75 with a standard deviation of 8. Test the hypothesis that the population means for the two \n",
    "groups are equal with a significance level of 0.01"
   ]
  },
  {
   "cell_type": "code",
   "execution_count": 17,
   "id": "c0e9dfb5-cdbd-4687-84ad-d9ce432edb53",
   "metadata": {},
   "outputs": [
    {
     "name": "stdout",
     "output_type": "stream",
     "text": [
      "Fail to reject the null hypothesis. There is not enough evidence to conclude that the population means are different for the two groups.\n"
     ]
    }
   ],
   "source": [
    "import numpy as np\n",
    "from scipy import stats\n",
    "\n",
    "\n",
    "sample_mean_1 = 80  \n",
    "sample_std_dev_1 = 10 \n",
    "sample_size_1 = 30  \n",
    "\n",
    "\n",
    "sample_mean_2 = 75  \n",
    "sample_std_dev_2 = 8 \n",
    "sample_size_2 = 40 \n",
    "\n",
    "alpha = 0.01  \n",
    "pooled_std_dev = np.sqrt(((sample_std_dev_1**2 * (sample_size_1 - 1)) + (sample_std_dev_2**2 * (sample_size_2 - 1))) / (sample_size_1 + sample_size_2 - 2))\n",
    "t_statistic = (sample_mean_1 - sample_mean_2) / (pooled_std_dev * np.sqrt((1/sample_size_1) + (1/sample_size_2)))\n",
    "degrees_of_freedom = sample_size_1 + sample_size_2 - 2\n",
    "critical_t_value = stats.t.ppf(1 - alpha/2, df=degrees_of_freedom)\n",
    "if abs(t_statistic) > critical_t_value:\n",
    "    print(\"Reject the null hypothesis. The population means for the two groups are not equal.\")\n",
    "else:\n",
    "    print(\"Fail to reject the null hypothesis. There is not enough evidence to conclude that the population means are different for the two groups.\")"
   ]
  },
  {
   "cell_type": "markdown",
   "id": "db20083c-5ce5-45fa-8fd0-4cb8099f3e5b",
   "metadata": {},
   "source": [
    "Q17. A marketing company wants to estimate the average number of ads watched by viewers during a TV \n",
    "program. They take a random sample of 50 viewers and find that the sample mean is 4 with a standard \n",
    "deviation of 1.5. Estimate the population mean with a 99% confidence interval."
   ]
  },
  {
   "cell_type": "code",
   "execution_count": 20,
   "id": "dc748431-52f0-4fde-bcd3-9c9aab5c3081",
   "metadata": {},
   "outputs": [
    {
     "name": "stdout",
     "output_type": "stream",
     "text": [
      "99% Confidence Interval for the population mean number of ads watched: 3.43 to 4.57\n"
     ]
    }
   ],
   "source": [
    "import math\n",
    "\n",
    "\n",
    "sample_mean = 4 \n",
    "sample_std_dev = 1.5  \n",
    "sample_size = 50  \n",
    "confidence_level = 0.99  \n",
    "\n",
    "critical_value = stats.t.ppf((1 + confidence_level) / 2, df=sample_size - 1)\n",
    "margin_of_error = critical_value * (sample_std_dev / math.sqrt(sample_size))\n",
    "lower_bound = sample_mean - margin_of_error\n",
    "upper_bound = sample_mean + margin_of_error\n",
    "print(f\"99% Confidence Interval for the population mean number of ads watched: {lower_bound:.2f} to {upper_bound:.2f}\")"
   ]
  },
  {
   "cell_type": "code",
   "execution_count": null,
   "id": "2d7709a4-3158-4a26-bc84-fd9cddda931e",
   "metadata": {},
   "outputs": [],
   "source": []
  }
 ],
 "metadata": {
  "kernelspec": {
   "display_name": "Python 3 (ipykernel)",
   "language": "python",
   "name": "python3"
  },
  "language_info": {
   "codemirror_mode": {
    "name": "ipython",
    "version": 3
   },
   "file_extension": ".py",
   "mimetype": "text/x-python",
   "name": "python",
   "nbconvert_exporter": "python",
   "pygments_lexer": "ipython3",
   "version": "3.10.8"
  }
 },
 "nbformat": 4,
 "nbformat_minor": 5
}
