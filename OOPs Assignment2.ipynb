{
 "cells": [
  {
   "cell_type": "markdown",
   "id": "c731ac78-f12b-4c0a-bbad-2847998b9bec",
   "metadata": {},
   "source": [
    "Q1. What is Abstraction in OOps? Explain with an example."
   ]
  },
  {
   "cell_type": "code",
   "execution_count": 1,
   "id": "4d7d8e67-6fdd-4e6a-9385-f7f2788f5261",
   "metadata": {},
   "outputs": [],
   "source": [
    "# Abstraction in python is defined as a process of handling complexity by hiding unnecessary information from the user."
   ]
  },
  {
   "cell_type": "code",
   "execution_count": 7,
   "id": "288b271a-09ed-4da4-b6a1-acf037f01aef",
   "metadata": {},
   "outputs": [],
   "source": [
    "import abc\n",
    "class car:\n",
    "    @abc.abstractmethod\n",
    "    def car1_name(self):\n",
    "        pass\n",
    "    \n",
    "    @abc.abstractmethod\n",
    "    def car2_name(self):\n",
    "        pass\n",
    "    \n",
    "    @abc.abstractmethod\n",
    "    def car3_name(self):\n",
    "        pass"
   ]
  },
  {
   "cell_type": "code",
   "execution_count": 8,
   "id": "817d7216-8a01-46e8-9854-67f7c2d92757",
   "metadata": {},
   "outputs": [],
   "source": [
    "class car_details(car):\n",
    "    \n",
    "    def car1_name(self):\n",
    "        print(\"the name car1_name is tesla and its mileage is 30 kmpl\")\n",
    "        \n",
    "    def car2_name(self):\n",
    "        print(\"the name car2_name is Range Rovar and its mileage is 25 kmpl\")\n",
    "        \n",
    "    def car3_name(self):\n",
    "        print(\"the name car3_name is fortunar and its mileage is 20 kmpl\")"
   ]
  },
  {
   "cell_type": "code",
   "execution_count": 9,
   "id": "ff0d29da-0329-4aa6-ac38-b2c4a806fb91",
   "metadata": {},
   "outputs": [
    {
     "name": "stdout",
     "output_type": "stream",
     "text": [
      "the name car1_name is tesla and its mileage is 30 kmpl\n"
     ]
    }
   ],
   "source": [
    "Cd = car_details()\n",
    "Cd.car1_name()"
   ]
  },
  {
   "cell_type": "code",
   "execution_count": 10,
   "id": "c5ea64e9-4c66-40c9-a436-944c858f62ed",
   "metadata": {},
   "outputs": [
    {
     "name": "stdout",
     "output_type": "stream",
     "text": [
      "the name car2_name is Range Rovar and its mileage is 25 kmpl\n"
     ]
    }
   ],
   "source": [
    "Cd.car2_name()"
   ]
  },
  {
   "cell_type": "code",
   "execution_count": 12,
   "id": "317514cf-d635-4dee-ab15-c3af01d98e50",
   "metadata": {},
   "outputs": [
    {
     "name": "stdout",
     "output_type": "stream",
     "text": [
      "the name car3_name is fortunar and its mileage is 20 kmpl\n"
     ]
    }
   ],
   "source": [
    "Cd.car3_name()"
   ]
  },
  {
   "cell_type": "markdown",
   "id": "d99397d3-1260-4088-b8c7-afbd6e279b2b",
   "metadata": {},
   "source": [
    "Q2. Differentiate between Abstraction and Encapsulation. Explain with an example."
   ]
  },
  {
   "cell_type": "code",
   "execution_count": 13,
   "id": "2fbb2afc-c063-4c32-aeb7-8cc3ef812c49",
   "metadata": {},
   "outputs": [],
   "source": [
    "# Abstraction is hiding the details and implementation of the code.\n",
    "# Encapsulation is hiding the data and controlling the visibility of the code."
   ]
  },
  {
   "cell_type": "code",
   "execution_count": 16,
   "id": "c669e8ed-9b0b-41d9-9878-1fb439b8c58d",
   "metadata": {},
   "outputs": [
    {
     "data": {
      "text/plain": [
       "'Data_science'"
      ]
     },
     "execution_count": 16,
     "metadata": {},
     "output_type": "execute_result"
    }
   ],
   "source": [
    "## HERE THE EXAMPLE OF ENCAPSULATION :-\n",
    "\n",
    "\n",
    "class Employee:\n",
    "    def __init__(self, project, name, salary):\n",
    "        self.__project = project\n",
    "        self.__name = name\n",
    "        self.__salary = salary\n",
    "        \n",
    "\n",
    "c = Employee(\"Data_science\", \"Rahul\", 35000)\n",
    "c._Employee__project"
   ]
  },
  {
   "cell_type": "code",
   "execution_count": 17,
   "id": "a1cda57e-0d25-4f39-bc80-24922091bae8",
   "metadata": {},
   "outputs": [
    {
     "data": {
      "text/plain": [
       "35000"
      ]
     },
     "execution_count": 17,
     "metadata": {},
     "output_type": "execute_result"
    }
   ],
   "source": [
    "c._Employee__salary"
   ]
  },
  {
   "cell_type": "code",
   "execution_count": 18,
   "id": "e0a2d436-c768-432b-b80c-d056d2dd2045",
   "metadata": {},
   "outputs": [
    {
     "data": {
      "text/plain": [
       "'Rahul'"
      ]
     },
     "execution_count": 18,
     "metadata": {},
     "output_type": "execute_result"
    }
   ],
   "source": [
    "c._Employee__name"
   ]
  },
  {
   "cell_type": "markdown",
   "id": "4ccda392-530c-473f-8e92-c375cec30678",
   "metadata": {},
   "source": [
    "Q3. What is abc module in python? Why is it used?"
   ]
  },
  {
   "cell_type": "code",
   "execution_count": 1,
   "id": "f413e9b8-d13d-4157-ac17-68ac20b591fc",
   "metadata": {},
   "outputs": [],
   "source": [
    "# The 'abc' module in the Python library provides the infrastructure for defining custom abstract base classes.\n",
    "# The use of 'abc' module is to define how other classes should look like, i.e. what methods and properties they are expected to have."
   ]
  },
  {
   "cell_type": "markdown",
   "id": "118b8253-36af-4c5f-a5e7-c1315df3979e",
   "metadata": {},
   "source": [
    "Q4. How can we achieve data abstraction?"
   ]
  },
  {
   "cell_type": "code",
   "execution_count": 2,
   "id": "15a1098b-ef33-40b7-8a78-e47ca0229cb4",
   "metadata": {},
   "outputs": [],
   "source": [
    "# In Python, abstraction can be achieved by using abstract classes and methods in our programs and inheriting them later."
   ]
  },
  {
   "cell_type": "markdown",
   "id": "cfa8f3ea-87d7-425a-bb08-b008b5774ed0",
   "metadata": {},
   "source": [
    "Q5. Can we create an instance of an abstract class? Explain your answer"
   ]
  },
  {
   "cell_type": "code",
   "execution_count": 4,
   "id": "a1d61a7b-7aba-4a54-a2bd-d471f0666a35",
   "metadata": {},
   "outputs": [],
   "source": [
    "# We can't create an intence of an abstract class because abstract classes are not complete, as they may have some methods that are not defined,\n",
    "# but abstract classes can be subclassed."
   ]
  },
  {
   "cell_type": "code",
   "execution_count": null,
   "id": "ae24fd02-2fc5-4a63-8b32-ffbdbff9485d",
   "metadata": {},
   "outputs": [],
   "source": []
  }
 ],
 "metadata": {
  "kernelspec": {
   "display_name": "Python 3 (ipykernel)",
   "language": "python",
   "name": "python3"
  },
  "language_info": {
   "codemirror_mode": {
    "name": "ipython",
    "version": 3
   },
   "file_extension": ".py",
   "mimetype": "text/x-python",
   "name": "python",
   "nbconvert_exporter": "python",
   "pygments_lexer": "ipython3",
   "version": "3.10.8"
  }
 },
 "nbformat": 4,
 "nbformat_minor": 5
}
