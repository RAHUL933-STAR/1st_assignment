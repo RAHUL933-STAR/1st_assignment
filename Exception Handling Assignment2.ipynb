{
 "cells": [
  {
   "cell_type": "markdown",
   "id": "761eecab-d455-497f-ba49-77bcacb79c80",
   "metadata": {},
   "source": [
    "Q1. Explain why we have to use the Exception class while creating a Custom Exception.\n",
    "\n",
    "Note: Here Exception class refers to the base class for all the exceptions"
   ]
  },
  {
   "cell_type": "code",
   "execution_count": 1,
   "id": "f30b0177-f24d-49c9-8900-d437bdc8a8e1",
   "metadata": {},
   "outputs": [],
   "source": [
    "## Built-in exceptions offer information about Python-related problems, and custom exceptions will add information about project-related problems"
   ]
  },
  {
   "cell_type": "markdown",
   "id": "1da8eed3-1496-4a35-81c9-57570523c993",
   "metadata": {},
   "source": [
    "Q2. Write a python program to print Python Exception Hierarchy."
   ]
  },
  {
   "cell_type": "code",
   "execution_count": null,
   "id": "a8f01b20-159f-4d9c-983b-d80414d29fc6",
   "metadata": {},
   "outputs": [],
   "source": []
  },
  {
   "cell_type": "markdown",
   "id": "96b06f82-b9c5-4dc1-b1dd-ad04d3f44982",
   "metadata": {},
   "source": [
    "Q3. What errors are defined in the ArithmeticError class? Explain any two with an example."
   ]
  },
  {
   "cell_type": "code",
   "execution_count": null,
   "id": "e5ea7eab-9dc1-4130-aa19-c6bb0a606a9c",
   "metadata": {},
   "outputs": [],
   "source": [
    "## TYPE OF ARITHMETICERROR ARE AS FOLLOW :-\n",
    "# OverFlowError\n",
    "# ZeroDivisionError\n",
    "# FloatingPointError"
   ]
  },
  {
   "cell_type": "code",
   "execution_count": 4,
   "id": "c4f23624-aad4-46cb-8e18-13eaa2d773d9",
   "metadata": {},
   "outputs": [
    {
     "name": "stdout",
     "output_type": "stream",
     "text": [
      "we are handling ZeroDivisionError division by zero\n"
     ]
    }
   ],
   "source": [
    "## ZeroDivisionError :-\n",
    "try:\n",
    "    a = 5/0\n",
    "except ZeroDivisionError as e:\n",
    "    print(\"we are handling ZeroDivisionError\", e)"
   ]
  },
  {
   "cell_type": "code",
   "execution_count": 5,
   "id": "d4edb916-a9f4-4114-b1f9-be1ae5a1f475",
   "metadata": {},
   "outputs": [
    {
     "name": "stdout",
     "output_type": "stream",
     "text": [
      "Overflow error happened\n",
      "(34, 'Numerical result out of range'), <class 'OverflowError'>\n"
     ]
    }
   ],
   "source": [
    "## OverFlowError :-\n",
    "j = 5.0\n",
    "\n",
    "try:\n",
    "    for i in range(1, 1000):\n",
    "        j = j**i\n",
    "except OverflowError as e:\n",
    "    print(\"Overflow error happened\")\n",
    "    print(f\"{e}, {e.__class__}\")"
   ]
  },
  {
   "cell_type": "markdown",
   "id": "6e8be6d4-8560-40ea-b3dc-de8f5ee1f08a",
   "metadata": {},
   "source": [
    "Q4. Why LookupError class is used? Explain with an example KeyError and IndexError"
   ]
  },
  {
   "cell_type": "code",
   "execution_count": 6,
   "id": "32eed493-f767-45cc-b812-6a125fa8378b",
   "metadata": {},
   "outputs": [
    {
     "name": "stdout",
     "output_type": "stream",
     "text": [
      "'key2'\n"
     ]
    }
   ],
   "source": [
    "# The LookupError class in Python is a base class for all errors that occur when a key or index is not found during a lookup operation.\n",
    "# Two common subclasses of LookupError are KeyError and IndexError\n",
    "\n",
    "## KeyError :- \n",
    "try:\n",
    "    d = {\"key\": \"sudh\", 1: [22, 13, 45, 65]}\n",
    "    print(d[\"key2\"])\n",
    "except KeyError as e:\n",
    "    print(e)"
   ]
  },
  {
   "cell_type": "code",
   "execution_count": 7,
   "id": "2709b869-c111-4555-a4ed-45d8aaf75516",
   "metadata": {},
   "outputs": [
    {
     "name": "stdout",
     "output_type": "stream",
     "text": [
      "Now, we are handling IndexError list index out of range\n"
     ]
    }
   ],
   "source": [
    "## IndexError :-\n",
    "\n",
    "try:\n",
    "    l = [1,2,3,54,6,7,8,9,12]\n",
    "    print(l[9])\n",
    "except IndexError as e:\n",
    "    print(\"Now, we are handling IndexError\", e) "
   ]
  },
  {
   "cell_type": "markdown",
   "id": "d46aa69e-71eb-4ddb-986c-318b4125907a",
   "metadata": {},
   "source": [
    "Q5. Explain ImportError. What is ModuleNotFoundError?"
   ]
  },
  {
   "cell_type": "code",
   "execution_count": 8,
   "id": "6bb491c6-4643-42fc-b0a4-53ec840642c8",
   "metadata": {},
   "outputs": [
    {
     "name": "stdout",
     "output_type": "stream",
     "text": [
      "No module named 'rahul'\n"
     ]
    }
   ],
   "source": [
    "## IMPORTERROR :- In Python, ImportError occurs when the Python program tries to import module which does not exist in the private table.\n",
    "# Example :- \n",
    "try:\n",
    "    import rahul\n",
    "except ImportError as e:\n",
    "    print(e)"
   ]
  },
  {
   "cell_type": "code",
   "execution_count": 9,
   "id": "8bdec1b8-5e3a-4e1c-b41b-63839fe7906d",
   "metadata": {},
   "outputs": [],
   "source": [
    "## ModuleNotFoundError :- This error occurs when you are trying to access or use a module that cannot be found."
   ]
  },
  {
   "cell_type": "markdown",
   "id": "6ac18cf0-84e3-424d-81cb-a8a3228063e2",
   "metadata": {},
   "source": [
    "Q6. List down some best practices for exception handling in python."
   ]
  },
  {
   "cell_type": "code",
   "execution_count": 10,
   "id": "a0d410f4-27df-45de-b593-4ebd5922c97a",
   "metadata": {},
   "outputs": [],
   "source": [
    "# use always a specific exception\n",
    "# print always a proper msg\n",
    "# always try to log your error\n",
    "# always avoid to write a multiple exception handling\n",
    "# Document all the errror\n",
    "# cleanup all the resources"
   ]
  },
  {
   "cell_type": "code",
   "execution_count": null,
   "id": "fa636492-329e-496e-a1e8-0e3819b7fb2f",
   "metadata": {},
   "outputs": [],
   "source": []
  }
 ],
 "metadata": {
  "kernelspec": {
   "display_name": "Python 3 (ipykernel)",
   "language": "python",
   "name": "python3"
  },
  "language_info": {
   "codemirror_mode": {
    "name": "ipython",
    "version": 3
   },
   "file_extension": ".py",
   "mimetype": "text/x-python",
   "name": "python",
   "nbconvert_exporter": "python",
   "pygments_lexer": "ipython3",
   "version": "3.10.8"
  }
 },
 "nbformat": 4,
 "nbformat_minor": 5
}
