{
 "cells": [
  {
   "cell_type": "markdown",
   "id": "80ec3f98-0aab-41d5-90cc-3e56ed38e430",
   "metadata": {},
   "source": [
    "Q1. What is Web Scraping? Why is it Used? Give three areas where Web Scraping is used to get data."
   ]
  },
  {
   "cell_type": "code",
   "execution_count": 1,
   "id": "e3acb6dc-e7eb-4caf-aada-8e3c27ca5f54",
   "metadata": {},
   "outputs": [],
   "source": [
    "# web Scrapping :- Web scraping is the process of extracting data from websites automatically. It involves retrieving specific information from web pages\n",
    "# It is used for Data Collection and Analysis\n",
    "# following areas where web scraping is used :-\n",
    "# 1) E-Commerce and Price Comparison\n",
    "# 2) Financial and Stock Market Analysis\n",
    "# 3) Social Media and Sentiment Analysis"
   ]
  },
  {
   "cell_type": "markdown",
   "id": "c013e7d1-ba00-49d3-ad8c-282184418894",
   "metadata": {},
   "source": [
    "Q2. What are the different methods used for Web Scraping"
   ]
  },
  {
   "cell_type": "code",
   "execution_count": 2,
   "id": "25ad1963-5aca-4f93-a004-a60ba884cfc3",
   "metadata": {},
   "outputs": [],
   "source": [
    "# following are the methods used for web scraping :- \n",
    "# Manual Copy-Pasting\n",
    "# Regular Expressions (Regex)\n",
    "# HTML Parsing\n",
    "# Web Scraping Frameworks\n",
    "# API Access"
   ]
  },
  {
   "cell_type": "markdown",
   "id": "5b4cdad2-877c-441a-9b48-7441c6bd0c19",
   "metadata": {},
   "source": [
    "Q3. What is Beautiful Soup? Why is it used?"
   ]
  },
  {
   "cell_type": "code",
   "execution_count": 3,
   "id": "e271aec0-7e28-47da-8f01-f8bc7dead234",
   "metadata": {},
   "outputs": [],
   "source": [
    "# Beautiful Soup is a popular Python library used for web scraping. It provides a convenient and intuitive way to navigate and extract data from web pages.\n",
    "# usage :- Beautiful Soup allows easy extraction of data from HTML elements."
   ]
  },
  {
   "cell_type": "markdown",
   "id": "94a11d13-73f0-4525-8f05-36c065b115ec",
   "metadata": {},
   "source": [
    "Q4. Why is flask used in this Web Scraping project?"
   ]
  },
  {
   "cell_type": "code",
   "execution_count": 4,
   "id": "04f96324-43ec-4cd5-8437-56f6194ef7b4",
   "metadata": {},
   "outputs": [],
   "source": [
    "# Server-Side Development: Web scraping projects often involve building a web application or an API to expose the scraped data or provide a user interface for interacting with the scraped data. "
   ]
  },
  {
   "cell_type": "markdown",
   "id": "ad606c83-0107-4a64-a580-3814eeba3b87",
   "metadata": {},
   "source": [
    "Q5. Write the names of AWS services used in this project. Also, explain the use of each service"
   ]
  },
  {
   "cell_type": "code",
   "execution_count": 5,
   "id": "1d5cac0e-2914-4741-a7b4-843cb865abc9",
   "metadata": {},
   "outputs": [],
   "source": [
    "# Here are some AWS services commonly used in web scraping projects and their purposes:\n",
    "# 1) EC2 (Elastic Compute Cloud): EC2 provides resizable compute capacity in the cloud. In a web scraping project, EC2 instances can be used to run the scraping scripts or host the web application that interacts with the scraped data.\n",
    "# 2) S3 (Simple Storage Service): S3 is a scalable object storage service used for storing and retrieving large amounts of data. \n",
    "# 3) CloudWatch: CloudWatch is a monitoring and management service that collects and tracks metrics, log files, and events from various AWS resources.\n",
    "# 4) CloudFormation: CloudFormation is an infrastructure-as-code service that allows defining and deploying AWS resources using templates."
   ]
  },
  {
   "cell_type": "code",
   "execution_count": null,
   "id": "3cf3afd2-4056-4568-b58d-e7bc17c524cd",
   "metadata": {},
   "outputs": [],
   "source": []
  }
 ],
 "metadata": {
  "kernelspec": {
   "display_name": "Python 3 (ipykernel)",
   "language": "python",
   "name": "python3"
  },
  "language_info": {
   "codemirror_mode": {
    "name": "ipython",
    "version": 3
   },
   "file_extension": ".py",
   "mimetype": "text/x-python",
   "name": "python",
   "nbconvert_exporter": "python",
   "pygments_lexer": "ipython3",
   "version": "3.10.8"
  }
 },
 "nbformat": 4,
 "nbformat_minor": 5
}
