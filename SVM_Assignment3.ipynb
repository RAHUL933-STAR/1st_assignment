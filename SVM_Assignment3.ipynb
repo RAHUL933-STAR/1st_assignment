{
 "cells": [
  {
   "cell_type": "markdown",
   "id": "74cface2-332c-489d-bd15-de09011fb5ba",
   "metadata": {},
   "source": [
    "Q1. In order to predict house price based on several characteristics, such as location, square footage, \n",
    "number of bedrooms, etc., you are developing an SVM regression model. Which regression metric in this \n",
    "situation would be the best to employ?\n"
   ]
  },
  {
   "cell_type": "code",
   "execution_count": null,
   "id": "11db0bbe-cebd-483c-b40a-3f85b2b8ec21",
   "metadata": {},
   "outputs": [],
   "source": [
    "import pandas as pd\n",
    "df = pd.read_csv('')"
   ]
  }
 ],
 "metadata": {
  "kernelspec": {
   "display_name": "Python 3 (ipykernel)",
   "language": "python",
   "name": "python3"
  },
  "language_info": {
   "codemirror_mode": {
    "name": "ipython",
    "version": 3
   },
   "file_extension": ".py",
   "mimetype": "text/x-python",
   "name": "python",
   "nbconvert_exporter": "python",
   "pygments_lexer": "ipython3",
   "version": "3.10.8"
  }
 },
 "nbformat": 4,
 "nbformat_minor": 5
}
