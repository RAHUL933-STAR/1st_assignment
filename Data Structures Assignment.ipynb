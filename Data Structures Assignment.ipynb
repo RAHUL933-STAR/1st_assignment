{
 "cells": [
  {
   "cell_type": "code",
   "execution_count": 1,
   "id": "b97e93dc-7270-4aba-9c52-ec0ae5d2632e",
   "metadata": {},
   "outputs": [],
   "source": [
    "# Q1...\n",
    "# comment are different types are as follow:-\n",
    "# 1 :- single #\n",
    "# 2 :- Double ##\n",
    "# 3 :- Triple single inverted comma ''' ''' or triple double inverted comma \"\"\" \"\"\""
   ]
  },
  {
   "cell_type": "code",
   "execution_count": 5,
   "id": "d6b6a5db-56a3-4170-9a8d-a6868cd0e7d6",
   "metadata": {},
   "outputs": [
    {
     "name": "stdout",
     "output_type": "stream",
     "text": [
      "Rahul\n"
     ]
    }
   ],
   "source": [
    "# Q2...\n",
    "#  Python variables are a symbolic name that is a pointer to an object\n",
    "x = \"Rahul\"\n",
    "print(x)"
   ]
  },
  {
   "cell_type": "code",
   "execution_count": 5,
   "id": "63eb28a0-f3bb-4f9a-a84f-7175dfaef6c3",
   "metadata": {},
   "outputs": [
    {
     "name": "stdout",
     "output_type": "stream",
     "text": [
      "<class 'list'>\n"
     ]
    }
   ],
   "source": [
    "# Q3...\n",
    "L = [1, 2, 3, 4]\n",
    "print(type(L))"
   ]
  },
  {
   "cell_type": "code",
   "execution_count": 9,
   "id": "445ca81a-1fad-422c-866d-902f774cbdc0",
   "metadata": {},
   "outputs": [],
   "source": [
    "x = tuple(L)"
   ]
  },
  {
   "cell_type": "code",
   "execution_count": 10,
   "id": "e5c56cde-6eff-42ca-b8df-eb8c9420b17c",
   "metadata": {},
   "outputs": [
    {
     "name": "stdout",
     "output_type": "stream",
     "text": [
      "<class 'tuple'>\n"
     ]
    }
   ],
   "source": [
    "print(type(x))"
   ]
  },
  {
   "cell_type": "code",
   "execution_count": 11,
   "id": "56111b7d-5337-469b-aa29-8149768d1183",
   "metadata": {},
   "outputs": [],
   "source": [
    "# Q4...\n",
    "# First open command prompt then type python and press enter, then type anything that you want ex :- print(\"Hello\") then press enter"
   ]
  },
  {
   "cell_type": "code",
   "execution_count": 1,
   "id": "267a7f3c-dd37-4a14-be84-a1d34f7f806f",
   "metadata": {},
   "outputs": [
    {
     "name": "stdout",
     "output_type": "stream",
     "text": [
      "[2, 3]\n"
     ]
    }
   ],
   "source": [
    "# Q5...\n",
    "my_list = [1, 2, 3, 4, 5]\n",
    "print(my_list[1:3])"
   ]
  },
  {
   "cell_type": "code",
   "execution_count": 2,
   "id": "39945a09-1331-4dc4-a09c-f1fa0b448e58",
   "metadata": {},
   "outputs": [
    {
     "name": "stdout",
     "output_type": "stream",
     "text": [
      "<class 'complex'>\n"
     ]
    }
   ],
   "source": [
    "# Q6...\n",
    "# Complex numbers are created from two real numbers\n",
    "# for example :- \n",
    "x = 1+2j   # Here '1' and '2' are the real numbers and 'j' is a imaginary number\n",
    "print(type(x))"
   ]
  },
  {
   "cell_type": "code",
   "execution_count": 3,
   "id": "8756a041-b427-45c0-8cee-c29061fe2b0c",
   "metadata": {},
   "outputs": [
    {
     "name": "stdout",
     "output_type": "stream",
     "text": [
      "I am 25 years old\n"
     ]
    }
   ],
   "source": [
    "# Q7...\n",
    "my_Age = \"I am 25 years old\"\n",
    "print(my_Age)"
   ]
  },
  {
   "cell_type": "code",
   "execution_count": 4,
   "id": "9b49bae9-c6e2-4d4c-ab49-349476ef920f",
   "metadata": {},
   "outputs": [
    {
     "name": "stdout",
     "output_type": "stream",
     "text": [
      "<class 'float'>\n"
     ]
    }
   ],
   "source": [
    "# Q8...\n",
    "Price = 9.99\n",
    "print(type(Price))"
   ]
  },
  {
   "cell_type": "code",
   "execution_count": 7,
   "id": "0a8d080a-f104-4e31-b4f9-99dc914db11f",
   "metadata": {},
   "outputs": [
    {
     "name": "stdout",
     "output_type": "stream",
     "text": [
      "Rahul kumar jha\n",
      "<class 'str'>\n"
     ]
    }
   ],
   "source": [
    "# Q9...\n",
    "Name = \"Rahul kumar jha\"\n",
    "print(Name)\n",
    "print(type(Name))"
   ]
  },
  {
   "cell_type": "code",
   "execution_count": 9,
   "id": "fe9cecfb-d6d7-4855-9aac-d8b955fb1f75",
   "metadata": {},
   "outputs": [
    {
     "name": "stdout",
     "output_type": "stream",
     "text": [
      "World\n"
     ]
    }
   ],
   "source": [
    "# Q10...\n",
    "x = \"Hello World\"\n",
    "print(x[6:11])"
   ]
  },
  {
   "cell_type": "code",
   "execution_count": 14,
   "id": "9d39c172-d72a-4b4f-b0c1-c7d7a8a7f25a",
   "metadata": {},
   "outputs": [
    {
     "name": "stdin",
     "output_type": "stream",
     "text": [
      "Enter the boolean value:-  1\n"
     ]
    },
    {
     "name": "stdout",
     "output_type": "stream",
     "text": [
      "True, you are currently a student\n"
     ]
    }
   ],
   "source": [
    "# Q11...\n",
    "x = int(input(\"Enter the boolean value:- \"))\n",
    "if x ==True:\n",
    "        print(\"True, you are currently a student\")\n",
    "else:\n",
    "        print(\"False, you are not a student\")"
   ]
  },
  {
   "cell_type": "code",
   "execution_count": null,
   "id": "a703b13f-7767-4330-a48d-1a9e754d9c97",
   "metadata": {},
   "outputs": [],
   "source": []
  }
 ],
 "metadata": {
  "kernelspec": {
   "display_name": "Python 3 (ipykernel)",
   "language": "python",
   "name": "python3"
  },
  "language_info": {
   "codemirror_mode": {
    "name": "ipython",
    "version": 3
   },
   "file_extension": ".py",
   "mimetype": "text/x-python",
   "name": "python",
   "nbconvert_exporter": "python",
   "pygments_lexer": "ipython3",
   "version": "3.10.8"
  }
 },
 "nbformat": 4,
 "nbformat_minor": 5
}
