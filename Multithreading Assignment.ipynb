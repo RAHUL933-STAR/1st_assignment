{
 "cells": [
  {
   "cell_type": "markdown",
   "id": "1a0b6cbf-9ee5-4d6e-bc2d-e473cc4eb43b",
   "metadata": {},
   "source": [
    "Q1. What is multithreading in python? Why is it used? Name the module used to handle threads in python"
   ]
  },
  {
   "cell_type": "code",
   "execution_count": 4,
   "id": "1e842a3d-4f59-4346-9d58-294a720fd713",
   "metadata": {},
   "outputs": [],
   "source": [
    "# Multithreading :- Multithreading in Python refers to the ability of a program to concurrently execute multiple threads within a single process.\n",
    "# Used :- Multithreading is commonly used in situations where a program needs to handle multiple tasks concurrently.\n",
    "# Module :- 'Threading' module is used to handle threads in python."
   ]
  },
  {
   "cell_type": "markdown",
   "id": "1aad922e-1a33-4779-acee-2a4ccbdd3c12",
   "metadata": {},
   "source": [
    "Q2. Why threading module used? Write the use of the following functions.\n",
    " 1. activeCount()\n",
    " 2. currentThread()\n",
    " 3. enumerate()"
   ]
  },
  {
   "cell_type": "code",
   "execution_count": 2,
   "id": "1e41328a-b0cc-467c-a2bf-b9cb6e427598",
   "metadata": {},
   "outputs": [],
   "source": [
    "# Threading module :- The threading module in Python is a built-in module that provides high-level functionality for working with threads.\n",
    "# activeCount() :- By using activeCount(), you can retrieve the current number of active threads in your program and it can be used as a condition to determine when to terminate your program. \n",
    "# currentThread() :- By using currentThread(), you can obtain the Thread object representing the thread that is currently executing the code.\n",
    "# enumerate() :- By using enumerate(), you can easily access both the index and value of each element in a sequence. "
   ]
  },
  {
   "cell_type": "markdown",
   "id": "02ca3603-b2f8-4d22-ab61-665a54be831b",
   "metadata": {},
   "source": [
    "Q3. Explain the following functions:\n",
    "  1. run()\n",
    "  2. start()\n",
    "  3. join()\n",
    "  4. isAlive()"
   ]
  },
  {
   "cell_type": "code",
   "execution_count": 3,
   "id": "98294be1-25e5-49b7-836d-58777d00e6be",
   "metadata": {},
   "outputs": [],
   "source": [
    "# 1.run() :- run() method executes any target function belonging to a given thread object that is now active. It normally executes in the background after the start() method is invoked.\n",
    "# 2.start() :- start() method is an inbuilt method of the Thread class of the threading module, it is used to start a thread's activity.\n",
    "# 3.join() :- Join in Python is an in-built method used to join an iterable's elements, separated by a string separator, which is specified by you. \n",
    "# 4.isAlive() :- isAlive() method returns True if the thread is still running and False, otherwise."
   ]
  },
  {
   "cell_type": "markdown",
   "id": "e25d006f-bb86-4da4-9127-5c5d8f9ef28d",
   "metadata": {},
   "source": [
    "Q4.  Write a python program to create two threads. Thread one must print the list of squares and thread \n",
    "two must print the list of cubes."
   ]
  },
  {
   "cell_type": "code",
   "execution_count": 36,
   "id": "4af160c5-92a1-429f-9d6f-5d7e7c547be8",
   "metadata": {},
   "outputs": [
    {
     "name": "stdout",
     "output_type": "stream",
     "text": [
      "Square of 1: 1\n",
      "Square of 2: 4\n",
      "Square of 3: 9\n",
      "Square of 4: 16\n",
      "Square of 5: 25\n",
      "Cube of 1: 1\n",
      "Cube of 2: 8\n",
      "Cube of 3: 27\n",
      "Cube of 4: 64\n",
      "Cube of 5: 125\n"
     ]
    }
   ],
   "source": [
    "import threading\n",
    "\n",
    "def print_squares(numbers):\n",
    "    for number in numbers:\n",
    "        square = number ** 2\n",
    "        print(f\"Square of {number}: {square}\")\n",
    "        \n",
    "\n",
    "def print_cubes(numbers):\n",
    "    for number in numbers:\n",
    "        cube = number ** 3\n",
    "        print(f\"Cube of {number}: {cube}\")\n",
    "\n",
    "def main():\n",
    "    numbers = [1, 2, 3, 4, 5]\n",
    "    \n",
    "  \n",
    "    square_thread = threading.Thread(target=print_squares, args=(numbers,))\n",
    "    cube_thread = threading.Thread(target=print_cubes, args=(numbers,))\n",
    "    square_thread.start()\n",
    "    cube_thread.start()\n",
    "    square_thread.join()\n",
    "    cube_thread.join()\n",
    "if __name__ == \"__main__\":\n",
    "    main()   "
   ]
  },
  {
   "cell_type": "markdown",
   "id": "3bcb8c0d-b98c-49f2-918e-e9932b86b32e",
   "metadata": {},
   "source": [
    "Q5. State advantages and disadvantages of multithreading."
   ]
  },
  {
   "cell_type": "code",
   "execution_count": 1,
   "id": "19788d3a-0423-43d4-9c7d-dcdd4ea30e2f",
   "metadata": {},
   "outputs": [],
   "source": [
    "# Advantage :- The overall throughput of the server is much greater. Minimized system resource usage. Threads require less overhead to create, maintain, and manage than a traditional process.\n",
    "# Disadvantage :- Difficulty of writing code. Multithreaded and multicontexted applications are not easy to write. Difficulty of debugging. Difficulty of testing."
   ]
  },
  {
   "cell_type": "markdown",
   "id": "23b0caee-ac28-461f-bdc5-9c775860dd97",
   "metadata": {},
   "source": [
    "Q6. Explain deadlocks and race conditions."
   ]
  },
  {
   "cell_type": "code",
   "execution_count": 2,
   "id": "99616d88-4de2-4f72-80c2-5fc1e77a8017",
   "metadata": {},
   "outputs": [],
   "source": [
    "## Deadlock :- \n",
    "# A deadlock is a situation that occurs in concurrent programming when two or more threads or processes are unable to proceed because each is waiting for the other to release a resource or complete an action.\n",
    "\n",
    "## Race Conditions :-\n",
    "# A race condition occurs in concurrent programming when the behavior or outcome of a program depends on the relative timing or interleaving of multiple threads or processes."
   ]
  },
  {
   "cell_type": "code",
   "execution_count": null,
   "id": "cb23e822-c7d7-41c2-9d20-bbb912ab80d1",
   "metadata": {},
   "outputs": [],
   "source": []
  }
 ],
 "metadata": {
  "kernelspec": {
   "display_name": "Python 3 (ipykernel)",
   "language": "python",
   "name": "python3"
  },
  "language_info": {
   "codemirror_mode": {
    "name": "ipython",
    "version": 3
   },
   "file_extension": ".py",
   "mimetype": "text/x-python",
   "name": "python",
   "nbconvert_exporter": "python",
   "pygments_lexer": "ipython3",
   "version": "3.10.8"
  }
 },
 "nbformat": 4,
 "nbformat_minor": 5
}
