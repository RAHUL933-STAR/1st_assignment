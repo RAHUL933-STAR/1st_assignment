{
 "cells": [
  {
   "cell_type": "markdown",
   "id": "f16f7c23-519e-407f-9b87-bc8b80ae6fbd",
   "metadata": {},
   "source": [
    "Q1. Explain Class and Object with respect to Object-Oriented Programming. Give a suitable example."
   ]
  },
  {
   "cell_type": "code",
   "execution_count": 1,
   "id": "409f0252-d305-4d26-bc45-683234c04926",
   "metadata": {},
   "outputs": [],
   "source": [
    "# Classes are user-defined data types that act as the blueprint for individual objects, attributes and methods.\n",
    "# Objects are instances of a class created with specifically defined data."
   ]
  },
  {
   "cell_type": "code",
   "execution_count": 7,
   "id": "1b20886b-3d5f-4613-a80d-72cba8d5ca5d",
   "metadata": {},
   "outputs": [],
   "source": [
    "class course:\n",
    "    def __init__(self, course1, course2):\n",
    "        self.course1 = course1\n",
    "        self.course2 = course2\n",
    "        \n",
    "    def course_details(self):\n",
    "        print(self.course1, self.course2)"
   ]
  },
  {
   "cell_type": "code",
   "execution_count": 8,
   "id": "ce25c8b9-de88-4d8b-a303-1201265c0478",
   "metadata": {},
   "outputs": [
    {
     "name": "stdout",
     "output_type": "stream",
     "text": [
      "Data_Science_Masters Web_Development\n"
     ]
    }
   ],
   "source": [
    "C = course(\"Data_Science_Masters\", \"Web_Development\")\n",
    "C.course_details()"
   ]
  },
  {
   "cell_type": "markdown",
   "id": "b47b4a75-81da-4665-aea8-bd585a424a29",
   "metadata": {},
   "source": [
    "Q2. Name the four pillars of OOPs."
   ]
  },
  {
   "cell_type": "code",
   "execution_count": 9,
   "id": "c81cbfc0-ffd6-47d1-92d0-76d7349e5c97",
   "metadata": {},
   "outputs": [],
   "source": [
    "## The four pillars of OOPs are as follow:-\n",
    "# Abstraction.\n",
    "# Encapsulation.\n",
    "# Inheritance.\n",
    "# Polymorphism."
   ]
  },
  {
   "cell_type": "markdown",
   "id": "08a3ebfc-6653-4cca-8f9d-e8a92a1b86d6",
   "metadata": {},
   "source": [
    "Q3. Explain why the __init__() function is used. Give a suitable example"
   ]
  },
  {
   "cell_type": "code",
   "execution_count": 10,
   "id": "7e1ba92a-9a66-4532-b0e1-c14b4b2fca3d",
   "metadata": {},
   "outputs": [],
   "source": [
    "# The __init__ method is at the core of OOP and is required to create objects."
   ]
  },
  {
   "cell_type": "code",
   "execution_count": 12,
   "id": "49f46137-fdd1-44b0-80d4-679721794a9d",
   "metadata": {},
   "outputs": [
    {
     "data": {
      "text/plain": [
       "('Tiger', 'Cow')"
      ]
     },
     "execution_count": 12,
     "metadata": {},
     "output_type": "execute_result"
    }
   ],
   "source": [
    "class Animal:\n",
    "    def __init__(self, Wild_Animal, Domestic_Animal):\n",
    "        self.Wild_Animal = Wild_Animal\n",
    "        self.Domestic_Animal = Domestic_Animal\n",
    "        \n",
    "    def Animal_details(self):\n",
    "        return self.Wild_Animal, self.Domestic_Animal\n",
    "    \n",
    "AD = Animal(\"Tiger\", \"Cow\")\n",
    "AD.Animal_details()\n",
    "        "
   ]
  },
  {
   "cell_type": "markdown",
   "id": "73719cca-cbfc-40ab-b092-10ea1fb84d2d",
   "metadata": {},
   "source": [
    "Q4. Why self is used in OOPs?"
   ]
  },
  {
   "cell_type": "code",
   "execution_count": 13,
   "id": "2f730a8a-bbd9-4b81-9518-9afe50b04e6c",
   "metadata": {},
   "outputs": [],
   "source": [
    "# The use of self makes it easier to distinguish between instance attributes from local variables and it increases the readability of code."
   ]
  },
  {
   "cell_type": "markdown",
   "id": "814306d2-cdf5-4c5d-8cee-fcd12d7733b2",
   "metadata": {},
   "source": [
    "Q5. What is inheritance? Give an example for each type of inheritance."
   ]
  },
  {
   "cell_type": "code",
   "execution_count": 1,
   "id": "d192b006-a579-4544-9326-dfb469718309",
   "metadata": {},
   "outputs": [],
   "source": [
    "# Inheritance is a mechanism of acquiring the features and behaviors of a class by another class."
   ]
  },
  {
   "cell_type": "code",
   "execution_count": 4,
   "id": "b4441997-678d-4565-8dcc-44493d9d7f0f",
   "metadata": {},
   "outputs": [],
   "source": [
    "## SINGLE INHERITENCE\n",
    "\n",
    "class inherit1:\n",
    "    def inherit_A(self):\n",
    "        print(\"this is the class of inherit A\")"
   ]
  },
  {
   "cell_type": "code",
   "execution_count": 6,
   "id": "9f45b353-bab4-4457-ab51-51d4d9120801",
   "metadata": {},
   "outputs": [],
   "source": [
    "class inherit2(inherit1):\n",
    "    def inherit_B(self):\n",
    "        print(\"this is the class of inherit B\")"
   ]
  },
  {
   "cell_type": "code",
   "execution_count": 8,
   "id": "9e693e0d-0f9d-4c6e-baf4-ce4b3df550bf",
   "metadata": {},
   "outputs": [
    {
     "name": "stdout",
     "output_type": "stream",
     "text": [
      "this is the class of inherit B\n"
     ]
    }
   ],
   "source": [
    "Int_obj = inherit2()\n",
    "Int_obj.inherit_B()"
   ]
  },
  {
   "cell_type": "code",
   "execution_count": 9,
   "id": "f463ce41-18e7-496e-bf4b-5275336da247",
   "metadata": {},
   "outputs": [
    {
     "name": "stdout",
     "output_type": "stream",
     "text": [
      "this is the class of inherit A\n"
     ]
    }
   ],
   "source": [
    "Int_obj.inherit_A()"
   ]
  },
  {
   "cell_type": "code",
   "execution_count": 10,
   "id": "ed147d76-e41f-4035-96ed-328df09b28d1",
   "metadata": {},
   "outputs": [],
   "source": [
    "## MULTILEVEL INHERITENCE\n",
    "\n",
    "class A:\n",
    "    def cls_A(self):\n",
    "        print(\"Here the first class of method cls_A\")"
   ]
  },
  {
   "cell_type": "code",
   "execution_count": 11,
   "id": "215845a0-32d5-473b-ac50-0a106d54883a",
   "metadata": {},
   "outputs": [],
   "source": [
    "class B(A):\n",
    "    def cls_B(self):\n",
    "        print(\"This is 2nd class of method cls_B\")"
   ]
  },
  {
   "cell_type": "code",
   "execution_count": 12,
   "id": "003b178c-5751-4398-90de-b270969d4ca5",
   "metadata": {},
   "outputs": [],
   "source": [
    "class C(B):\n",
    "    def cls_C(self):\n",
    "        print(\"Welcome to 3rd class of method cls_C\")"
   ]
  },
  {
   "cell_type": "code",
   "execution_count": 13,
   "id": "28ae41d2-2f81-4c97-861e-ddc3a8338f3a",
   "metadata": {},
   "outputs": [
    {
     "name": "stdout",
     "output_type": "stream",
     "text": [
      "Welcome to 3rd class of method cls_C\n"
     ]
    }
   ],
   "source": [
    "obj = C()\n",
    "obj.cls_C()"
   ]
  },
  {
   "cell_type": "code",
   "execution_count": 14,
   "id": "8f23c6f5-fce7-46b0-9f50-695567677c16",
   "metadata": {},
   "outputs": [
    {
     "name": "stdout",
     "output_type": "stream",
     "text": [
      "This is 2nd class of method cls_B\n"
     ]
    }
   ],
   "source": [
    "obj.cls_B()"
   ]
  },
  {
   "cell_type": "code",
   "execution_count": 15,
   "id": "8a646136-2508-4fe7-ac46-9b3cb38e40ae",
   "metadata": {},
   "outputs": [
    {
     "name": "stdout",
     "output_type": "stream",
     "text": [
      "Here the first class of method cls_A\n"
     ]
    }
   ],
   "source": [
    "obj.cls_A()"
   ]
  },
  {
   "cell_type": "code",
   "execution_count": 16,
   "id": "1a000917-2600-4fd6-afbb-d8825966640d",
   "metadata": {},
   "outputs": [],
   "source": [
    "## MULTIPLE INHERITENCE\n",
    "\n",
    "class child1:\n",
    "    def child1_name(self):\n",
    "        print(\"The name od child1 is chintu\")"
   ]
  },
  {
   "cell_type": "code",
   "execution_count": 17,
   "id": "bbfc735f-9ad4-45ce-9462-242c37e0f137",
   "metadata": {},
   "outputs": [],
   "source": [
    "class child2:\n",
    "    def child2_name(self):\n",
    "        print(\"The name of child2 is mintu\")"
   ]
  },
  {
   "cell_type": "code",
   "execution_count": 18,
   "id": "3b820d5c-8838-4797-bf77-dbd2c7be0b56",
   "metadata": {},
   "outputs": [],
   "source": [
    "class child3(child1, child2):\n",
    "    def child3_name(self):\n",
    "        pass"
   ]
  },
  {
   "cell_type": "code",
   "execution_count": 19,
   "id": "d9134556-e3d6-4628-88ec-0ea3465bd19c",
   "metadata": {},
   "outputs": [
    {
     "name": "stdout",
     "output_type": "stream",
     "text": [
      "The name of child2 is mintu\n"
     ]
    }
   ],
   "source": [
    "Ch_obj = child3()\n",
    "Ch_obj.child2_name()"
   ]
  },
  {
   "cell_type": "code",
   "execution_count": 20,
   "id": "0c3578cb-ea05-40ed-a01f-50a1a8540ca8",
   "metadata": {},
   "outputs": [
    {
     "name": "stdout",
     "output_type": "stream",
     "text": [
      "The name od child1 is chintu\n"
     ]
    }
   ],
   "source": [
    "Ch_obj.child1_name()"
   ]
  },
  {
   "cell_type": "code",
   "execution_count": null,
   "id": "ff33e278-e65a-4690-884d-6baa2080d309",
   "metadata": {},
   "outputs": [],
   "source": []
  }
 ],
 "metadata": {
  "kernelspec": {
   "display_name": "Python 3 (ipykernel)",
   "language": "python",
   "name": "python3"
  },
  "language_info": {
   "codemirror_mode": {
    "name": "ipython",
    "version": 3
   },
   "file_extension": ".py",
   "mimetype": "text/x-python",
   "name": "python",
   "nbconvert_exporter": "python",
   "pygments_lexer": "ipython3",
   "version": "3.10.8"
  }
 },
 "nbformat": 4,
 "nbformat_minor": 5
}
