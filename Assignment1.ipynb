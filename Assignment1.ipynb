{
 "cells": [
  {
   "cell_type": "markdown",
   "id": "dd0babf0-f99d-42ef-92b4-d43b6b3d4935",
   "metadata": {},
   "source": [
    "Q1. Which keyword is used to create a function? Create a function to return a list of odd numbers in the \n",
    "range of 1 to 25."
   ]
  },
  {
   "cell_type": "code",
   "execution_count": 1,
   "id": "cf49e13c-6ff5-4e99-8774-27fd2fd8461b",
   "metadata": {},
   "outputs": [
    {
     "data": {
      "text/plain": [
       "[1, 3, 5, 7, 9, 11, 13, 15, 17, 19, 21, 23]"
      ]
     },
     "execution_count": 1,
     "metadata": {},
     "output_type": "execute_result"
    }
   ],
   "source": [
    "# \"def\" keyword is used to create function\n",
    "def odd():\n",
    "    l = []\n",
    "    for i in range(1, 25):\n",
    "        if i % 2!=0:\n",
    "            l.append(i)\n",
    "\n",
    "    return l\n",
    "odd()\n",
    "        \n",
    "        \n"
   ]
  },
  {
   "cell_type": "markdown",
   "id": "431bcc4d-358a-4c8a-9002-784f30d6aa16",
   "metadata": {},
   "source": [
    "Q2. Why *args and **kwargs is used in some functions? Create a function each for *args and **kwargs \n",
    "to demonstrate their use"
   ]
  },
  {
   "cell_type": "code",
   "execution_count": 14,
   "id": "2b9a3a18-f073-4d10-ae1c-f2237a0fd38d",
   "metadata": {},
   "outputs": [
    {
     "data": {
      "text/plain": [
       "(1, 2, 4, 'Rahul', 24.56)"
      ]
     },
     "execution_count": 14,
     "metadata": {},
     "output_type": "execute_result"
    }
   ],
   "source": [
    "# We use *args and *kwargs when we are not sure about the number of arguments to pass in the functions.\n",
    "def my_func1(*args):\n",
    "    return args\n",
    "my_func1(1, 2, 4, \"Rahul\", 24.56)"
   ]
  },
  {
   "cell_type": "code",
   "execution_count": 16,
   "id": "77de5a4c-4f78-458e-9490-706519535383",
   "metadata": {},
   "outputs": [
    {
     "data": {
      "text/plain": [
       "{'a': (1, 2, 4), 'b': 'Hello', 'c': [5, 6, 7]}"
      ]
     },
     "execution_count": 16,
     "metadata": {},
     "output_type": "execute_result"
    }
   ],
   "source": [
    "def my_func2(**kwargs):\n",
    "    return kwargs\n",
    "my_func2(a = (1, 2, 4), b = \"Hello\", c = [5, 6, 7])"
   ]
  },
  {
   "cell_type": "markdown",
   "id": "067a7bb9-9ec9-4664-bca1-a034441fac02",
   "metadata": {},
   "source": [
    "Q3.  What is an iterator in python? Name the method used to initialise the iterator object and the method \n",
    "used for iteration. Use these methods to print the first five elements of the given list [2, 4, 6, 8, 10, 12, 14, \n",
    "16, 18, 20]"
   ]
  },
  {
   "cell_type": "code",
   "execution_count": 2,
   "id": "65ca0650-10c2-4bb5-87ae-54ebe334b8ce",
   "metadata": {},
   "outputs": [
    {
     "name": "stdout",
     "output_type": "stream",
     "text": [
      "2\n",
      "4\n",
      "6\n",
      "8\n",
      "10\n"
     ]
    }
   ],
   "source": [
    "# An iterator is an object that allows you to iterate over collections of data, such as lists, tuples, dictionaries, and sets.\n",
    "# itr() is the method used to initialise the iterator object and next() is the method used for iteration.\n",
    "\n",
    "l = [2, 4, 6, 8, 10, 12, 14, 16, 18, 20]\n",
    "l1 = iter(l)\n",
    "for i in range(5):\n",
    "    print(next(l1))"
   ]
  },
  {
   "cell_type": "markdown",
   "id": "cf9636d8-dec2-4bac-8733-d8243918b751",
   "metadata": {},
   "source": [
    "Q4.  What is a generator function in python? Why yield keyword is used? Give an example of a generator \n",
    "function."
   ]
  },
  {
   "cell_type": "code",
   "execution_count": 5,
   "id": "01de3834-1333-4a15-a676-10846839459c",
   "metadata": {},
   "outputs": [
    {
     "name": "stdout",
     "output_type": "stream",
     "text": [
      "0\n",
      "1\n",
      "2\n",
      "3\n",
      "4\n",
      "5\n",
      "6\n",
      "7\n",
      "8\n",
      "9\n",
      "10\n"
     ]
    }
   ],
   "source": [
    "# a generator is a function that returns an iterator that produces a sequence of values when iterated over.\n",
    "# The yield statement returns a generator object to the one who calls the function which contains yield, instead of simply returning a value.\n",
    "def my_gen(n):\n",
    "    a = 0\n",
    "    while a <= n :\n",
    "        yield a\n",
    "        a = a+1\n",
    "c = my_gen(10)\n",
    "for i in c :\n",
    "    print(i)"
   ]
  },
  {
   "cell_type": "markdown",
   "id": "235dafe9-3f3f-40f1-a1de-5d04941057f4",
   "metadata": {},
   "source": [
    "Q5. Create a generator function for prime numbers less than 1000. Use the next() method to print the \n",
    "first 20 prime numbers"
   ]
  },
  {
   "cell_type": "code",
   "execution_count": null,
   "id": "6b7effe1-6c8a-49d1-8fec-ba3a8eb16f1e",
   "metadata": {},
   "outputs": [],
   "source": []
  },
  {
   "cell_type": "code",
   "execution_count": null,
   "id": "6be0370f-af7e-4c5a-b8de-b97f27a13828",
   "metadata": {},
   "outputs": [
    {
     "name": "stdout",
     "output_type": "stream",
     "text": [
      "2\n",
      "3\n",
      "5\n",
      "7\n"
     ]
    }
   ],
   "source": [
    "def generate_primes():\n",
    "    yield 2\n",
    "    primes = [2]\n",
    "    num = 3\n",
    "    while num<1000:\n",
    "        is_prime = True\n",
    "        for prime in primes:\n",
    "            if num % prime == 0:\n",
    "                is_prime = False\n",
    "                break\n",
    "        if is_prime:\n",
    "            primes.append(num)\n",
    "            yield num\n",
    "            num += 2\n",
    "primes_generator = generate_primes()\n",
    "for _ in range(20):\n",
    "    prime = next(primes_generator)\n",
    "    print(prime)"
   ]
  },
  {
   "cell_type": "markdown",
   "id": "f7c52aef-ab42-4145-9a2c-25aeb212101b",
   "metadata": {},
   "source": [
    "Q6. Write a python program to print the first 10 Fibonacci numbers using a while loop"
   ]
  },
  {
   "cell_type": "code",
   "execution_count": 6,
   "id": "1f68a054-1a77-4d84-a054-b9efd6aa0d72",
   "metadata": {},
   "outputs": [],
   "source": [
    "def fib1():\n",
    "    a,b = 0,1\n",
    "    while True:\n",
    "        yield a\n",
    "        a,b = b, a+b"
   ]
  },
  {
   "cell_type": "code",
   "execution_count": 7,
   "id": "a211db9d-e986-42f5-977d-b5ad096f6647",
   "metadata": {},
   "outputs": [
    {
     "name": "stdout",
     "output_type": "stream",
     "text": [
      "0\n",
      "1\n",
      "1\n",
      "2\n",
      "3\n",
      "5\n",
      "8\n",
      "13\n",
      "21\n",
      "34\n"
     ]
    }
   ],
   "source": [
    "f = fib1()\n",
    "for i in range(10):\n",
    "    print(next(f))"
   ]
  },
  {
   "cell_type": "code",
   "execution_count": null,
   "id": "5f106e7a-dfb1-4206-bebb-d32f559feb5e",
   "metadata": {},
   "outputs": [],
   "source": []
  },
  {
   "cell_type": "markdown",
   "id": "15c886b0-059a-4618-84f1-8ae7ae3937e6",
   "metadata": {},
   "source": [
    "Q7. Write a List Comprehension to iterate through the given string: ‘pwskills’.\n",
    "\n",
    "Expected output: ['p', 'w', 's', 'k', 'i', 'l', 'l', 's']"
   ]
  },
  {
   "cell_type": "code",
   "execution_count": 11,
   "id": "3e383bcd-2e9a-4da2-b5e7-94227aadfd56",
   "metadata": {},
   "outputs": [
    {
     "name": "stdout",
     "output_type": "stream",
     "text": [
      "['p', 'w', 's', 'k', 'i', 'l', 'l', 's']\n"
     ]
    }
   ],
   "source": [
    "s = \"pwskills\"\n",
    "d = [g for g in s]\n",
    "print(d)"
   ]
  },
  {
   "cell_type": "markdown",
   "id": "6f5c9dcf-456c-48de-b888-ec7927077889",
   "metadata": {},
   "source": [
    "Q8. Write a python program to check whether a given number is Palindrome or not using a while loop."
   ]
  },
  {
   "cell_type": "code",
   "execution_count": 13,
   "id": "282f0aff-9e7c-4b47-aed2-5019c56416bf",
   "metadata": {},
   "outputs": [
    {
     "name": "stdin",
     "output_type": "stream",
     "text": [
      "Enter your number:-  1234321\n"
     ]
    },
    {
     "name": "stdout",
     "output_type": "stream",
     "text": [
      "Number is a palindrome\n"
     ]
    }
   ],
   "source": [
    "number = int(input(\"Enter your number:- \"))\n",
    "temp = number\n",
    "reverse = 0\n",
    "while number>0:\n",
    "    dig = number%10\n",
    "    reverse = reverse * 10 + dig\n",
    "    number = number//10\n",
    "if temp==reverse:\n",
    "    print(\"Number is a palindrome\")\n",
    "else:\n",
    "    print(\"number is not a palindrome\")"
   ]
  },
  {
   "cell_type": "markdown",
   "id": "32a003e6-cb19-4463-81aa-c853cebb25e7",
   "metadata": {},
   "source": [
    "Q9. Write a code to print odd numbers from 1 to 100 using list comprehension.\n",
    "\n",
    "Note: Use a list comprehension to create a list from 1 to 100 and use another List comprehension to filter \n",
    "out odd numbers."
   ]
  },
  {
   "cell_type": "code",
   "execution_count": 3,
   "id": "9e642e46-48f3-4970-8aaa-1dbd9929c76b",
   "metadata": {},
   "outputs": [],
   "source": [
    "odd1 = [n for n in range(1, 100)]\n",
    "odd2 = [i for i in odd1 if i%2!=0]"
   ]
  },
  {
   "cell_type": "code",
   "execution_count": 5,
   "id": "365c78a6-fe92-4175-b4b6-8263c5445d68",
   "metadata": {},
   "outputs": [
    {
     "name": "stdout",
     "output_type": "stream",
     "text": [
      "[1, 3, 5, 7, 9, 11, 13, 15, 17, 19, 21, 23, 25, 27, 29, 31, 33, 35, 37, 39, 41, 43, 45, 47, 49, 51, 53, 55, 57, 59, 61, 63, 65, 67, 69, 71, 73, 75, 77, 79, 81, 83, 85, 87, 89, 91, 93, 95, 97, 99]\n"
     ]
    }
   ],
   "source": [
    "print(odd2)"
   ]
  },
  {
   "cell_type": "code",
   "execution_count": null,
   "id": "5607ec47-3df8-4f60-804d-a07cb052303c",
   "metadata": {},
   "outputs": [],
   "source": []
  },
  {
   "cell_type": "code",
   "execution_count": null,
   "id": "db4aaefe-656c-456e-b980-414017e43aa9",
   "metadata": {},
   "outputs": [],
   "source": []
  }
 ],
 "metadata": {
  "kernelspec": {
   "display_name": "Python 3 (ipykernel)",
   "language": "python",
   "name": "python3"
  },
  "language_info": {
   "codemirror_mode": {
    "name": "ipython",
    "version": 3
   },
   "file_extension": ".py",
   "mimetype": "text/x-python",
   "name": "python",
   "nbconvert_exporter": "python",
   "pygments_lexer": "ipython3",
   "version": "3.10.8"
  }
 },
 "nbformat": 4,
 "nbformat_minor": 5
}
