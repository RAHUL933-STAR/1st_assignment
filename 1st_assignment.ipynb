{
 "cells": [
  {
   "cell_type": "code",
   "execution_count": 1,
   "id": "18daead1-4988-4cf2-8403-ce37aee527ca",
   "metadata": {},
   "outputs": [],
   "source": [
    "# Q1...\n",
    "\n",
    "x = (\"Rahul\", (23, ), [234], 45.34)"
   ]
  },
  {
   "cell_type": "code",
   "execution_count": 2,
   "id": "d4fd9dc3-ca99-4c64-88c5-c9f403f48f06",
   "metadata": {},
   "outputs": [
    {
     "data": {
      "text/plain": [
       "('Rahul', (23,), [234], 45.34)"
      ]
     },
     "execution_count": 2,
     "metadata": {},
     "output_type": "execute_result"
    }
   ],
   "source": [
    "x"
   ]
  },
  {
   "cell_type": "code",
   "execution_count": 3,
   "id": "b49c24fd-56e0-4da6-873e-282127ac2686",
   "metadata": {},
   "outputs": [
    {
     "name": "stdout",
     "output_type": "stream",
     "text": [
      "<class 'str'>\n",
      "<class 'tuple'>\n",
      "<class 'list'>\n",
      "<class 'float'>\n"
     ]
    }
   ],
   "source": [
    "x = (\"Rahul\", (23, ), [234], 45.34)\n",
    "for i in x:\n",
    "    print(type(i))"
   ]
  },
  {
   "cell_type": "code",
   "execution_count": 4,
   "id": "303b71be-2c8b-40d5-be52-ec66b7584044",
   "metadata": {},
   "outputs": [
    {
     "name": "stdout",
     "output_type": "stream",
     "text": [
      "<class 'str'>\n"
     ]
    }
   ],
   "source": [
    "# Q2...\n",
    "\n",
    "var1 = ''\n",
    "print(type(var1))"
   ]
  },
  {
   "cell_type": "code",
   "execution_count": 5,
   "id": "6e36f04b-281c-4ba5-8f78-63a1d5d64fd6",
   "metadata": {},
   "outputs": [
    {
     "name": "stdout",
     "output_type": "stream",
     "text": [
      "<class 'str'>\n"
     ]
    }
   ],
   "source": [
    "var2 = '[DS, ML, Python]'\n",
    "print(type(var2))"
   ]
  },
  {
   "cell_type": "code",
   "execution_count": 6,
   "id": "7614511c-35dd-4f57-b180-93b04041e7e2",
   "metadata": {},
   "outputs": [
    {
     "name": "stdout",
     "output_type": "stream",
     "text": [
      "<class 'list'>\n"
     ]
    }
   ],
   "source": [
    "var3 = ['DS', 'ML', 'python']\n",
    "print(type(var3))"
   ]
  },
  {
   "cell_type": "code",
   "execution_count": 7,
   "id": "e7414c04-a951-4427-aab1-343851a3eec0",
   "metadata": {},
   "outputs": [
    {
     "name": "stdout",
     "output_type": "stream",
     "text": [
      "<class 'int'>\n"
     ]
    }
   ],
   "source": [
    "var4 = 1\n",
    "print(type(var4))"
   ]
  },
  {
   "cell_type": "code",
   "execution_count": 9,
   "id": "1ad84300-0b96-425d-95b5-3485cf93879c",
   "metadata": {},
   "outputs": [
    {
     "name": "stdout",
     "output_type": "stream",
     "text": [
      "1\n"
     ]
    }
   ],
   "source": [
    "# Q3...\n",
    "\n",
    "x = 10\n",
    "print(x%3)"
   ]
  },
  {
   "cell_type": "code",
   "execution_count": 10,
   "id": "85ab3891-8290-4305-a81a-d88456d92e58",
   "metadata": {},
   "outputs": [
    {
     "data": {
      "text/plain": [
       "10"
      ]
     },
     "execution_count": 10,
     "metadata": {},
     "output_type": "execute_result"
    }
   ],
   "source": [
    "x"
   ]
  },
  {
   "cell_type": "code",
   "execution_count": 11,
   "id": "427b2f27-4ffd-44b2-a106-bc2a6d198689",
   "metadata": {},
   "outputs": [
    {
     "name": "stdout",
     "output_type": "stream",
     "text": [
      "2\n"
     ]
    }
   ],
   "source": [
    "print(x//4)"
   ]
  },
  {
   "cell_type": "code",
   "execution_count": 12,
   "id": "0d7c05be-c34f-4c67-81d9-7baba9410c48",
   "metadata": {},
   "outputs": [
    {
     "data": {
      "text/plain": [
       "10"
      ]
     },
     "execution_count": 12,
     "metadata": {},
     "output_type": "execute_result"
    }
   ],
   "source": [
    "x"
   ]
  },
  {
   "cell_type": "code",
   "execution_count": 13,
   "id": "5fc6c026-e755-4c2f-b3f4-3b4cf145f0ce",
   "metadata": {},
   "outputs": [
    {
     "name": "stdout",
     "output_type": "stream",
     "text": [
      "5.0\n"
     ]
    }
   ],
   "source": [
    "print(x/2)"
   ]
  },
  {
   "cell_type": "code",
   "execution_count": 14,
   "id": "cccc4375-9b47-46d2-b48b-d76c5825267f",
   "metadata": {},
   "outputs": [
    {
     "data": {
      "text/plain": [
       "10"
      ]
     },
     "execution_count": 14,
     "metadata": {},
     "output_type": "execute_result"
    }
   ],
   "source": [
    "x"
   ]
  },
  {
   "cell_type": "code",
   "execution_count": 15,
   "id": "3baa203e-3064-478a-932d-d42653f63182",
   "metadata": {},
   "outputs": [
    {
     "name": "stdout",
     "output_type": "stream",
     "text": [
      "100\n"
     ]
    }
   ],
   "source": [
    "print(x**2)"
   ]
  },
  {
   "cell_type": "code",
   "execution_count": 16,
   "id": "597ec5d2-5738-48d6-a1d7-cfba3d1f5628",
   "metadata": {},
   "outputs": [
    {
     "name": "stdout",
     "output_type": "stream",
     "text": [
      "<class 'int'>\n",
      "45\n",
      "<class 'float'>\n",
      "23.54\n",
      "<class 'str'>\n",
      "Rahul\n",
      "<class 'tuple'>\n",
      "(2,)\n",
      "<class 'bool'>\n",
      "True\n",
      "<class 'list'>\n",
      "[2, 5]\n",
      "<class 'complex'>\n",
      "(1+2j)\n",
      "<class 'bool'>\n",
      "False\n",
      "<class 'str'>\n",
      "Hello\n",
      "<class 'int'>\n",
      "7\n"
     ]
    }
   ],
   "source": [
    "# Q4...\n",
    "list = [45, 23.54, \"Rahul\", (2, ), True, [2, 5], 1+2j, False, \"Hello\", 7]\n",
    "for i in list:\n",
    "    print(type(i))\n",
    "    print(i)"
   ]
  },
  {
   "cell_type": "code",
   "execution_count": 22,
   "id": "b1e32574-05da-4cfc-955d-15b9641c69af",
   "metadata": {},
   "outputs": [
    {
     "name": "stdout",
     "output_type": "stream",
     "text": [
      "3\n",
      "6\n",
      "9\n",
      "12\n",
      "15\n",
      "18\n",
      "21\n",
      "24\n"
     ]
    }
   ],
   "source": [
    "# Q6....\n",
    "list = [1,2,3,4,5,6,7,8,9,10,11,12,13,14,15,16,17,18,19,20,21,22,23,24,25]\n",
    "for i in range (1, 26):\n",
    "    if i % 3==0:\n",
    "        print(i)\n",
    "    \n",
    "\n"
   ]
  },
  {
   "cell_type": "code",
   "execution_count": 24,
   "id": "99beef01-824a-4ede-8ace-10046155b74e",
   "metadata": {},
   "outputs": [
    {
     "name": "stdout",
     "output_type": "stream",
     "text": [
      "[23, 50, 30, 40]\n"
     ]
    }
   ],
   "source": [
    "# Q7...\n",
    "# list is a mutable data type because in list we can change the value..\n",
    "# for example\n",
    "list = [23, 20, 30, 40]\n",
    "list[1]=50\n",
    "print(list)"
   ]
  },
  {
   "cell_type": "code",
   "execution_count": 28,
   "id": "7ffbff32-4974-4dc0-85b6-e1fbe50962b3",
   "metadata": {},
   "outputs": [
    {
     "name": "stdout",
     "output_type": "stream",
     "text": [
      "(20, 30, 40, 60)\n"
     ]
    }
   ],
   "source": [
    "# similarly tuple is a immutable data type because we can't change any value in string\n",
    "# for example..\n",
    "t = (20,30,40,60)\n",
    "# t[2]=70    Here you can't change data\n",
    "print(t)"
   ]
  },
  {
   "cell_type": "code",
   "execution_count": null,
   "id": "f8bf28e0-2dca-4ff7-898c-1c1281043b0f",
   "metadata": {},
   "outputs": [],
   "source": []
  }
 ],
 "metadata": {
  "kernelspec": {
   "display_name": "Python 3 (ipykernel)",
   "language": "python",
   "name": "python3"
  },
  "language_info": {
   "codemirror_mode": {
    "name": "ipython",
    "version": 3
   },
   "file_extension": ".py",
   "mimetype": "text/x-python",
   "name": "python",
   "nbconvert_exporter": "python",
   "pygments_lexer": "ipython3",
   "version": "3.10.8"
  }
 },
 "nbformat": 4,
 "nbformat_minor": 5
}
