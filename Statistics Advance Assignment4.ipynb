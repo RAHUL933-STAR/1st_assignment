{
 "cells": [
  {
   "cell_type": "markdown",
   "id": "af8688e3-635b-4690-bafa-4a99c35f7ccd",
   "metadata": {},
   "source": [
    "Q1: What is the difference between a t-test and a z-test? Provide an example scenario where you would \n",
    "use each type of test."
   ]
  },
  {
   "cell_type": "code",
   "execution_count": 1,
   "id": "6aa5c39e-bf27-4c0a-b6c6-ef4e75c75b8f",
   "metadata": {},
   "outputs": [],
   "source": [
    "## 1) t-test:\n",
    "#  A t-test is used when the sample size is small (typically less than 30) or when the population standard deviation is unknown. It is commonly used when \n",
    "#  working with small samples, which can result in higher uncertainty about the population parameters. The t-test uses the t-distribution, \n",
    "#  which accounts for the additional uncertainty introduced by the smaller sample size.\n",
    "\n",
    "# Example scenario for using a t-test: Let's say you are conducting a study to compare the effectiveness of two different drugs (Drug A and Drug B) \n",
    "# in reducing blood pressure. You randomly select 20 participants and administer either Drug A or Drug B to them. After the treatment period, you\n",
    "# measure their blood pressure levels. Now, you want to determine if there is a statistically significant difference in the mean blood pressure\n",
    "# reduction between the two drugs.\n",
    "\n",
    "## 2) z-test:\n",
    "# A z-test, on the other hand, is used when the sample size is large (typically greater than 30) or when the population standard deviation is known. \n",
    "# When the sample size is large, the central limit theorem ensures that the sample mean approximates a normal distribution, allowing the use of the \n",
    "# standard normal distribution (z-distribution) to perform hypothesis testing.\n",
    "\n",
    "# Example scenario for using a z-test: Suppose you want to test whether a new weight loss program is effective at reducing weight in a population. \n",
    "# You randomly select a large sample of 200 individuals, enroll them in the program, and record their weight after following the program for a specific period.\n",
    "# Now, you want to determine if the mean weight loss in the population is significantly different from the average weight loss of the general population \n",
    "# (which is already known).\n",
    "\n",
    "## In summary:\n",
    "\n",
    "# Use a t-test when the sample size is small or the population standard deviation is unknown.\n",
    "# Use a z-test when the sample size is large or the population standard deviation is known."
   ]
  },
  {
   "cell_type": "markdown",
   "id": "eee9a5cf-691f-41db-bca9-0172d72d4545",
   "metadata": {},
   "source": [
    "Q2: Differentiate between one-tailed and two-tailed tests.\n"
   ]
  },
  {
   "cell_type": "code",
   "execution_count": 2,
   "id": "7cc7bb4c-9abf-4eba-aa74-74c3ea5e3e55",
   "metadata": {},
   "outputs": [],
   "source": [
    "## One-tailed test:\n",
    "\n",
    "# Also known as a one-sided test, a one-tailed test is used to determine if a sample mean is significantly greater than or less than a specific \n",
    "# value or if there is a specific directional effect. The critical region for the test is located entirely in one tail of the probability distribution, \n",
    "# either in the right tail or the left tail, depending on the direction specified in the alternative hypothesis.\n",
    "\n",
    "# Null Hypothesis (H0): The sample mean is equal to or not significantly different from a specific value.\n",
    "# Alternative Hypothesis (H1): The sample mean is either greater than or less than the specific value, but not both.\n",
    "\n",
    "## Two-tailed test:\n",
    "# Also known as a two-sided test, a two-tailed test is used to determine if a sample mean is significantly different from a specific value, \n",
    "# without specifying the direction of the effect. The critical region is divided between both tails of the probability distribution, allowing\n",
    "# for the possibility of either a positive or negative deviation from the specified value.\n",
    "\n",
    "# Null Hypothesis (H0): The sample mean is equal to or not significantly different from a specific value.\n",
    "# Alternative Hypothesis (H1): The sample mean is significantly different (either greater than or less than) from the specific value."
   ]
  },
  {
   "cell_type": "markdown",
   "id": "ceffce2c-708a-47e6-81d6-4a4114af5865",
   "metadata": {},
   "source": [
    "Q3: Explain the concept of Type 1 and Type 2 errors in hypothesis testing. Provide an example scenario for \n",
    "each type of error."
   ]
  },
  {
   "cell_type": "code",
   "execution_count": 3,
   "id": "cb8a1ad3-c3f7-43ee-8715-970362b28ea0",
   "metadata": {},
   "outputs": [],
   "source": [
    "## Type 1 Error (False Positive):\n",
    "# A Type 1 error occurs when we incorrectly reject a true null hypothesis. In other words, it happens when we conclude that there is a significant\n",
    "# effect or difference when, in reality, there is no such effect or difference in the population. This error is also known as a false positive.\n",
    "\n",
    "## Type 2 Error (False Negative):\n",
    "# A Type 2 error occurs when we fail to reject a false null hypothesis. In this case, there is a genuine effect or difference in the population,\n",
    "# but our statistical test fails to detect it, and we erroneously accept the null hypothesis. This error is also known as a false negative."
   ]
  },
  {
   "cell_type": "markdown",
   "id": "114c67b2-f7e3-4379-85b1-e033f8143dd3",
   "metadata": {},
   "source": [
    "Q4:  Explain Bayes's theorem with an example.\n"
   ]
  },
  {
   "cell_type": "code",
   "execution_count": 4,
   "id": "f211e733-af31-442c-805d-78b8727d8953",
   "metadata": {},
   "outputs": [],
   "source": [
    "# Bayes's theorem, named after the Reverend Thomas Bayes, is a fundamental concept in probability theory and statistics. It provides a way to update \n",
    "# the probability of a hypothesis based on new evidence. The theorem is used to calculate the conditional probability of an event, given the knowledge\n",
    "# of another related event.\n",
    "\n",
    "# The formula for Bayes's theorem is as follows:\n",
    "## P(A/B) =  P(B/A) - P(A) / P(B)\n",
    "\n",
    "# where:\n",
    "\n",
    "# P(A∣B) is the conditional probability of event A given event B has occurred.\n",
    "# P(B∣A) is the conditional probability of event B given event A has occurred.\n",
    "# P(A) is the probability of event A.\n",
    "# P(B) is the probability of event B.\n",
    "\n",
    "# Example: Medical Test for a Disease\n",
    "\n",
    "# Suppose there is a rare disease that affects 1 in 1000 people in a certain population. We have a medical test to detect this disease, but it's not perfect. \n",
    "# The test has the following characteristics:\n",
    "\n",
    "# Sensitivity: The probability that the test correctly identifies a person with the disease is 0.95 (95%).\n",
    "# Specificity: The probability that the test correctly identifies a person without the disease (a healthy person) is 0.98 (98%).\n",
    "# We want to determine the probability that a person has the disease (Event A) given that the test comes back positive (Event B).\n",
    "\n",
    "# Let's define the events:\n",
    "\n",
    "# A: Person has the disease.\n",
    "# B: Test result is positive.\n",
    "\n",
    "# We need to find \n",
    "\n",
    "# P(A∣B), the probability that a person has the disease given that the test is positive.\n",
    "\n",
    "# Step 1: Calculate the probability of a positive test result P(B).\n",
    "\n",
    "# To get a positive test result, two possibilities exist: A) Person has the disease and the test is positive, and B) Person does not have the disease,\n",
    "# but the test is falsely positive.\n",
    "# P(B)=P(B∣A)⋅P(A)+P(B∣¬A)⋅P(¬A)\n",
    "# P(B )= 0.95 ⋅ 0.001 + (1−0.98) ⋅ (1−0.001)\n",
    "# P(B)=0.95⋅0.001+(1−0.98)⋅(1−0.001)\n",
    "# P(B)=0.00288\n",
    "\n",
    "# Step 2: Calculate the probability of having the disease given a positive test result, P(A∣B).\n",
    "\n",
    "# P(A∣B)= P(B∣A)⋅P(A) / P(B)\n",
    "# P(A/B) = 0.95 - 0.001 / 0.00288 \n",
    "# P(A/B) ≈ 0.32986\n",
    "\n",
    "# The result P(A∣B)≈0.32986, means that if a person's test comes back positive, the probability that they actually have the disease is about 0.32986 or\n",
    "# approximately 33%. Even with a positive test result, there is still a considerable chance of a false positive due to the rare nature of the disease \n",
    "# and the imperfect sensitivity and specificity of the test."
   ]
  },
  {
   "cell_type": "markdown",
   "id": "ebc8e1a4-69f1-4c2c-9cee-2a5dcd61d904",
   "metadata": {},
   "source": [
    "Q5: What is a confidence interval? How to calculate the confidence interval, explain with an example."
   ]
  },
  {
   "cell_type": "code",
   "execution_count": 1,
   "id": "20858aa2-d7ee-4b1a-b8dd-57a1edbe5548",
   "metadata": {},
   "outputs": [],
   "source": [
    "# A confidence interval is a statistical range that provides an estimate of the uncertainty surrounding a population parameter (such as a population \n",
    "# mean or proportion) based on a sample from that population. It is a way to express the precision or accuracy of an estimate. The confidence interval\n",
    "# consists of two numbers: an upper bound and a lower bound, between which we believe the true population parameter lies with a certain level of confidence.\n",
    "\n",
    "# The level of confidence, typically denoted as (1 - α), represents the probability that the true population parameter falls within the calculated interval. \n",
    "# The most common level of confidence used is 95%, corresponding to α = 0.05, meaning we are 95% confident that the true parameter lies within the calculated interval.\n",
    "\n",
    "# The formula to calculate a confidence interval for a sample mean is:\n",
    "# Confidence Interval = Sample Mean ± Margin of Error\n",
    "\n",
    "# The formula for the margin of error is:\n",
    "# Margin of Error=Critical Value×Standard Error\n",
    "\n",
    "# The critical value is based on the level of confidence and the distribution of the sample data. For large sample sizes (typically n ≥ 30) and assuming \n",
    "# the data is approximately normally distributed, the critical value is obtained from the standard normal distribution (Z-distribution) using a Z-table or\n",
    "# a statistical software.\n",
    "\n",
    "# For smaller sample sizes or unknown population standard deviation, the critical value is determined from the t-distribution. The t-distribution takes into \n",
    "# account the sample size and provides more accurate estimates when the population standard deviation is unknown.\n",
    "\n",
    "# Example:\n",
    "# Suppose we want to estimate the average height of students in a school. We take a random sample of 50 students and measure their heights in centimeters.\n",
    "# The sample mean height is 165 cm, and the sample standard deviation is 8 cm.\n",
    "\n",
    "# Step 1: Choose the level of confidence.\n",
    "# Let's use a 95% confidence level, which corresponds to α = 0.05.\n",
    "\n",
    "# Step 2: Determine the critical value.\n",
    "# Since the sample size is relatively large (n = 50), we can use the standard normal distribution for a 95% confidence level. The critical value for a 95% \n",
    "# confidence interval is approximately 1.96 (you can find this value from a Z-table).\n",
    "\n",
    "# Step 3: Calculate the standard error.\n",
    "# The standard error (SE) of the sample mean is given by the formula:\n",
    "# SE=  Sample Standard Deviation / ROOT Sample Size\n",
    "# In our example, SE = 8 / ROOT 50 ≈ 1.13\n",
    "\n",
    "# Step 4: Calculate the margin of error.\n",
    "# The margin of error (ME) is given by:\n",
    "\n",
    "# ME=Critical Value×Standard Error\n",
    "\n",
    "# In our example, ME = 1.96 × 1.13 ≈ 2.22\n",
    "\n",
    "# Step 5: Calculate the confidence interval.\n",
    "# The confidence interval is:\n",
    "# Confidence Interval=Sample Mean±Margin of Error\n",
    "\n",
    "# In our example, the confidence interval is:\n",
    "# 165±2.22\n",
    "# Confidence Interval=(162.78,167.22)\n",
    "\n",
    "# Interpretation: We are 95% confident that the true average height of all students in the school lies between 162.78 cm and 167.22 cm."
   ]
  },
  {
   "cell_type": "markdown",
   "id": "733e101b-a5c5-4700-81e2-5957402fdd9b",
   "metadata": {},
   "source": [
    "Q6. Use Bayes' Theorem to calculate the probability of an event occurring given prior knowledge of the \n",
    "event's probability and new evidence. Provide a sample problem and solution."
   ]
  },
  {
   "cell_type": "code",
   "execution_count": 2,
   "id": "e7a29795-ea77-4bec-b1d6-34787e5af19d",
   "metadata": {},
   "outputs": [],
   "source": [
    "# Bayes' Theorem is a fundamental theorem in probability theory that allows us to update the probability of an event occurring given new evidence.\n",
    "# It is expressed as follows:\n",
    "\n",
    "# P(A∣B) = P(B∣A)⋅P(A) / P(B)\n",
    "# Where:\n",
    "\n",
    "# P(A∣B) is the posterior probability of event A occurring given the new evidence B.\n",
    "# P(B∣A) is the probability of observing the new evidence B given that event A has occurred.\n",
    "# P(A) is the prior probability of event A occurring before the new evidence is considered.\n",
    "# P(B) is the probability of observing the new evidence B.\n",
    "\n",
    "# Example:\n",
    "# Suppose a factory produces two types of smartphones: Type X and Type Y. Based on historical data, it is known that 30% of the smartphones produced are\n",
    "# Type X (Event A), and 70% are Type Y (Event B). The factory has a quality control process to identify defective products. It has been observed that 5% of\n",
    "# Type X smartphones (Event A) are defective (Event B), while 10% of Type Y smartphones (Event B) are defective (Event B).\n",
    "\n",
    "# Now, a customer purchases a smartphone from the factory and discovers that it is defective. What is the probability that the smartphone is of Type X (Event A)\n",
    "# given that it is defective (Event B)?\n",
    "\n",
    "# Solution:\n",
    "# Let's define the events:\n",
    "\n",
    "# Event A: The smartphone is of Type X.\n",
    "# Event B: The smartphone is defective.\n",
    "# We are asked to find P(A∣B), which is the probability that the smartphone is of Type X given that it is defective.\n",
    "\n",
    "# Using Bayes' Theorem:\n",
    "# P(A∣B)= P(B∣A)⋅P(A) / P(B)\n",
    "# We already have the following probabilities from the problem statement:\n",
    "# P(A)=0.30 (The probability that the smartphone is of Type X).\n",
    "# P(B∣A)=0.05 (The probability that the smartphone is defective given that it is of Type X).\n",
    "# P(B)=? (The probability that the smartphone is defective).\n",
    " \n",
    "# To calculate P(B), we can use the law of total probability:\n",
    "# P(B)=P(B∣A)⋅P(A)+P(B∣¬A)⋅P(¬A)\n",
    "# We have the following probabilities:\n",
    "# P(B∣¬A)=0.10 (The probability that the smartphone is defective given that it is not of Type X).\n",
    "# P(¬A)=1−P(A)=1−0.30=0.70 (The probability that the smartphone is not of Type X).\n",
    "\n",
    "# Now, let's calculate P(B):\n",
    "# P(B)=0.05⋅0.30+0.10⋅0.70=0.015+0.07=0.085\n",
    "\n",
    "# Finally, plug the values back into Bayes' Theorem to find P(A∣B):\n",
    "# P(A∣B)= P(B∣A)⋅P(A) / P(B) = 0.05⋅0.30 / 0.085  ≈0.176\n",
    "\n",
    "# So, the probability that the smartphone is of Type X (Event A) given that it is defective (Event B) is approximately 0.176, or 17.6%."
   ]
  },
  {
   "cell_type": "markdown",
   "id": "053b9ebb-0f69-43a6-a2a6-ff5f874e11de",
   "metadata": {},
   "source": [
    "Q7. Calculate the 95% confidence interval for a sample of data with a mean of 50 and a standard deviation \n",
    "of 5. Interpret the results."
   ]
  },
  {
   "cell_type": "code",
   "execution_count": 4,
   "id": "8d3c4e2d-cd53-4e56-acbf-c4b8eeb739ba",
   "metadata": {},
   "outputs": [],
   "source": [
    "# To calculate the 95% confidence interval for a sample of data with a mean of 50 and a standard deviation of 5, we'll use the formula for the confidence \n",
    "# interval of the mean:\n",
    "\n",
    "# Confidence Interval=Sample Mean±Margin of Error\n",
    "\n",
    "# The margin of error is based on the critical value and the standard error. Since we want a 95% confidence level, the critical value is 1.96 for a large \n",
    "# sample size (assuming a normal distribution). The standard error (SE) of the sample mean is given by:\n",
    "# SE=  Sample Standard Deviation / ROOT Sample Size\n",
    "\n",
    "# Now, let's calculate the confidence interval:\n",
    "\n",
    "# Sample Mean=50\n",
    "# Sample Standard Deviation=5\n",
    "# Sample Size=Assume a reasonable sample size, e.g., n=100\n",
    "\n",
    "# SE= 5 / 10 =0.5\n",
    "\n",
    "# The margin of error (ME) is:\n",
    "# ME=Critical Value×Standard Error=1.96×0.5=0.98\n",
    "# The 95% confidence interval is:\n",
    "# Confidence Interval=50±0.98\n",
    "# Confidence Interval=(49.02,50.98)"
   ]
  },
  {
   "cell_type": "markdown",
   "id": "3027e117-07fe-4d56-9040-ca004e2a5f51",
   "metadata": {},
   "source": [
    "Q8. What is the margin of error in a confidence interval? How does sample size affect the margin of error? \n",
    "Provide an example of a scenario where a larger sample size would result in a smaller margin of error."
   ]
  },
  {
   "cell_type": "code",
   "execution_count": 6,
   "id": "6af92e0d-3d36-42a1-89f9-a1441e995635",
   "metadata": {},
   "outputs": [],
   "source": [
    "## The margin of error (MOE) in a confidence interval is a measure of the uncertainty or the possible variation in the estimated population parameter \n",
    "# (e.g., mean or proportion) based on the sample data. It represents the range around the point estimate within which the true population parameter is\n",
    "# likely to fall with a certain level of confidence.\n",
    "\n",
    "# The margin of error is influenced by three main factors:\n",
    "\n",
    "# Confidence level: The higher the confidence level, the larger the margin of error, as a higher confidence level requires a wider range of possible values.\n",
    "# Sample size: The larger the sample size, the smaller the margin of error, as larger samples tend to provide more information about the population, resulting\n",
    "# in a more precise estimate.\n",
    "# Population variability: The higher the variability in the population, the larger the margin of error, as it becomes more challenging to estimate the true parameter.\n",
    "\n",
    "# Example of a scenario where a larger sample size would result in a smaller margin of error:\n",
    "\n",
    "# Suppose we want to estimate the average age of students at a university. We can take two different sample sizes, one smaller and one larger, and observe \n",
    "# how it affects the margin of error.\n",
    "\n",
    "# Scenario 1: Small Sample Size\n",
    "\n",
    "# Sample Size (n1) = 50\n",
    "# Sample Mean (x̄) = 25 years\n",
    "# Sample Standard Deviation (s) = 5 years (assumed)\n",
    "# Confidence Level = 95%\n",
    "\n",
    "# The standard error (SE) of the sample mean is calculated as:\n",
    "\n",
    "# SE1 = 8 / ROOT n1 = 5 / ROOT 50 ≈ 0.707\n",
    "\n",
    "# The critical value for a 95% confidence level with a small sample size (n1) can be obtained from the t-distribution table, which is approximately 2.009.\n",
    "# The margin of error (MOE1) is calculated as:\n",
    "# MOE1=Critical Value×Standard Error=2.009×0.707≈1.420\n",
    "# The 95% confidence interval is:\n",
    "# Confidence Interval1=25±1.420\n",
    "# Confidence Interval1=(23.58,26.42)\n",
    "\n",
    "# Scenario 2: Large Sample Size\n",
    "\n",
    "# Sample Size (n2) = 500\n",
    "# Sample Mean (x̄) = 25 years\n",
    "# Sample Standard Deviation (s) = 5 years (assumed)\n",
    "# Confidence Level = 95%\n",
    "\n",
    "# The standard error (SE) of the sample mean is calculated as:\n",
    "# SE2 = 8 / ROOT n2 = 5 / ROOT 500 ≈0.2236\n",
    "\n",
    "# The critical value for a 95% confidence level with a large sample size (n2) can be approximated from the standard normal distribution, which is approximately 1.96.\n",
    "# The margin of error (MOE2) is calculated as:\n",
    "# MOE2=Critical Value×Standard Error=1.96×0.2236≈0.4386\n",
    "\n",
    "# The 95% confidence interval is:\n",
    "# Confidence Interval2=25±0.4386\n",
    "# Confidence Interval2=(24.5614,25.4386)"
   ]
  },
  {
   "cell_type": "markdown",
   "id": "5563801c-a823-4e3b-bca3-d71c1fd12d19",
   "metadata": {},
   "source": [
    "Q9. Calculate the z-score for a data point with a value of 75, a population mean of 70, and a population \n",
    "standard deviation of 5. Interpret the results."
   ]
  },
  {
   "cell_type": "code",
   "execution_count": 7,
   "id": "081e11f7-7d1f-4fbc-8ee6-055d1c3eb0e8",
   "metadata": {},
   "outputs": [],
   "source": [
    "# To calculate the z-score for a data point, you can use the following formula:\n",
    "\n",
    "\n",
    "# Z-score= Data Point−Population Mean / Population Standard Deviation\n",
    "# Given the following values:\n",
    "# Data Point = 75\n",
    "# Population Mean = 70\n",
    "# Population Standard Deviation = 5\n",
    "# Let's calculate the z-score:\n",
    "\n",
    "\n",
    "#Z-score= 75−70 / 5 = 5 / 5 = 1 \n",
    "#Interpretation:\n",
    "#The z-score measures how many standard deviations a data point is away from the mean of the population. In this case, the data point with \n",
    "# a value of 75 has a z-score of 1, which means it is one standard deviation above the population mean.\n",
    "\n",
    "#A positive z-score indicates that the data point is above the mean, while a negative z-score would indicate that the data point is below the mean.\n",
    "# The magnitude of the z-score tells us how far the data point deviates from the mean in terms of the number of standard deviations.\n",
    "\n",
    "#Since the z-score is 1, we can say that the data point of 75 is located one standard deviation above the population mean of 70. This implies that the \n",
    "# value of 75 is relatively higher compared to the average value of the population, as it falls within the upper tail of the distribution."
   ]
  },
  {
   "cell_type": "markdown",
   "id": "0d4cd966-1b01-4df8-a718-62543a6c70cc",
   "metadata": {},
   "source": [
    "Q10. In a study of the effectiveness of a new weight loss drug, a sample of 50 participants lost an average \n",
    "of 6 pounds with a standard deviation of 2.5 pounds. Conduct a hypothesis test to determine if the drug is \n",
    "significantly effective at a 95% confidence level using a t-test"
   ]
  },
  {
   "cell_type": "code",
   "execution_count": 8,
   "id": "cc141013-7e91-4158-8e0f-fc284251c61b",
   "metadata": {},
   "outputs": [
    {
     "name": "stdout",
     "output_type": "stream",
     "text": [
      "Fail to reject the null hypothesis. The weight loss drug is not significantly effective.\n"
     ]
    },
    {
     "name": "stderr",
     "output_type": "stream",
     "text": [
      "/tmp/ipykernel_77/2025460415.py:10: RuntimeWarning: Precision loss occurred in moment calculation due to catastrophic cancellation. This occurs when the data are nearly identical. Results may be unreliable.\n",
      "  t_statistic, p_value = stats.ttest_1samp([sample_mean], population_mean)\n",
      "/opt/conda/lib/python3.10/site-packages/scipy/stats/_stats_py.py:1253: RuntimeWarning: divide by zero encountered in divide\n",
      "  var *= np.divide(n, n-ddof)  # to avoid error on division by zero\n",
      "/opt/conda/lib/python3.10/site-packages/scipy/stats/_stats_py.py:1253: RuntimeWarning: invalid value encountered in double_scalars\n",
      "  var *= np.divide(n, n-ddof)  # to avoid error on division by zero\n"
     ]
    }
   ],
   "source": [
    "import scipy.stats as stats\n",
    "\n",
    "sample_mean = 6\n",
    "sample_std = 2.5\n",
    "sample_size = 50\n",
    "population_mean = 0\n",
    "confidence_level = 0.95\n",
    "\n",
    "standard_error = sample_std / (sample_size ** 0.5)\n",
    "t_statistic, p_value = stats.ttest_1samp([sample_mean], population_mean)\n",
    "critical_t_value = stats.t.ppf(1 - (1 - confidence_level) / 2, df=sample_size - 1)\n",
    "if abs(t_statistic) > critical_t_value:\n",
    "    print(\"Reject the null hypothesis. The weight loss drug is significantly effective.\")\n",
    "else:\n",
    "    print(\"Fail to reject the null hypothesis. The weight loss drug is not significantly effective.\")"
   ]
  },
  {
   "cell_type": "markdown",
   "id": "c262073b-16c8-40d7-894e-9fe019713d81",
   "metadata": {},
   "source": [
    "Q11. In a survey of 500 people, 65% reported being satisfied with their current job. Calculate the 95% \n",
    "confidence interval for the true proportion of people who are satisfied with their job"
   ]
  },
  {
   "cell_type": "code",
   "execution_count": 9,
   "id": "8c26b58a-29a6-4c9d-aad5-0943bfb0b9e5",
   "metadata": {},
   "outputs": [
    {
     "name": "stdout",
     "output_type": "stream",
     "text": [
      "The 95% confidence interval for the true proportion of people satisfied with their job is: (0.6082, 0.6918)\n"
     ]
    }
   ],
   "source": [
    "import statsmodels.api as sm\n",
    "\n",
    "sample_proportion = 0.65\n",
    "sample_size = 500\n",
    "confidence_level = 0.95\n",
    "\n",
    "conf_interval = sm.stats.proportion_confint(sample_proportion * sample_size, sample_size, alpha=1-confidence_level)\n",
    "lower_bound, upper_bound = conf_interval\n",
    "print(f\"The 95% confidence interval for the true proportion of people satisfied with their job is: ({lower_bound:.4f}, {upper_bound:.4f})\")"
   ]
  },
  {
   "cell_type": "markdown",
   "id": "d78e543d-0402-4e16-a1fb-89ebf0de818e",
   "metadata": {},
   "source": [
    "Q12. A researcher is testing the effectiveness of two different teaching methods on student performance. \n",
    "Sample A has a mean score of 85 with a standard deviation of 6, while sample B has a mean score of 82 \n",
    "with a standard deviation of 5. Conduct a hypothesis test to determine if the two teaching methods have a \n",
    "significant difference in student performance using a t-test with a significance level of 0.01."
   ]
  },
  {
   "cell_type": "code",
   "execution_count": 12,
   "id": "d279148a-1394-4f6d-85e0-0d60563ea1b0",
   "metadata": {},
   "outputs": [],
   "source": [
    "# To conduct a hypothesis test to determine if the two teaching methods have a significant difference in student performance, we can perform an independent \n",
    "# two-sample t-test. The null hypothesis (H0) assumes that there is no significant difference between the means of the two samples, while the alternative\n",
    "# hypothesis (Ha) assumes that there is a significant difference between the means.\n",
    "\n",
    "# The formulas for the t-statistic and degrees of freedom (df) for an independent two-sample t-test are given by:\n",
    "\n",
    "# t=  Sample Mean A−Sample Mean B / root Sample Variance A / sample size A + Sample Variance B / Sample Size B\n",
    "\n",
    "# df=Sample Size A+Sample Size B−2\n",
    "\n",
    "# where:\n",
    "\n",
    "# Sample Mean A and Sample Mean B are the mean scores of Sample A and Sample B, respectively.\n",
    "# Sample Variance A and Sample Variance B are the variances of Sample A and Sample B, respectively.\n",
    "# Sample Size A and Sample Size B are the sizes of Sample A and Sample B, respectively.\n",
    "\n",
    "# Given the following values:\n",
    "\n",
    "# Sample Mean A = 85\n",
    "# Sample Standard Deviation A = 6\n",
    "# Sample Size A = ? (Not provided)\n",
    "# Sample Mean B = 82\n",
    "# Sample Standard Deviation B = 5\n",
    "# Sample Size B = ? (Not provided)\n",
    "# Significance level (α) = 0.01\n",
    "# We need to know the sample sizes (Sample Size A and Sample Size B) to calculate the t-statistic. Without the sample sizes, we cannot proceed with the t-test.\n",
    "# The sample sizes are crucial to determine the degrees of freedom for the t-distribution and to compute the critical t-value for the given significance level.\n",
    "\n",
    "# Assuming we have the sample sizes for both Sample A and Sample B, we could then proceed with the hypothesis test using the t-distribution and compare the \n",
    "# t-statistic to the critical t-value to determine whether to reject the null hypothesis or not."
   ]
  },
  {
   "cell_type": "markdown",
   "id": "8f785126-8dc5-458d-a93d-c12621e8399c",
   "metadata": {},
   "source": [
    "Q13. A population has a mean of 60 and a standard deviation of 8. A sample of 50 observations has a mean \n",
    "of 65. Calculate the 90% confidence interval for the true population mean."
   ]
  },
  {
   "cell_type": "code",
   "execution_count": 13,
   "id": "f561dfc2-4ca4-4faf-84bb-919458c732a9",
   "metadata": {},
   "outputs": [
    {
     "name": "stdout",
     "output_type": "stream",
     "text": [
      "The 90% confidence interval for the true population mean is: (63.1391, 66.8609)\n"
     ]
    }
   ],
   "source": [
    "import scipy.stats as stats\n",
    "\n",
    "population_mean = 60\n",
    "population_std = 8\n",
    "sample_mean = 65\n",
    "sample_size = 50\n",
    "confidence_level = 0.90\n",
    "\n",
    "standard_error = population_std / (sample_size ** 0.5)\n",
    "critical_value = stats.norm.ppf(1 - (1 - confidence_level) / 2)\n",
    "margin_of_error = critical_value * standard_error\n",
    "lower_bound = sample_mean - margin_of_error\n",
    "upper_bound = sample_mean + margin_of_error\n",
    "print(f\"The 90% confidence interval for the true population mean is: ({lower_bound:.4f}, {upper_bound:.4f})\")"
   ]
  },
  {
   "cell_type": "markdown",
   "id": "3b68ed91-69cd-47f6-9eba-bff38486d261",
   "metadata": {},
   "source": [
    "Q14. In a study of the effects of caffeine on reaction time, a sample of 30 participants had an average \n",
    "reaction time of 0.25 seconds with a standard deviation of 0.05 seconds. Conduct a hypothesis test to \n",
    "determine if the caffeine has a significant effect on reaction time at a 90% confidence level using a t-test."
   ]
  },
  {
   "cell_type": "code",
   "execution_count": 19,
   "id": "5c6eed20-fa65-49c8-8585-b08a60e4883a",
   "metadata": {},
   "outputs": [
    {
     "name": "stdout",
     "output_type": "stream",
     "text": [
      "Fail to reject the null hypothesis. Caffeine does not have a significant effect on reaction time.\n"
     ]
    },
    {
     "name": "stderr",
     "output_type": "stream",
     "text": [
      "/tmp/ipykernel_77/142879973.py:16: RuntimeWarning: Precision loss occurred in moment calculation due to catastrophic cancellation. This occurs when the data are nearly identical. Results may be unreliable.\n",
      "  t_statistic, p_value = stats.ttest_1samp([sample_mean], population_mean)\n"
     ]
    }
   ],
   "source": [
    "import scipy.stats as stats\n",
    "\n",
    "\n",
    "sample_mean = 0.25\n",
    "sample_std = 0.05\n",
    "sample_size = 30\n",
    "# population_mean = ?\n",
    "\n",
    "\n",
    "alpha = 0.10\n",
    "\n",
    "\n",
    "standard_error = sample_std / (sample_size ** 0.5)\n",
    "\n",
    "# Perform the one-sample t-test\n",
    "t_statistic, p_value = stats.ttest_1samp([sample_mean], population_mean)\n",
    "\n",
    "# Determine if the null hypothesis should be rejected or not\n",
    "if p_value < alpha:\n",
    "    print(\"Reject the null hypothesis. Caffeine has a significant effect on reaction time.\")\n",
    "else:\n",
    "    print(\"Fail to reject the null hypothesis. Caffeine does not have a significant effect on reaction time.\")"
   ]
  },
  {
   "cell_type": "code",
   "execution_count": null,
   "id": "4c23bb3b-0bc0-4008-b160-1fb87cba5ee7",
   "metadata": {},
   "outputs": [],
   "source": []
  },
  {
   "cell_type": "code",
   "execution_count": null,
   "id": "1b9c06b5-9074-41ac-9f9e-836ae6844a64",
   "metadata": {},
   "outputs": [],
   "source": []
  }
 ],
 "metadata": {
  "kernelspec": {
   "display_name": "Python 3 (ipykernel)",
   "language": "python",
   "name": "python3"
  },
  "language_info": {
   "codemirror_mode": {
    "name": "ipython",
    "version": 3
   },
   "file_extension": ".py",
   "mimetype": "text/x-python",
   "name": "python",
   "nbconvert_exporter": "python",
   "pygments_lexer": "ipython3",
   "version": "3.10.8"
  }
 },
 "nbformat": 4,
 "nbformat_minor": 5
}
