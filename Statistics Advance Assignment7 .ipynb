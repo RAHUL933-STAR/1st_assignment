{
 "cells": [
  {
   "cell_type": "markdown",
   "id": "d3654532-3111-4109-8886-21a368bc6b6d",
   "metadata": {},
   "source": [
    "Q1. Write a Python function that takes in two arrays of data and calculates the F-value for a variance ratio \n",
    "test. The function should return the F-value and the corresponding p-value for the test."
   ]
  },
  {
   "cell_type": "code",
   "execution_count": 2,
   "id": "f4e9a24d-1e00-4cbe-9674-7df045f09908",
   "metadata": {},
   "outputs": [
    {
     "name": "stdout",
     "output_type": "stream",
     "text": [
      "F-value: 1.0\n",
      "p-value: 0.3465935070873342\n"
     ]
    }
   ],
   "source": [
    "import numpy as np\n",
    "from scipy.stats import f_oneway\n",
    "\n",
    "def variance_ratio_test(array1, array2):\n",
    "    array1 = np.array(array1)\n",
    "    array2 = np.array(array2)\n",
    "\n",
    "    F, p = f_oneway(array1, array2)\n",
    "    return F, p\n",
    "array1 = [10, 15, 20, 25, 30]\n",
    "array2 = [5, 10, 15, 20, 25]\n",
    "F_value, p_value = variance_ratio_test(array1, array2)\n",
    "print(\"F-value:\", F_value)\n",
    "print(\"p-value:\", p_value)"
   ]
  },
  {
   "cell_type": "markdown",
   "id": "97c0fa47-c264-4be2-bdf1-87d9dba0b9a5",
   "metadata": {},
   "source": [
    "Q2. Given a significance level of 0.05 and the degrees of freedom for the numerator and denominator of an \n",
    "F-distribution, write a Python function that returns the critical F-value for a two-tailed test."
   ]
  },
  {
   "cell_type": "code",
   "execution_count": 4,
   "id": "79efaea8-fd2a-4c97-a271-847b1ad0524d",
   "metadata": {},
   "outputs": [
    {
     "name": "stdout",
     "output_type": "stream",
     "text": [
      "Critical F-value: 3.8586986662732143\n"
     ]
    }
   ],
   "source": [
    "from scipy.stats import f\n",
    "\n",
    "def critical_f_value(significance_level, dfn, dfd):\n",
    "    crit_f_value = f.ppf(1 - significance_level / 2, dfn, dfd)\n",
    "    return crit_f_value\n",
    "significance_level = 0.05\n",
    "dfn = 3\n",
    "dfd = 20\n",
    "crit_f_value = critical_f_value(significance_level, dfn, dfd)\n",
    "print(\"Critical F-value:\", crit_f_value)"
   ]
  },
  {
   "cell_type": "markdown",
   "id": "c6780412-1493-4b14-9764-c393557ab415",
   "metadata": {},
   "source": [
    "Q3. Write a Python program that generates random samples from two normal distributions with known \n",
    "variances and uses an F-test to determine if the variances are equal. The program should output the F\u0002value, degrees of freedom, and p-value for the test."
   ]
  },
  {
   "cell_type": "code",
   "execution_count": 6,
   "id": "b85f2e33-b954-4876-925d-17e4bc688c14",
   "metadata": {},
   "outputs": [
    {
     "name": "stdout",
     "output_type": "stream",
     "text": [
      "F-value: 51.40519876780091\n",
      "Degrees of freedom (numerator): 49\n",
      "Degrees of freedom (denominator): 59\n",
      "p-value: 9.812529158456163e-11\n"
     ]
    }
   ],
   "source": [
    "import numpy as np\n",
    "from scipy.stats import f_oneway\n",
    "\n",
    "def perform_f_test(sample1, sample2):\n",
    "    sample1 = np.array(sample1)\n",
    "    sample2 = np.array(sample2)\n",
    "\n",
    "    n1 = len(sample1)\n",
    "    n2 = len(sample2)\n",
    "    dfn = n1 - 1\n",
    "    dfd = n2 - 1\n",
    "\n",
    "    F_value, p_value = f_oneway(sample1, sample2)\n",
    "\n",
    "    return F_value, dfn, dfd, p_value\n",
    "np.random.seed(42)  \n",
    "sample1 = np.random.normal(loc=10, scale=2, size=50)\n",
    "sample2 = np.random.normal(loc=12, scale=2, size=60)\n",
    "F_value, dfn, dfd, p_value = perform_f_test(sample1, sample2)\n",
    "print(\"F-value:\", F_value)\n",
    "print(\"Degrees of freedom (numerator):\", dfn)\n",
    "print(\"Degrees of freedom (denominator):\", dfd)\n",
    "print(\"p-value:\", p_value)"
   ]
  },
  {
   "cell_type": "markdown",
   "id": "aa5b249d-9758-4fdb-8319-e9696ab831be",
   "metadata": {},
   "source": [
    "Q4.The variances of two populations are known to be 10 and 15. A sample of 12 observations is taken from \n",
    "each population. Conduct an F-test at the 5% significance level to determine if the variances are \n",
    "significantly different"
   ]
  },
  {
   "cell_type": "code",
   "execution_count": 8,
   "id": "180a71b1-8f31-47c2-887d-2f3638d130bf",
   "metadata": {},
   "outputs": [
    {
     "name": "stdout",
     "output_type": "stream",
     "text": [
      "The variances are not significantly different.\n"
     ]
    }
   ],
   "source": [
    "import numpy as np\n",
    "from scipy.stats import f\n",
    "\n",
    "def f_test(sample1_var, sample2_var, sample1_size, sample2_size, significance_level):\n",
    "    dfn = sample1_size - 1\n",
    "    dfd = sample2_size - 1\n",
    "\n",
    "    F_statistic = sample1_var / sample2_var\n",
    "\n",
    "    critical_F = f.ppf(1 - significance_level / 2, dfn, dfd)\n",
    "\n",
    "    is_different = F_statistic > critical_F\n",
    "\n",
    "    return is_different\n",
    "\n",
    "sample1_var = 10\n",
    "sample2_var = 15\n",
    "sample1_size = 12\n",
    "sample2_size = 12\n",
    "significance_level = 0.05\n",
    "\n",
    "result = f_test(sample1_var, sample2_var, sample1_size, sample2_size, significance_level)\n",
    "\n",
    "if result:\n",
    "    print(\"The variances are significantly different.\")\n",
    "else:\n",
    "    print(\"The variances are not significantly different.\")"
   ]
  },
  {
   "cell_type": "markdown",
   "id": "38e0544b-fcd6-4689-b46a-f16cb31b8701",
   "metadata": {},
   "source": [
    "Q5. A manufacturer claims that the variance of the diameter of a certain product is 0.005. A sample of 25 \n",
    "products is taken, and the sample variance is found to be 0.006. Conduct an F-test at the 1% significance \n",
    "level to determine if the claim is justified."
   ]
  },
  {
   "cell_type": "code",
   "execution_count": 10,
   "id": "f152ddee-3641-4da6-9d62-c7b8e8fc2edb",
   "metadata": {},
   "outputs": [
    {
     "name": "stdout",
     "output_type": "stream",
     "text": [
      "The manufacturer's claim is not justified.\n"
     ]
    }
   ],
   "source": [
    "from scipy.stats import f\n",
    "\n",
    "def f_test(sample_var, claimed_var, sample_size, significance_level):\n",
    "    dfn = sample_size - 1\n",
    "    dfd = 0 \n",
    "    F_statistic = sample_var / claimed_var\n",
    "    critical_F = f.ppf(1 - significance_level / 2, dfn, dfd)\n",
    "    is_justified = F_statistic <= critical_F\n",
    "\n",
    "    return is_justified\n",
    "sample_var = 0.006\n",
    "claimed_var = 0.005\n",
    "sample_size = 25\n",
    "significance_level = 0.01\n",
    "result = f_test(sample_var, claimed_var, sample_size, significance_level)\n",
    "if result:\n",
    "    print(\"The manufacturer's claim is justified.\")\n",
    "else:\n",
    "    print(\"The manufacturer's claim is not justified.\")\n",
    "    "
   ]
  },
  {
   "cell_type": "markdown",
   "id": "4e3b7a5f-6d88-4732-be55-6378e70b2826",
   "metadata": {},
   "source": [
    "Q6. Write a Python function that takes in the degrees of freedom for the numerator and denominator of an \n",
    "F-distribution and calculates the mean and variance of the distribution. The function should return the \n",
    "mean and variance as a tuple."
   ]
  },
  {
   "cell_type": "code",
   "execution_count": 12,
   "id": "11b55dd9-57f7-4158-bb8a-428ce9494cb0",
   "metadata": {},
   "outputs": [
    {
     "name": "stdout",
     "output_type": "stream",
     "text": [
      "Mean: 1.25\n",
      "Variance: 1.3541666666666667\n"
     ]
    }
   ],
   "source": [
    "def f_distribution_mean_variance(dfn, dfd):\n",
    "    mean = dfd / (dfd - 2)\n",
    "    variance = (2 * dfd**2 * (dfn + dfd - 2)) / (dfn * (dfd - 2)**2 * (dfd - 4))\n",
    "\n",
    "    return mean, variance\n",
    "\n",
    "dfn = 5\n",
    "dfd = 10\n",
    "mean, variance = f_distribution_mean_variance(dfn, dfd)\n",
    "print(\"Mean:\", mean)\n",
    "print(\"Variance:\", variance)"
   ]
  },
  {
   "cell_type": "markdown",
   "id": "6add356c-b1c6-4563-aa95-2b43f3cf0133",
   "metadata": {},
   "source": [
    "Q7. A random sample of 10 measurements is taken from a normal population with unknown variance. The \n",
    "sample variance is found to be 25. Another random sample of 15 measurements is taken from another \n",
    "normal population with unknown variance, and the sample variance is found to be 20. Conduct an F-test \n",
    "at the 10% significance level to determine if the variances are significantly different."
   ]
  },
  {
   "cell_type": "code",
   "execution_count": 13,
   "id": "81b0c152-6920-4eca-af75-3428e4a180b1",
   "metadata": {},
   "outputs": [
    {
     "name": "stdout",
     "output_type": "stream",
     "text": [
      "The variances are not significantly different.\n"
     ]
    }
   ],
   "source": [
    "from scipy.stats import f\n",
    "\n",
    "def f_test(sample_var1, sample_var2, sample_size1, sample_size2, significance_level):\n",
    "\n",
    "    dfn = sample_size1 - 1\n",
    "    dfd = sample_size2 - 1\n",
    "\n",
    "    F_statistic = sample_var1 / sample_var2\n",
    "\n",
    "    critical_F = f.ppf(1 - significance_level / 2, dfn, dfd)\n",
    "\n",
    "    is_different = F_statistic > critical_F\n",
    "\n",
    "    return is_different\n",
    "\n",
    "sample_var1 = 25\n",
    "sample_var2 = 20\n",
    "sample_size1 = 10\n",
    "sample_size2 = 15\n",
    "significance_level = 0.10\n",
    "result = f_test(sample_var1, sample_var2, sample_size1, sample_size2, significance_level)\n",
    "if result:\n",
    "    print(\"The variances are significantly different.\")\n",
    "else:\n",
    "    print(\"The variances are not significantly different.\")"
   ]
  },
  {
   "cell_type": "markdown",
   "id": "3bf279a7-5ce8-4240-b946-1a860ff29344",
   "metadata": {},
   "source": [
    "Q8. The following data represent the waiting times in minutes at two different restaurants on a Saturday \n",
    "night: Restaurant A: 24, 25, 28, 23, 22, 20, 27; Restaurant B: 31, 33, 35, 30, 32, 36. Conduct an F-test at the 5% \n",
    "significance level to determine if the variances are significantly different."
   ]
  },
  {
   "cell_type": "code",
   "execution_count": 14,
   "id": "aeafc038-3d65-4db5-ad65-661253c18a11",
   "metadata": {},
   "outputs": [
    {
     "name": "stdout",
     "output_type": "stream",
     "text": [
      "The variances are not significantly different.\n"
     ]
    }
   ],
   "source": [
    "import numpy as np\n",
    "from scipy.stats import f\n",
    "\n",
    "def f_test(sample1, sample2, significance_level):\n",
    "\n",
    "    sample1 = np.array(sample1)\n",
    "    sample2 = np.array(sample2)\n",
    "    sample_var1 = np.var(sample1, ddof=1)\n",
    "    sample_var2 = np.var(sample2, ddof=1)\n",
    "\n",
    "    dfn = len(sample1) - 1\n",
    "    dfd = len(sample2) - 1\n",
    "    F_statistic = sample_var1 / sample_var2\n",
    "    critical_F = f.ppf(1 - significance_level / 2, dfn, dfd)\n",
    "    is_different = F_statistic > critical_F\n",
    "\n",
    "    return is_different\n",
    "\n",
    "waiting_times_restaurant_a = [24, 25, 28, 23, 22, 20, 27]\n",
    "waiting_times_restaurant_b = [31, 33, 35, 30, 32, 36]\n",
    "significance_level = 0.05\n",
    "result = f_test(waiting_times_restaurant_a, waiting_times_restaurant_b, significance_level)\n",
    "if result:\n",
    "    print(\"The variances are significantly different.\")\n",
    "else:\n",
    "    print(\"The variances are not significantly different.\")"
   ]
  },
  {
   "cell_type": "markdown",
   "id": "5b2a1d7d-caa1-4c81-ac89-ccb3af93b545",
   "metadata": {},
   "source": [
    "Q9. The following data represent the test scores of two groups of students: Group A: 80, 85, 90, 92, 87, 83; \n",
    "Group B: 75, 78, 82, 79, 81, 84. Conduct an F-test at the 1% significance level to determine if the variances \n",
    "are significantly different."
   ]
  },
  {
   "cell_type": "code",
   "execution_count": 15,
   "id": "a5cfae66-0831-41a8-a41f-e565bf62f246",
   "metadata": {},
   "outputs": [
    {
     "name": "stdout",
     "output_type": "stream",
     "text": [
      "The variances are not significantly different.\n"
     ]
    }
   ],
   "source": [
    "import numpy as np\n",
    "from scipy.stats import f\n",
    "\n",
    "def f_test(sample1, sample2, significance_level):\n",
    "\n",
    "    sample1 = np.array(sample1)\n",
    "    sample2 = np.array(sample2)\n",
    "\n",
    "    sample_var1 = np.var(sample1, ddof=1)\n",
    "    sample_var2 = np.var(sample2, ddof=1)\n",
    "\n",
    "    dfn = len(sample1) - 1\n",
    "    dfd = len(sample2) - 1\n",
    "\n",
    "    F_statistic = sample_var1 / sample_var2\n",
    "    critical_F = f.ppf(1 - significance_level / 2, dfn, dfd)\n",
    "    is_different = F_statistic > critical_F\n",
    "\n",
    "    return is_different\n",
    "\n",
    "group_a_scores = [80, 85, 90, 92, 87, 83]\n",
    "group_b_scores = [75, 78, 82, 79, 81, 84]\n",
    "significance_level = 0.01  \n",
    "result = f_test(group_a_scores, group_b_scores, significance_level)\n",
    "if result:\n",
    "    print(\"The variances are significantly different.\")\n",
    "else:\n",
    "    print(\"The variances are not significantly different.\")"
   ]
  },
  {
   "cell_type": "code",
   "execution_count": null,
   "id": "1bd211e3-0c47-4b07-83a8-55bcf214731a",
   "metadata": {},
   "outputs": [],
   "source": []
  }
 ],
 "metadata": {
  "kernelspec": {
   "display_name": "Python 3 (ipykernel)",
   "language": "python",
   "name": "python3"
  },
  "language_info": {
   "codemirror_mode": {
    "name": "ipython",
    "version": 3
   },
   "file_extension": ".py",
   "mimetype": "text/x-python",
   "name": "python",
   "nbconvert_exporter": "python",
   "pygments_lexer": "ipython3",
   "version": "3.10.8"
  }
 },
 "nbformat": 4,
 "nbformat_minor": 5
}
