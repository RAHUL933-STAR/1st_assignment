{
 "cells": [
  {
   "cell_type": "markdown",
   "id": "813c7491-84de-4a4f-87ed-722764d802ea",
   "metadata": {},
   "source": [
    "Q1. What is the Probability density function?"
   ]
  },
  {
   "cell_type": "code",
   "execution_count": 1,
   "id": "e0a9b3d1-06fb-4d59-9fd8-937cfd38f584",
   "metadata": {},
   "outputs": [],
   "source": [
    "# The Probability Density Function (PDF) is a fundamental concept used to describe the likelihood of a continuous random variable taking on a particular value. \n",
    "#  It gives us the probability of the random variable falling within a certain range of values."
   ]
  },
  {
   "cell_type": "markdown",
   "id": "eb3ed2a1-28e0-4456-a177-a118d283d74e",
   "metadata": {},
   "source": [
    "Q2. What are the types of Probability distribution?"
   ]
  },
  {
   "cell_type": "code",
   "execution_count": 2,
   "id": "dc103633-3f79-419d-aa66-c6086c8a9714",
   "metadata": {},
   "outputs": [],
   "source": [
    "## Discrete Probability Distributions:\n",
    "\n",
    "#  Discrete probability distributions are used when the random variable can only take on a finite or countable number of distinct values. \n",
    "#  The probabilities are assigned to each possible value of the random variable. Some common discrete probability distributions include:\n",
    "\n",
    "# a) Bernoulli Distribution: Describes a random variable with two possible outcomes (e.g., success or failure) and a single probability of success.\n",
    "# b) Binomial Distribution: Models the number of successes in a fixed number of independent Bernoulli trials.\n",
    "# c) Poisson Distribution: Used to model the number of events that occur in a fixed interval of time or space, given a constant average rate of occurrence.\n",
    "\n",
    "## Continuous Probability Distributions:\n",
    "\n",
    "# Continuous probability distributions are used when the random variable can take on any value within a specified range. \n",
    "#  The probabilities are represented by the area under the probability density function (PDF) curve. Some common continuous probability distributions include:\n",
    "\n",
    "# a) Normal Distribution (Gaussian Distribution): One of the most widely used distributions, characterized by its bell-shaped curve.\n",
    "# b) Uniform Distribution: The probabilities of all values in a specified range are constant.\n",
    "# c) Exponential Distribution: Often used to model the time between events in a Poisson process."
   ]
  },
  {
   "cell_type": "markdown",
   "id": "1921dab7-825f-4b5c-a592-793830bb3549",
   "metadata": {},
   "source": [
    "Q3. Write a Python function to calculate the probability density function of a normal distribution with \n",
    "given mean and standard deviation at a given point."
   ]
  },
  {
   "cell_type": "code",
   "execution_count": 4,
   "id": "73a08240-7a7c-4f91-92b1-1a14196fd20f",
   "metadata": {},
   "outputs": [
    {
     "name": "stdout",
     "output_type": "stream",
     "text": [
      "The PDF of the normal distribution at x = 1.5 is: 0.1295\n"
     ]
    }
   ],
   "source": [
    "from scipy.stats import norm\n",
    "\n",
    "def normal_pdf(x, mean, std_dev):\n",
    "    pdf_value = norm.pdf(x, loc=mean, scale=std_dev)\n",
    "    return pdf_value\n",
    "mean1 = 0.0\n",
    "std_dev1 = 1.0\n",
    "x1 = 1.5\n",
    "pdf_at_x1 = normal_pdf(x1, mean1, std_dev1)\n",
    "print(f\"The PDF of the normal distribution at x = {x1} is: {pdf_at_x1:.4f}\")"
   ]
  },
  {
   "cell_type": "markdown",
   "id": "810b09d0-339d-4119-857e-b578b7bce5ab",
   "metadata": {},
   "source": [
    "Q4. What are the properties of Binomial distribution? Give two examples of events where binomial \n",
    "distribution can be applied."
   ]
  },
  {
   "cell_type": "code",
   "execution_count": 5,
   "id": "d5581442-a2dc-4732-98ef-97c10f29e3c7",
   "metadata": {},
   "outputs": [],
   "source": [
    "## Properties of the Binomial distribution:\n",
    "\n",
    "# 1) Fixed Number of Trials: The Binomial distribution is defined for a fixed number of trials, denoted by \"n\". Each trial is independent of others.\n",
    "\n",
    "# 2) Two Possible Outcomes: Each trial can result in either a success or a failure.\n",
    "\n",
    "# 3) Constant Probability: The probability of success, denoted by \"p,\" remains constant across all trials. The probability of failure is q = 1 - p.\n",
    "\n",
    "# 4) Discrete: The Binomial distribution is a discrete probability distribution, meaning it deals with whole number values.\n",
    "\n",
    "## Two examples of events where the Binomial distribution can be applied:\n",
    "\n",
    "# 1) Coin Tossing: Consider flipping a fair coin (where the probability of getting heads or tails is 0.5) 10 times. The number of heads obtained in these 10 flips \n",
    "#                  follows a Binomial distribution with parameters n = 10 (number of trials) and p = 0.5 (probability of getting heads).\n",
    "\n",
    "# 2) Quality Control: In a manufacturing process, items are produced and tested for quality. Let's say that 90% of the items pass the quality test. \n",
    "#                     If we randomly select 20 items from the production batch and count the number of items that pass the test, the number of passing\n",
    "#                     items follows a Binomial distribution with parameters n = 20 (number of trials) and p = 0.9 (probability of passing the quality test)."
   ]
  },
  {
   "cell_type": "markdown",
   "id": "f24b0c31-47bf-4bf5-8ef0-64065998644c",
   "metadata": {},
   "source": [
    "Q5. Generate a random sample of size 1000 from a binomial distribution with probability of success 0.4 \n",
    "and plot a histogram of the results using matplotlib."
   ]
  },
  {
   "cell_type": "code",
   "execution_count": 6,
   "id": "1a630c30-0230-466b-a55a-fe1ec8763efa",
   "metadata": {},
   "outputs": [
    {
     "data": {
      "image/png": "[encoded data removed]",
      "text/plain": [
       "<Figure size 640x480 with 1 Axes>"
      ]
     },
     "metadata": {},
     "output_type": "display_data"
    }
   ],
   "source": [
    "import numpy as np\n",
    "import matplotlib.pyplot as plt\n",
    "\n",
    "\n",
    "probability_of_success = 0.4\n",
    "sample_size = 1000\n",
    "random_sample = np.random.binomial(1, probability_of_success, sample_size)\n",
    "\n",
    "plt.hist(random_sample, bins=[-0.5, 0.5, 1.5], align='mid', rwidth=0.8, color='skyblue', edgecolor='black')\n",
    "plt.xticks([0, 1], ['Failure (0)', 'Success (1)'])\n",
    "plt.xlabel('Outcome')\n",
    "plt.ylabel('Frequency')\n",
    "plt.title(f'Binomial Distribution (p = {probability_of_success}, n = {sample_size})')\n",
    "plt.grid(axis='y', linestyle='--', alpha=0.7)"
   ]
  },
  {
   "cell_type": "markdown",
   "id": "18c56198-0b14-4b63-8284-386804aeeb43",
   "metadata": {},
   "source": [
    "Q6. Write a Python function to calculate the cumulative distribution function of a Poisson distribution \n",
    "with given mean at a given point"
   ]
  },
  {
   "cell_type": "code",
   "execution_count": 7,
   "id": "6f236cd7-516f-425a-9571-8fe77c40b7be",
   "metadata": {},
   "outputs": [
    {
     "name": "stdout",
     "output_type": "stream",
     "text": [
      "The CDF of the Poisson distribution at x = 4 is: 0.7254\n"
     ]
    }
   ],
   "source": [
    "from scipy.stats import poisson\n",
    "\n",
    "def poisson_cdf(x, mean):\n",
    "    cdf_value = poisson.cdf(x, mu=mean)\n",
    "    return cdf_value\n",
    "\n",
    "mean = 3.5\n",
    "x = 4\n",
    "cdf_at_x = poisson_cdf(x, mean)\n",
    "print(f\"The CDF of the Poisson distribution at x = {x} is: {cdf_at_x:.4f}\")"
   ]
  },
  {
   "cell_type": "markdown",
   "id": "fa0ca1e0-910b-4ea7-b20d-d0a7ff6e669d",
   "metadata": {},
   "source": [
    "Q7. How Binomial distribution different from Poisson distribution?"
   ]
  },
  {
   "cell_type": "code",
   "execution_count": 8,
   "id": "796b3a79-e87f-4005-b8e5-994e9d8c5fa3",
   "metadata": {},
   "outputs": [],
   "source": [
    "# They have distinct characteristics and are used in different scenarios.\n",
    "\n",
    "## Definition and Assumptions:\n",
    "\n",
    "# Binomial Distribution: The Binomial distribution models the number of successes in a fixed number of independent trials, where each \n",
    "#                         trial has two possible outcomes (success or failure) and the probability of success remains constant across all trials.\n",
    "# Poisson Distribution: The Poisson distribution models the number of events that occur in a fixed interval of time or space, given a constant\n",
    "#                        average rate of occurrence. It is used when events occur independently and at a constant average rate within a specific interval.\n",
    "\n",
    "## Number of Trials or Events:\n",
    "\n",
    "# Binomial Distribution: The Binomial distribution deals with a fixed number of trials (n) or events.\n",
    "# Poisson Distribution: The Poisson distribution does not have a fixed number of trials but rather describes the number of events occurring within a fixed interval.\n",
    "\n",
    "## Nature of Events:\n",
    "\n",
    "# Binomial Distribution: The Binomial distribution is used when each trial has only two possible outcomes (e.g., success or failure).\n",
    "# Poisson Distribution: The Poisson distribution is used when the number of events occurring in a fixed interval can be any non-negative integer."
   ]
  },
  {
   "cell_type": "markdown",
   "id": "b4504c19-0317-41ef-8a3d-96de1d83b39f",
   "metadata": {},
   "source": [
    "Q8. Generate a random sample of size 1000 from a Poisson distribution with mean 5 and calculate the \n",
    "sample mean and variance."
   ]
  },
  {
   "cell_type": "code",
   "execution_count": 10,
   "id": "d5b56690-1264-4dea-8f80-612954757044",
   "metadata": {},
   "outputs": [
    {
     "name": "stdout",
     "output_type": "stream",
     "text": [
      "Sample Mean: 4.9470\n",
      "Sample Variance: 4.8871\n"
     ]
    }
   ],
   "source": [
    "import numpy as np\n",
    "\n",
    "mean = 5\n",
    "sample_size = 1000\n",
    "\n",
    "random_sample = np.random.poisson(mean, sample_size)\n",
    "\n",
    "sample_mean = np.mean(random_sample)\n",
    "sample_variance = np.var(random_sample, ddof=1)  \n",
    "\n",
    "print(f\"Sample Mean: {sample_mean:.4f}\")\n",
    "print(f\"Sample Variance: {sample_variance:.4f}\")"
   ]
  },
  {
   "cell_type": "markdown",
   "id": "af2ab24e-2217-4209-ac7e-ed99d6a0f5af",
   "metadata": {},
   "source": [
    "Q9. How mean and variance are related in Binomial distribution and Poisson distribution?"
   ]
  },
  {
   "cell_type": "code",
   "execution_count": 11,
   "id": "e5b70977-8874-4702-a1ba-52364c2c11fe",
   "metadata": {},
   "outputs": [],
   "source": [
    "# Their specific relationships differ due to the distinct nature of these distributions.\n",
    "\n",
    "## Binomial Distribution:\n",
    "\n",
    "# Mean (μ): For a binomial distribution with parameters n (number of trials) and p (probability of success in a single trial), the mean is given by μ = n * p.\n",
    "# Variance (σ^2): The variance of a binomial distribution is given by σ^2 = n * p * (1 - p).\n",
    "\n",
    "# In a binomial distribution, the variance depends on both the number of trials (n) and the probability of success in a single trial (p).\n",
    "# As p approaches 0 or 1, the variance decreases, and when p is close to 0.5, the variance is maximized.\n",
    "\n",
    "## Poisson Distribution:\n",
    "\n",
    "# Mean (μ): For a Poisson distribution, the mean (λ) is equal to both the median and the mode of the distribution. It represents the average rate of occurrence of events in a fixed interval of time or space.\n",
    "# Variance (σ^2): The variance of a Poisson distribution is also equal to its mean, which means σ^2 = μ = λ.\n",
    "\n",
    "# In a Poisson distribution, the variance is equal to the mean (λ), regardless of the specific value of λ. This unique property of the Poisson \n",
    "# distribution is known as equidispersion. If the Poisson distribution represents rare events (low λ) or common events (high λ), the variance will still be equal to λ."
   ]
  },
  {
   "cell_type": "markdown",
   "id": "4ae74504-7f78-458b-8972-660023c42df7",
   "metadata": {},
   "source": [
    "Q10. In normal distribution with respect to mean position, where does the least frequent data appear?"
   ]
  },
  {
   "cell_type": "code",
   "execution_count": 12,
   "id": "e6857059-de0d-4263-a3c7-84890c6e40be",
   "metadata": {},
   "outputs": [],
   "source": [
    "## In a normal distribution, the data is symmetrically distributed around the mean. The least frequent data appears in the tails of the distribution, farthest from the mean.\n",
    "\n",
    "## In a standard normal distribution (a normal distribution with a mean of 0 and a standard deviation of 1), approximately 68% of the data falls\n",
    "#  within one standard deviation from the mean, 95% within two standard deviations, and 99.7% within three standard deviations.\n",
    "\n",
    "## This means that only a small percentage (approximately 0.15%) of data lies more than three standard deviations away from the mean on either side \n",
    "#  (in the tails of the distribution). These extreme data points, located in the tails, are the least frequent and are considered outliers.\n",
    "\n",
    "## In a normal distribution, the probability density function (PDF) reaches its peak at the mean, and the density gradually decreases as you move \n",
    "#  away from the mean in both directions. This is why extreme values are less frequent since there is less data in the tails of the distribution."
   ]
  },
  {
   "cell_type": "code",
   "execution_count": null,
   "id": "300d6522-bd61-4478-8e69-e0dfbdf60439",
   "metadata": {},
   "outputs": [],
   "source": []
  }
 ],
 "metadata": {
  "kernelspec": {
   "display_name": "Python 3 (ipykernel)",
   "language": "python",
   "name": "python3"
  },
  "language_info": {
   "codemirror_mode": {
    "name": "ipython",
    "version": 3
   },
   "file_extension": ".py",
   "mimetype": "text/x-python",
   "name": "python",
   "nbconvert_exporter": "python",
   "pygments_lexer": "ipython3",
   "version": "3.10.8"
  }
 },
 "nbformat": 4,
 "nbformat_minor": 5
}
