{
 "cells": [
  {
   "cell_type": "markdown",
   "id": "1c975c23-25d5-486e-a212-8b1342317417",
   "metadata": {},
   "source": [
    "Q1. What is multiprocessing in python? Why is it useful?"
   ]
  },
  {
   "cell_type": "code",
   "execution_count": 2,
   "id": "6f6de6da-48a6-4e9e-90bb-e7bd5311d817",
   "metadata": {},
   "outputs": [],
   "source": [
    "# In Python, multiprocessing is a module that enables the execution of multiple processes in parallel, allowing for true parallelism on systems with multiple CPU cores or processors.\n",
    "# usage :- Each process created with multiprocessing has its own memory space, allowing for better isolation between processes."
   ]
  },
  {
   "cell_type": "markdown",
   "id": "99da8233-2e39-44e9-8ffb-b51ddee61360",
   "metadata": {},
   "source": [
    "Q2. What are the differences between multiprocessing and multithreading?"
   ]
  },
  {
   "cell_type": "code",
   "execution_count": 3,
   "id": "946796b5-c2c7-4dff-9559-79e508cbff90",
   "metadata": {},
   "outputs": [],
   "source": [
    "# In multiprocessing, multiple processes are created, each with its own memory space and resources. \n",
    "#  In multithreading, multiple threads are created within a single process, sharing the same memory space and resources. "
   ]
  },
  {
   "cell_type": "markdown",
   "id": "64c7f05d-0482-461e-88a2-75d3bf7ad7d2",
   "metadata": {},
   "source": [
    "Q3. Write a python code to create a process using the multiprocessing module."
   ]
  },
  {
   "cell_type": "code",
   "execution_count": 5,
   "id": "07cfd4a6-87b8-4649-8a96-0ac50b88d337",
   "metadata": {},
   "outputs": [
    {
     "name": "stdout",
     "output_type": "stream",
     "text": [
      "this is my own main program\n",
      "this is my first own code of multiprocessing\n"
     ]
    }
   ],
   "source": [
    "import multiprocessing\n",
    "def code ():\n",
    "    print(\"this is my first own code of multiprocessing\")\n",
    "    \n",
    "if __name__ == '__main__':\n",
    "    R = multiprocessing.Process(target=code)\n",
    "    print(\"this is my own main program\")\n",
    "    R.start()\n",
    "    R.join()\n",
    "    \n"
   ]
  },
  {
   "cell_type": "markdown",
   "id": "c78525e7-e471-4413-b890-7df12f1791a8",
   "metadata": {},
   "source": [
    "Q4. What is a multiprocessing pool in python? Why is it used?"
   ]
  },
  {
   "cell_type": "code",
   "execution_count": 6,
   "id": "fde1ead6-d6b7-4d65-86e9-79cee3a42d48",
   "metadata": {},
   "outputs": [],
   "source": [
    "# In Python, a multiprocessing pool is a feature provided by the multiprocessing module that allows for the concurrent execution of multiple tasks or functions in a pool of worker processes. \n",
    "# usage :- The Pool object takes a parameter specifying the number of worker processes to create."
   ]
  },
  {
   "cell_type": "markdown",
   "id": "473eda65-f8f5-4b89-b2f5-5143791db79d",
   "metadata": {},
   "source": [
    "Q5. How can we create a pool of worker processes in python using the multiprocessing module?"
   ]
  },
  {
   "cell_type": "code",
   "execution_count": 8,
   "id": "d8c97d3b-73e9-46e4-9e46-e3444c095be9",
   "metadata": {},
   "outputs": [
    {
     "name": "stdout",
     "output_type": "stream",
     "text": [
      "[1331, 1728, 32768, 125, 216]\n"
     ]
    }
   ],
   "source": [
    "import multiprocessing\n",
    "def cubes(n):\n",
    "    return n**3\n",
    "\n",
    "if __name__ == '__main__':\n",
    "    with multiprocessing.Pool(processes=4) as pool:\n",
    "        out = pool.map(cubes, [11, 12, 32, 5, 6])\n",
    "        print(out)"
   ]
  },
  {
   "cell_type": "markdown",
   "id": "3847ebe4-fdc3-42cd-97c7-5df285b6a1e2",
   "metadata": {},
   "source": [
    "Q6. Write a python program to create 4 processes, each process should print a different number using the \n",
    "multiprocessing module in python"
   ]
  },
  {
   "cell_type": "code",
   "execution_count": 11,
   "id": "2b8b85b7-859d-49a3-a660-5b233e451840",
   "metadata": {},
   "outputs": [
    {
     "name": "stdout",
     "output_type": "stream",
     "text": [
      "Process ID: 1285 - Number: 1\n",
      "Process ID: 1288 - Number: 2\n",
      "Process ID: 1293 - Number: 3\n",
      "Process ID: 1298 - Number: 4\n"
     ]
    }
   ],
   "source": [
    "import multiprocessing\n",
    "\n",
    "def print_number(num):\n",
    "    print(f\"Process ID: {multiprocessing.current_process().pid} - Number: {num}\")\n",
    "\n",
    "if __name__ == '__main__':\n",
    "    numbers = [1, 2, 3, 4]\n",
    "    processes = []\n",
    "\n",
    "    for num in numbers:\n",
    "        process = multiprocessing.Process(target=print_number, args=(num,))\n",
    "        process.start()\n",
    "        processes.append(process)\n",
    "\n",
    "    for process in processes:\n",
    "        process.join()"
   ]
  },
  {
   "cell_type": "code",
   "execution_count": null,
   "id": "79577ae9-ff28-42ce-9941-2112ffc50a01",
   "metadata": {},
   "outputs": [],
   "source": []
  }
 ],
 "metadata": {
  "kernelspec": {
   "display_name": "Python 3 (ipykernel)",
   "language": "python",
   "name": "python3"
  },
  "language_info": {
   "codemirror_mode": {
    "name": "ipython",
    "version": 3
   },
   "file_extension": ".py",
   "mimetype": "text/x-python",
   "name": "python",
   "nbconvert_exporter": "python",
   "pygments_lexer": "ipython3",
   "version": "3.10.8"
  }
 },
 "nbformat": 4,
 "nbformat_minor": 5
}
