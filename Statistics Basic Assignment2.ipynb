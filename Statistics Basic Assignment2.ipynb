{
 "cells": [
  {
   "cell_type": "markdown",
   "id": "aa660b85-ed1b-4ee5-b916-c0a66b49e985",
   "metadata": {},
   "source": [
    "Q1. What are the three measures of central tendency?"
   ]
  },
  {
   "cell_type": "code",
   "execution_count": 1,
   "id": "6b454507-209c-48dc-972c-20a8beb17936",
   "metadata": {},
   "outputs": [],
   "source": [
    "# The three measures of central tendency are:\n",
    "\n",
    "# 1) Mean: The mean is calculated by summing up all the values in a dataset and dividing the sum by the total number of values. \n",
    "#          It represents the average or the arithmetic mean of the data. \n",
    "\n",
    "# The formula for the mean is:\n",
    "# Mean = (sum of all values) / (number of values)\n",
    "\n",
    "# 2) Median: The median is the middle value in a dataset when it is arranged in ascending or descending order. \n",
    "#            If the dataset has an odd number of values, the median is the middle value. If the dataset has an even number of values, \n",
    "#            the median is the average of the two middle values. \n",
    "#            The median is less affected by extreme values or outliers compared to the mean.\n",
    "\n",
    "# 3) Mode: The mode is the value that appears most frequently in a dataset. In other words, it is the value that has the highest frequency.\n",
    "#          A dataset can have no mode if all the values occur with the same frequency (no value repeats more than any other), or \n",
    "#          it can have multiple modes if multiple values have the same highest frequency. \n",
    "#          The mode is useful for categorical or discrete data but can also be applied to continuous data."
   ]
  },
  {
   "cell_type": "markdown",
   "id": "cf5a7020-f0ac-4168-b261-4180517fb6d6",
   "metadata": {},
   "source": [
    "Q2. What is the difference between the mean, median, and mode? How are they used to measure the \n",
    "central tendency of a dataset?\n"
   ]
  },
  {
   "cell_type": "code",
   "execution_count": 2,
   "id": "baa88584-9b63-4312-a696-d4ec7d442e2b",
   "metadata": {},
   "outputs": [],
   "source": [
    "# Here's the differences and their usage:\n",
    "\n",
    "## Mean:\n",
    "\n",
    "#  Definition: The mean is the sum of all values in a dataset divided by the total number of values.\n",
    "#  Calculation: Mean = (sum of all values) / (number of values)\n",
    "\n",
    "## Usage: The mean provides the average value of the dataset. It is commonly used when the data is numerical and continuous, and there are no extreme \n",
    "#         outliers that significantly affect the overall average. The mean takes into account all values, giving equal weight to each observation.\n",
    "\n",
    "# Median:\n",
    "\n",
    "# Definition: The median is the middle value in a dataset when the values are arranged in ascending or descending order.\n",
    "# Calculation: To find the median, the data must be sorted first. If the dataset has an odd number of values, the median is the middle value. \n",
    "#              If the dataset has an even number of values, the median is the average of the two middle values.\n",
    "\n",
    "# Usage: The median is useful when the dataset has extreme values or outliers that could heavily influence the mean. It represents the middle value \n",
    "#        of the dataset, which makes it resistant to outliers. It is often used with skewed or non-normally distributed data.\n",
    "\n",
    "# Mode:\n",
    "\n",
    "# Definition: The mode is the value that appears most frequently in a dataset.\n",
    "# Calculation: The mode is determined by identifying the value with the highest frequency in the dataset.\n",
    "\n",
    "# Usage: The mode is used to identify the most common or frequent value in a dataset. It is suitable for both numerical and categorical data. \n",
    "#        The mode can provide insights into the dominant category or value within a dataset, and it is especially useful for discrete or qualitative data.\n",
    "\n",
    "\n",
    "# These measures help summarize the central tendency of a dataset in different ways. The mean provides an average value, the median represents the \n",
    "# middle value, and the mode identifies the most common value. "
   ]
  },
  {
   "cell_type": "markdown",
   "id": "ad399c77-096a-4395-a46a-87dbf283268e",
   "metadata": {},
   "source": [
    "Q3. Measure the three measures of central tendency for the given height data:\n",
    "\n",
    " [178,177,176,177,178.2,178,175,179,180,175,178.9,176.2,177,172.5,178,176.5]"
   ]
  },
  {
   "cell_type": "code",
   "execution_count": 4,
   "id": "e6a1df7c-19b6-4810-8ac1-70ecfc1cd25a",
   "metadata": {},
   "outputs": [],
   "source": [
    "import numpy as np\n",
    "\n",
    "height_data = [178,177,176,177,178.2,178,175,179,180,175,178.9,176.2,177,172.5,178,176.5]"
   ]
  },
  {
   "cell_type": "code",
   "execution_count": 5,
   "id": "205be4eb-1abe-461a-ae68-5c58b04503cf",
   "metadata": {},
   "outputs": [
    {
     "data": {
      "text/plain": [
       "177.01875"
      ]
     },
     "execution_count": 5,
     "metadata": {},
     "output_type": "execute_result"
    }
   ],
   "source": [
    "np.mean(height_data)"
   ]
  },
  {
   "cell_type": "code",
   "execution_count": 6,
   "id": "54d0ca18-cdc2-4e5c-a37a-620cfa0e9b7d",
   "metadata": {},
   "outputs": [
    {
     "data": {
      "text/plain": [
       "177.0"
      ]
     },
     "execution_count": 6,
     "metadata": {},
     "output_type": "execute_result"
    }
   ],
   "source": [
    "np.median(height_data)"
   ]
  },
  {
   "cell_type": "code",
   "execution_count": 7,
   "id": "90def5a6-839b-4dc4-8e58-d8006288f6a2",
   "metadata": {},
   "outputs": [],
   "source": [
    "from scipy import stats"
   ]
  },
  {
   "cell_type": "code",
   "execution_count": 8,
   "id": "f661f199-7dc2-410a-9c7f-92461ce7f364",
   "metadata": {},
   "outputs": [
    {
     "name": "stderr",
     "output_type": "stream",
     "text": [
      "/tmp/ipykernel_119/2661021712.py:1: FutureWarning: Unlike other reduction functions (e.g. `skew`, `kurtosis`), the default behavior of `mode` typically preserves the axis it acts along. In SciPy 1.11.0, this behavior will change: the default value of `keepdims` will become False, the `axis` over which the statistic is taken will be eliminated, and the value None will no longer be accepted. Set `keepdims` to True or False to avoid this warning.\n",
      "  stats.mode(height_data)\n"
     ]
    },
    {
     "data": {
      "text/plain": [
       "ModeResult(mode=array([177.]), count=array([3]))"
      ]
     },
     "execution_count": 8,
     "metadata": {},
     "output_type": "execute_result"
    }
   ],
   "source": [
    "stats.mode(height_data)"
   ]
  },
  {
   "cell_type": "markdown",
   "id": "d8fa9c30-8c27-4f3a-b988-310fb8f6870b",
   "metadata": {},
   "source": [
    "Q4. Find the standard deviation for the given data:\n",
    "\n",
    "[178,177,176,177,178.2,178,175,179,180,175,178.9,176.2,177,172.5,178,176.5]"
   ]
  },
  {
   "cell_type": "code",
   "execution_count": 9,
   "id": "4442da63-7b62-46b7-a334-a538af56b1fa",
   "metadata": {},
   "outputs": [],
   "source": [
    "standard_deviation = [178,177,176,177,178.2,178,175,179,180,175,178.9,176.2,177,172.5,178,176.5]"
   ]
  },
  {
   "cell_type": "code",
   "execution_count": 11,
   "id": "17bb84cb-aa22-488d-b39e-abea6f4678d0",
   "metadata": {},
   "outputs": [
    {
     "data": {
      "text/plain": [
       "1.7885814036548633"
      ]
     },
     "execution_count": 11,
     "metadata": {},
     "output_type": "execute_result"
    }
   ],
   "source": [
    "import numpy as np\n",
    "np.std(standard_deviation)"
   ]
  },
  {
   "cell_type": "markdown",
   "id": "97fff773-c70c-4e59-aa42-276f39631330",
   "metadata": {},
   "source": [
    "Q5. How are measures of dispersion such as range, variance, and standard deviation used to describe \n",
    "the spread of a dataset? Provide an example."
   ]
  },
  {
   "cell_type": "code",
   "execution_count": 12,
   "id": "4e17853e-1a1e-4475-918e-42c4246c26e2",
   "metadata": {},
   "outputs": [],
   "source": [
    "## Range:\n",
    "\n",
    "# Definition: The range is the difference between the maximum and minimum values in a dataset.\n",
    "\n",
    "# Usage: The range gives a rough estimate of the spread of the data. A larger range indicates a wider spread, while a smaller range \n",
    "#        suggests a narrower spread. \n",
    "\n",
    "## Variance:\n",
    "\n",
    "# Definition: Variance measures the average squared deviation from the mean in a dataset.\n",
    "# Calculation: Variance = (sum of squared deviations from the mean) / (number of values)\n",
    "\n",
    "# Usage: The variance quantifies the spread of the data by considering how far each value is from the mean. \n",
    "\n",
    "## Standard Deviation:\n",
    "\n",
    "# Definition: The standard deviation is the square root of the variance.\n",
    "# Calculation: Standard Deviation = √(variance)\n",
    "\n",
    "# Usage: The standard deviation is a widely used measure of dispersion. It represents the average deviation from the mean in the original unit of measurement.\n",
    "\n",
    "\n",
    "## Example:\n",
    "# Consider the following dataset of test scores: [85, 90, 78, 82, 92, 88, 79, 95]\n",
    "\n",
    "# Range: The maximum value is 95, and the minimum value is 78. Therefore, the range is 95 - 78 = 17.\n",
    "# Variance: By calculating the variance, we find that it is approximately 34.57.\n",
    "# Standard Deviation: Taking the square root of the variance, we find that the standard deviation is approximately 5.88."
   ]
  },
  {
   "cell_type": "markdown",
   "id": "a4017a3b-0aa5-40c1-a242-4090a4657842",
   "metadata": {},
   "source": [
    "Q6. What is a Venn diagram?"
   ]
  },
  {
   "cell_type": "code",
   "execution_count": 13,
   "id": "3ae1618a-3422-492d-bb32-e3f3fc2ce234",
   "metadata": {},
   "outputs": [],
   "source": [
    "#  A Venn diagram is a visual representation of the relationships between different sets or groups of objects. \n",
    "#  It consists of overlapping circles or other closed shapes, with each circle representing a set or category. \n",
    "#  The overlapping regions represent the elements or items that are shared between the sets."
   ]
  },
  {
   "cell_type": "markdown",
   "id": "f29a0604-3a93-4729-b912-b500c9ec74a0",
   "metadata": {},
   "source": [
    "Q7. For the two given sets A = (2,3,4,5,6,7) & B = (0,2,6,8,10). Find:\n",
    "\n",
    "(i) \tA B\n",
    "\n",
    "(ii)\tA ⋃ B"
   ]
  },
  {
   "cell_type": "code",
   "execution_count": 14,
   "id": "33f0e3ec-5426-473c-b411-c3412cd08761",
   "metadata": {},
   "outputs": [],
   "source": [
    "# 1) Intersection of A and B is \"2 and 6\"\n",
    "\n",
    "# 2) A U B is \"0, 2, 3, 4, 5, 6, 7, 8, 10\""
   ]
  },
  {
   "cell_type": "markdown",
   "id": "6320a278-accc-4bae-9a29-0c91e83ecc8f",
   "metadata": {},
   "source": [
    "Q8. What do you understand about skewness in data?"
   ]
  },
  {
   "cell_type": "code",
   "execution_count": 15,
   "id": "e36c73c7-60b1-4477-b431-5554031bafbc",
   "metadata": {},
   "outputs": [],
   "source": [
    "## Skewness in data refers to the measure of asymmetry or departure from symmetry in a probability distribution. \n",
    "#  It indicates whether the data is skewed to the left (negatively skewed), skewed to the right (positively skewed), \n",
    "#  or symmetrically distributed."
   ]
  },
  {
   "cell_type": "markdown",
   "id": "8fb4f7ca-d6f5-4336-b183-0cf3f61e2057",
   "metadata": {},
   "source": [
    "Q9. If a data is right skewed then what will be the position of median with respect to mean?"
   ]
  },
  {
   "cell_type": "code",
   "execution_count": 16,
   "id": "1c250729-5d59-4c92-89a7-b3282f261eae",
   "metadata": {},
   "outputs": [],
   "source": [
    "# If a dataset is right-skewed, the median will typically be less than the mean.(mean > median > mode)"
   ]
  },
  {
   "cell_type": "markdown",
   "id": "b8c3c2d6-e839-42fd-9d68-35c011e4c66a",
   "metadata": {},
   "source": [
    "Q10. Explain the difference between covariance and correlation. How are these measures used in \n",
    "statistical analysis?"
   ]
  },
  {
   "cell_type": "code",
   "execution_count": 17,
   "id": "df6af0e4-bb3d-433c-9d02-b29eb38254be",
   "metadata": {},
   "outputs": [],
   "source": [
    "# some important differences :- \n",
    "\n",
    "# Definition:\n",
    "\n",
    "# Covariance: Covariance measures the extent to which two variables vary together. It quantifies the direction and magnitude of the linear \n",
    "#             relationship between the variables.\n",
    "# Correlation: Correlation measures the strength and direction of the linear relationship between two variables. It is a standardized measure \n",
    "#              that ranges from -1 to +1, making it easier to interpret and compare.\n",
    "\n",
    "# Scale:\n",
    "\n",
    "# Covariance: Covariance values are not standardized and depend on the scale of the variables. The magnitude of covariance is influenced \n",
    "#             by the units of measurement, making it difficult to compare covariance values across different datasets.\n",
    "# Correlation: Correlation coefficients are standardized, ranging from -1 to +1. This standardization allows for easy comparison and interpretation \n",
    "#              of the strength and direction of the relationship between variables, regardless of the units of measurement.\n",
    "\n",
    "# Interpretation:\n",
    "\n",
    "# Covariance: Covariance values can be positive, negative, or zero. A positive covariance indicates a positive relationship, where both variables \n",
    "#             tend to increase or decrease together. A negative covariance indicates an inverse relationship, where one variable tends to \n",
    "#             increase while the other decreases. A covariance close to zero suggests no linear relationship.\n",
    "# Correlation: Correlation coefficients range from -1 to +1. A correlation coefficient of +1 indicates a perfect positive linear relationship, \n",
    "#              -1 indicates a perfect negative linear relationship, and 0 indicates no linear relationship. The magnitude of the correlation \n",
    "#               coefficient represents the strength of the relationship, with values closer to 1 or -1 indicating a stronger association.\n",
    "\n",
    "## Use in Statistical Analysis :- \n",
    "\n",
    "# Covariance: Covariance is used in statistical analysis to assess the relationship between variables, identify the direction of the relationship, \n",
    "#             and evaluate the joint variability between variables. It is utilized in various calculations, such as estimating regression \n",
    "#             coefficients and assessing multicollinearity.\n",
    "\n",
    "# Correlation: Correlation is extensively used in statistical analysis to examine the strength and direction of the relationship between variables.\n",
    "#              It is employed to identify patterns, assess the predictive power of one variable on another, determine the strength of linear \n",
    "#              associations, and select variables for regression models. Correlation is also helpful in detecting outliers and influential observations."
   ]
  },
  {
   "cell_type": "markdown",
   "id": "8cf08f89-8318-4e4f-8cd4-3282295ead0e",
   "metadata": {},
   "source": [
    "Q11. What is the formula for calculating the sample mean? Provide an example calculation for a \n",
    "dataset."
   ]
  },
  {
   "cell_type": "code",
   "execution_count": 18,
   "id": "65591ced-875e-4f85-8ae4-a236312fd415",
   "metadata": {},
   "outputs": [],
   "source": [
    "# The formula for calculating the sample mean is as follows :-\n",
    "\n",
    "#  x̄ = (x₁ + x₂ + x₃ + ... + xₙ) / n\n",
    "#   where x₁, x₂, x₃, ..., xₙ are the individual data points in the dataset, and n is the total number of data points.\n",
    "\n",
    "## Example:\n",
    "\n",
    "# Consider the following dataset of test scores: [85, 90, 78, 82, 92, 88, 79, 95]\n",
    "\n",
    "# x̄ = (85 + 90 + 78 + 82 + 92 + 88 + 79 + 95) / 8\n",
    "# x̄ = 689 / 8\n",
    "#  x̄ ≈ 86.125\n",
    "\n",
    "# Therefore, the sample mean for the given dataset is approximately 86.125."
   ]
  },
  {
   "cell_type": "markdown",
   "id": "e8821990-d7e6-4691-a7bd-6e785585f858",
   "metadata": {},
   "source": [
    "Q12. For a normal distribution data what is the relationship between its measure of central tendency?"
   ]
  },
  {
   "cell_type": "code",
   "execution_count": 19,
   "id": "5dce7bff-3fcb-4e4c-b137-56ae22d3c568",
   "metadata": {},
   "outputs": [],
   "source": [
    "# For a normal distribution, the three measures of central tendency — mean, median, and mode — have a specific relationship:\n",
    "\n",
    "## Mean: In a normal distribution, the mean is located at the center of the distribution and coincides with the peak or highest point \n",
    "#        of the symmetric bell-shaped curve. It represents the average value of the data. The mean, median, and mode are all equal in a \n",
    "#        perfectly symmetrical normal distribution.\n",
    "\n",
    "## Median: The median of a normal distribution is also located at the center of the distribution, which is the same as the mean. \n",
    "#          Since a normal distribution is symmetric, the median divides the distribution into two equal halves. Therefore, in a normal distribution, \n",
    "#          the median is equal to the mean.\n",
    "\n",
    "## Mode: In a normal distribution, the mode is also located at the peak or highest point of the symmetric bell-shaped curve, which coincides \n",
    "#        with the mean and median. In a perfectly normal distribution, there is only one mode, which is the highest point of the distribution. \n",
    "#        Thus, in a normal distribution, the mode is equal to the mean and median."
   ]
  },
  {
   "cell_type": "markdown",
   "id": "ec2b2ae6-c59a-45b5-a21a-52d1ead79ba6",
   "metadata": {},
   "source": [
    "Q13. How is covariance different from correlation?"
   ]
  },
  {
   "cell_type": "code",
   "execution_count": 20,
   "id": "b87f4948-7e00-49fd-a40c-ad276864b624",
   "metadata": {},
   "outputs": [],
   "source": [
    "# Difference between covariance and correlation :- \n",
    "\n",
    "## Definition:\n",
    "\n",
    "# Covariance: Covariance measures the extent to which two variables vary together. It quantifies the direction and \n",
    "#             magnitude of the linear relationship between the variables.\n",
    "\n",
    "# Correlation: Correlation measures the strength and direction of the linear relationship between two variables. It is a \n",
    "#              standardized measure that ranges from -1 to +1, allowing for easy interpretation and comparison.\n",
    "\n",
    "## Scale:\n",
    "\n",
    "# Covariance: Covariance values are not standardized and depend on the units of measurement of the variables. The magnitude of covariance \n",
    "#             is influenced by the scales of the variables, making it difficult to compare covariances between different datasets or variables.\n",
    "\n",
    "# Correlation: Correlation coefficients are standardized, ranging from -1 to +1. This standardization allows for easy comparison and \n",
    "#              interpretation of the strength and direction of the relationship between variables, regardless of the units of measurement.\n",
    "\n",
    "## Interpretation:\n",
    "\n",
    "# Covariance: Covariance can take positive, negative, or zero values. A positive covariance indicates a positive relationship between the variables, \n",
    "#             where they tend to increase or decrease together. A negative covariance indicates an inverse relationship, where one variable \n",
    "#             tends to increase while the other decreases. A covariance close to zero suggests no linear relationship.\n",
    "\n",
    "# Correlation: Correlation coefficients range from -1 to +1. A correlation coefficient of +1 indicates a perfect positive linear relationship, \n",
    "#              -1 indicates a perfect negative linear relationship, and 0 indicates no linear relationship. The magnitude of the correlation \n",
    "#              coefficient represents the strength of the relationship, with values closer to 1 or -1 indicating a stronger association.\n",
    "\n",
    "## Interpretability and Comparability:\n",
    "\n",
    "# Covariance: Covariance values are not easily interpretable or comparable across datasets or variables because they are influenced by the\n",
    "#             units of measurement.\n",
    "\n",
    "# Correlation: Correlation coefficients are standardized, making them easily interpretable and comparable across different datasets or variables.\n",
    "\n",
    "## Usage:\n",
    "\n",
    "# Covariance: Covariance is useful in statistical analysis for assessing the relationship between variables, evaluating the joint v\n",
    "#             ariability between variables, and estimating regression coefficients. However, its interpretation is limited due to its lack of standardization.\n",
    "# Correlation: Correlation is widely used in statistical analysis to examine the strength and direction of the relationship between \n",
    "#               variables. It allows for comparisons, identifies patterns, assesses predictive power, and helps in decision-making."
   ]
  },
  {
   "cell_type": "markdown",
   "id": "e02827f9-93f8-426a-a99d-6e5052239a6e",
   "metadata": {},
   "source": [
    "Q14. How do outliers affect measures of central tendency and dispersion? Provide an example."
   ]
  },
  {
   "cell_type": "code",
   "execution_count": 21,
   "id": "7c886598-fec9-4044-bc3d-38571bb01e41",
   "metadata": {},
   "outputs": [],
   "source": [
    "## Measures of Central Tendency:\n",
    "\n",
    "# Mean: Outliers can greatly influence the mean. Since the mean is calculated by summing all the values and dividing by the total number of values, \n",
    "#       even a single outlier with a substantially large or small value can pull the mean towards it. This effect is particularly \n",
    "#       prominent when the dataset is relatively small.\n",
    "# Median: The median is less affected by outliers compared to the mean. It represents the middle value of a dataset when arranged in ascending or \n",
    "#         descending order. Outliers have minimal influence on the median unless they are extreme and affect the order of the dataset.\n",
    "# Mode: Outliers typically have no impact on the mode, as it represents the most frequent value(s) in the dataset. However, \n",
    "#       if an outlier occurs with high frequency, it can create a new mode or impact the existing mode(s).\n",
    "\n",
    "# Example:\n",
    "# Consider a dataset of exam scores: [85, 90, 78, 82, 92, 88, 79, 95, 98]. Suppose there is an outlier value of 98 in the dataset.\n",
    "\n",
    "# Mean: The presence of the outlier 98 significantly affects the mean. The sum of the values is 787, and dividing it by 9 (total number of values)\n",
    "#       gives a mean of approximately 87.4. However, if the outlier is removed, the mean reduces to approximately 85.8.\n",
    "# Median: The median remains relatively unaffected by the outlier. In this example, the median is 88, which remains the same regardless of the\n",
    "#         presence of the outlier.\n",
    "# Mode: The mode is also unaffected by the outlier since the most frequent value in the dataset is still 88.\n",
    "\n",
    "## Measures of Dispersion:\n",
    "\n",
    "# Range: Outliers can dramatically affect the range, which is the difference between the maximum and minimum values in a dataset. If an outlier \n",
    "#        has an exceptionally high or low value, it can significantly increase or decrease the range.\n",
    "# Variance and Standard Deviation: Outliers have a substantial impact on the variance and standard deviation. These measures quantify the spread \n",
    "#                                  or dispersion of the data around the mean. Outliers, being distant from the bulk of the data, can increase the v\n",
    "#                                  ariability and, consequently, the variance and standard deviation."
   ]
  },
  {
   "cell_type": "code",
   "execution_count": null,
   "id": "aaab4568-fbb9-47c6-a9a5-f3a4227bd615",
   "metadata": {},
   "outputs": [],
   "source": []
  }
 ],
 "metadata": {
  "kernelspec": {
   "display_name": "Python 3 (ipykernel)",
   "language": "python",
   "name": "python3"
  },
  "language_info": {
   "codemirror_mode": {
    "name": "ipython",
    "version": 3
   },
   "file_extension": ".py",
   "mimetype": "text/x-python",
   "name": "python",
   "nbconvert_exporter": "python",
   "pygments_lexer": "ipython3",
   "version": "3.10.8"
  }
 },
 "nbformat": 4,
 "nbformat_minor": 5
}
